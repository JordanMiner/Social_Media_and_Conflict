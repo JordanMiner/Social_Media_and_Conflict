{
 "cells": [
  {
   "cell_type": "code",
   "execution_count": 4,
   "id": "f8159c58",
   "metadata": {
    "scrolled": true
   },
   "outputs": [
    {
     "name": "stdout",
     "output_type": "stream",
     "text": [
      "Defaulting to user installation because normal site-packages is not writeable\n",
      "\u001b[33mWARNING: Ignoring invalid distribution -andas (/home/mrtcloud-8/.local/lib/python3.9/site-packages)\u001b[0m\n",
      "\u001b[33mWARNING: Ignoring invalid distribution -andas (/home/mrtcloud-8/.local/lib/python3.9/site-packages)\u001b[0m\n",
      "Requirement already satisfied: contractions in /home/mrtcloud-8/.local/lib/python3.9/site-packages (0.1.73)\n",
      "Requirement already satisfied: textsearch>=0.0.21 in /home/mrtcloud-8/.local/lib/python3.9/site-packages (from contractions) (0.0.24)\n",
      "Requirement already satisfied: pyahocorasick in /home/mrtcloud-8/.local/lib/python3.9/site-packages (from textsearch>=0.0.21->contractions) (2.0.0)\n",
      "Requirement already satisfied: anyascii in /home/mrtcloud-8/.local/lib/python3.9/site-packages (from textsearch>=0.0.21->contractions) (0.3.2)\n",
      "\u001b[33mWARNING: Ignoring invalid distribution -andas (/home/mrtcloud-8/.local/lib/python3.9/site-packages)\u001b[0m\n",
      "\u001b[33mWARNING: Ignoring invalid distribution -andas (/home/mrtcloud-8/.local/lib/python3.9/site-packages)\u001b[0m\n",
      "\u001b[33mWARNING: Ignoring invalid distribution -andas (/home/mrtcloud-8/.local/lib/python3.9/site-packages)\u001b[0m\n",
      "\u001b[33mWARNING: Ignoring invalid distribution -andas (/home/mrtcloud-8/.local/lib/python3.9/site-packages)\u001b[0m\n",
      "Defaulting to user installation because normal site-packages is not writeable\n",
      "\u001b[33mWARNING: Ignoring invalid distribution -andas (/home/mrtcloud-8/.local/lib/python3.9/site-packages)\u001b[0m\n",
      "\u001b[33mWARNING: Ignoring invalid distribution -andas (/home/mrtcloud-8/.local/lib/python3.9/site-packages)\u001b[0m\n",
      "Requirement already satisfied: textblob in /home/mrtcloud-8/.local/lib/python3.9/site-packages (0.17.1)\n",
      "Requirement already satisfied: nltk>=3.1 in /usr/local/anaconda3/lib/python3.9/site-packages (from textblob) (3.6.5)\n",
      "Requirement already satisfied: click in /usr/local/anaconda3/lib/python3.9/site-packages (from nltk>=3.1->textblob) (8.0.3)\n",
      "Requirement already satisfied: joblib in /home/mrtcloud-8/.local/lib/python3.9/site-packages (from nltk>=3.1->textblob) (1.3.2)\n",
      "Requirement already satisfied: regex>=2021.8.3 in /usr/local/anaconda3/lib/python3.9/site-packages (from nltk>=3.1->textblob) (2021.8.3)\n",
      "Requirement already satisfied: tqdm in /usr/local/anaconda3/lib/python3.9/site-packages (from nltk>=3.1->textblob) (4.62.3)\n",
      "\u001b[33mWARNING: Ignoring invalid distribution -andas (/home/mrtcloud-8/.local/lib/python3.9/site-packages)\u001b[0m\n",
      "\u001b[33mWARNING: Ignoring invalid distribution -andas (/home/mrtcloud-8/.local/lib/python3.9/site-packages)\u001b[0m\n",
      "\u001b[33mWARNING: Ignoring invalid distribution -andas (/home/mrtcloud-8/.local/lib/python3.9/site-packages)\u001b[0m\n",
      "\u001b[33mWARNING: Ignoring invalid distribution -andas (/home/mrtcloud-8/.local/lib/python3.9/site-packages)\u001b[0m\n",
      "Defaulting to user installation because normal site-packages is not writeable\n",
      "\u001b[33mWARNING: Ignoring invalid distribution -andas (/home/mrtcloud-8/.local/lib/python3.9/site-packages)\u001b[0m\n",
      "\u001b[33mWARNING: Ignoring invalid distribution -andas (/home/mrtcloud-8/.local/lib/python3.9/site-packages)\u001b[0m\n",
      "Requirement already satisfied: emoji in /home/mrtcloud-8/.local/lib/python3.9/site-packages (2.10.1)\n",
      "\u001b[33mWARNING: Ignoring invalid distribution -andas (/home/mrtcloud-8/.local/lib/python3.9/site-packages)\u001b[0m\n",
      "\u001b[33mWARNING: Ignoring invalid distribution -andas (/home/mrtcloud-8/.local/lib/python3.9/site-packages)\u001b[0m\n",
      "\u001b[33mWARNING: Ignoring invalid distribution -andas (/home/mrtcloud-8/.local/lib/python3.9/site-packages)\u001b[0m\n",
      "\u001b[33mWARNING: Ignoring invalid distribution -andas (/home/mrtcloud-8/.local/lib/python3.9/site-packages)\u001b[0m\n",
      "Defaulting to user installation because normal site-packages is not writeable\n",
      "\u001b[33mWARNING: Ignoring invalid distribution -andas (/home/mrtcloud-8/.local/lib/python3.9/site-packages)\u001b[0m\n",
      "\u001b[33mWARNING: Ignoring invalid distribution -andas (/home/mrtcloud-8/.local/lib/python3.9/site-packages)\u001b[0m\n",
      "Requirement already satisfied: regex in /usr/local/anaconda3/lib/python3.9/site-packages (2021.8.3)\n",
      "\u001b[33mWARNING: Ignoring invalid distribution -andas (/home/mrtcloud-8/.local/lib/python3.9/site-packages)\u001b[0m\n",
      "\u001b[33mWARNING: Ignoring invalid distribution -andas (/home/mrtcloud-8/.local/lib/python3.9/site-packages)\u001b[0m\n",
      "\u001b[33mWARNING: Ignoring invalid distribution -andas (/home/mrtcloud-8/.local/lib/python3.9/site-packages)\u001b[0m\n",
      "\u001b[33mWARNING: Ignoring invalid distribution -andas (/home/mrtcloud-8/.local/lib/python3.9/site-packages)\u001b[0m\n",
      "Defaulting to user installation because normal site-packages is not writeable\n",
      "\u001b[33mWARNING: Ignoring invalid distribution -andas (/home/mrtcloud-8/.local/lib/python3.9/site-packages)\u001b[0m\n",
      "\u001b[33mWARNING: Ignoring invalid distribution -andas (/home/mrtcloud-8/.local/lib/python3.9/site-packages)\u001b[0m\n",
      "Requirement already satisfied: demoji in /home/mrtcloud-8/.local/lib/python3.9/site-packages (1.1.0)\n",
      "\u001b[33mWARNING: Ignoring invalid distribution -andas (/home/mrtcloud-8/.local/lib/python3.9/site-packages)\u001b[0m\n",
      "\u001b[33mWARNING: Ignoring invalid distribution -andas (/home/mrtcloud-8/.local/lib/python3.9/site-packages)\u001b[0m\n",
      "\u001b[33mWARNING: Ignoring invalid distribution -andas (/home/mrtcloud-8/.local/lib/python3.9/site-packages)\u001b[0m\n",
      "\u001b[33mWARNING: Ignoring invalid distribution -andas (/home/mrtcloud-8/.local/lib/python3.9/site-packages)\u001b[0m\n",
      "Defaulting to user installation because normal site-packages is not writeable\n",
      "\u001b[33mWARNING: Ignoring invalid distribution -andas (/home/mrtcloud-8/.local/lib/python3.9/site-packages)\u001b[0m\n",
      "\u001b[33mWARNING: Ignoring invalid distribution -andas (/home/mrtcloud-8/.local/lib/python3.9/site-packages)\u001b[0m\n",
      "Requirement already satisfied: pyLDAvis==3.4.1 in /home/mrtcloud-8/.local/lib/python3.9/site-packages (3.4.1)\n",
      "Requirement already satisfied: gensim in /home/mrtcloud-8/.local/lib/python3.9/site-packages (from pyLDAvis==3.4.1) (4.3.2)\n",
      "Requirement already satisfied: joblib>=1.2.0 in /home/mrtcloud-8/.local/lib/python3.9/site-packages (from pyLDAvis==3.4.1) (1.3.2)\n",
      "Requirement already satisfied: scikit-learn>=1.0.0 in /home/mrtcloud-8/.local/lib/python3.9/site-packages (from pyLDAvis==3.4.1) (1.4.1.post1)\n",
      "Requirement already satisfied: pandas>=2.0.0 in /home/mrtcloud-8/.local/lib/python3.9/site-packages (from pyLDAvis==3.4.1) (2.2.1)\n",
      "Requirement already satisfied: numexpr in /home/mrtcloud-8/.local/lib/python3.9/site-packages (from pyLDAvis==3.4.1) (2.9.0)\n",
      "Requirement already satisfied: setuptools in /usr/local/anaconda3/lib/python3.9/site-packages (from pyLDAvis==3.4.1) (58.0.4)\n",
      "Requirement already satisfied: jinja2 in /home/mrtcloud-8/.local/lib/python3.9/site-packages (from pyLDAvis==3.4.1) (3.1.3)\n",
      "Requirement already satisfied: numpy>=1.24.2 in /home/mrtcloud-8/.local/lib/python3.9/site-packages (from pyLDAvis==3.4.1) (1.26.4)\n",
      "Requirement already satisfied: funcy in /home/mrtcloud-8/.local/lib/python3.9/site-packages (from pyLDAvis==3.4.1) (2.0)\n",
      "Requirement already satisfied: scipy in /home/mrtcloud-8/.local/lib/python3.9/site-packages (from pyLDAvis==3.4.1) (1.12.0)\n",
      "Requirement already satisfied: tzdata>=2022.7 in /home/mrtcloud-8/.local/lib/python3.9/site-packages (from pandas>=2.0.0->pyLDAvis==3.4.1) (2024.1)\n",
      "Requirement already satisfied: pytz>=2020.1 in /usr/local/anaconda3/lib/python3.9/site-packages (from pandas>=2.0.0->pyLDAvis==3.4.1) (2021.3)\n",
      "Requirement already satisfied: python-dateutil>=2.8.2 in /usr/local/anaconda3/lib/python3.9/site-packages (from pandas>=2.0.0->pyLDAvis==3.4.1) (2.8.2)\n",
      "Requirement already satisfied: six>=1.5 in /usr/local/anaconda3/lib/python3.9/site-packages (from python-dateutil>=2.8.2->pandas>=2.0.0->pyLDAvis==3.4.1) (1.16.0)\n",
      "Requirement already satisfied: threadpoolctl>=2.0.0 in /usr/local/anaconda3/lib/python3.9/site-packages (from scikit-learn>=1.0.0->pyLDAvis==3.4.1) (2.2.0)\n",
      "Requirement already satisfied: smart-open>=1.8.1 in /home/mrtcloud-8/.local/lib/python3.9/site-packages (from gensim->pyLDAvis==3.4.1) (6.4.0)\n",
      "Requirement already satisfied: MarkupSafe>=2.0 in /home/mrtcloud-8/.local/lib/python3.9/site-packages (from jinja2->pyLDAvis==3.4.1) (2.1.5)\n",
      "\u001b[33mWARNING: Ignoring invalid distribution -andas (/home/mrtcloud-8/.local/lib/python3.9/site-packages)\u001b[0m\n",
      "\u001b[33mWARNING: Ignoring invalid distribution -andas (/home/mrtcloud-8/.local/lib/python3.9/site-packages)\u001b[0m\n",
      "\u001b[33mWARNING: Ignoring invalid distribution -andas (/home/mrtcloud-8/.local/lib/python3.9/site-packages)\u001b[0m\n",
      "\u001b[33mWARNING: Ignoring invalid distribution -andas (/home/mrtcloud-8/.local/lib/python3.9/site-packages)\u001b[0m\n",
      "Defaulting to user installation because normal site-packages is not writeable\n",
      "\u001b[33mWARNING: Ignoring invalid distribution -andas (/home/mrtcloud-8/.local/lib/python3.9/site-packages)\u001b[0m\n",
      "\u001b[33mWARNING: Ignoring invalid distribution -andas (/home/mrtcloud-8/.local/lib/python3.9/site-packages)\u001b[0m\n",
      "Requirement already satisfied: tdqm in /home/mrtcloud-8/.local/lib/python3.9/site-packages (0.0.1)\n",
      "Requirement already satisfied: tqdm in /usr/local/anaconda3/lib/python3.9/site-packages (from tdqm) (4.62.3)\n",
      "\u001b[33mWARNING: Ignoring invalid distribution -andas (/home/mrtcloud-8/.local/lib/python3.9/site-packages)\u001b[0m\n",
      "\u001b[33mWARNING: Ignoring invalid distribution -andas (/home/mrtcloud-8/.local/lib/python3.9/site-packages)\u001b[0m\n",
      "\u001b[33mWARNING: Ignoring invalid distribution -andas (/home/mrtcloud-8/.local/lib/python3.9/site-packages)\u001b[0m\n",
      "\u001b[33mWARNING: Ignoring invalid distribution -andas (/home/mrtcloud-8/.local/lib/python3.9/site-packages)\u001b[0m\n",
      "Defaulting to user installation because normal site-packages is not writeable\n",
      "\u001b[33mWARNING: Ignoring invalid distribution -andas (/home/mrtcloud-8/.local/lib/python3.9/site-packages)\u001b[0m\n",
      "\u001b[33mWARNING: Ignoring invalid distribution -andas (/home/mrtcloud-8/.local/lib/python3.9/site-packages)\u001b[0m\n",
      "Requirement already satisfied: gensim in /home/mrtcloud-8/.local/lib/python3.9/site-packages (4.3.2)\n",
      "Requirement already satisfied: scipy>=1.7.0 in /home/mrtcloud-8/.local/lib/python3.9/site-packages (from gensim) (1.12.0)\n",
      "Requirement already satisfied: smart-open>=1.8.1 in /home/mrtcloud-8/.local/lib/python3.9/site-packages (from gensim) (6.4.0)\n",
      "Requirement already satisfied: numpy>=1.18.5 in /home/mrtcloud-8/.local/lib/python3.9/site-packages (from gensim) (1.26.4)\n",
      "\u001b[33mWARNING: Ignoring invalid distribution -andas (/home/mrtcloud-8/.local/lib/python3.9/site-packages)\u001b[0m\n",
      "\u001b[33mWARNING: Ignoring invalid distribution -andas (/home/mrtcloud-8/.local/lib/python3.9/site-packages)\u001b[0m\n",
      "\u001b[33mWARNING: Ignoring invalid distribution -andas (/home/mrtcloud-8/.local/lib/python3.9/site-packages)\u001b[0m\n",
      "\u001b[33mWARNING: Ignoring invalid distribution -andas (/home/mrtcloud-8/.local/lib/python3.9/site-packages)\u001b[0m\n"
     ]
    }
   ],
   "source": [
    "!pip install contractions\n",
    "!pip install textblob\n",
    "!pip install emoji\n",
    "!pip install regex\n",
    "!pip install demoji\n",
    "!pip install pyLDAvis==3.4.1\n",
    "!pip install tdqm\n",
    "\n",
    "!pip install gensim"
   ]
  },
  {
   "cell_type": "code",
   "execution_count": null,
   "id": "5fa22608-8f2d-426a-b37b-ca4a098f3684",
   "metadata": {},
   "outputs": [],
   "source": []
  },
  {
   "cell_type": "code",
   "execution_count": 4,
   "id": "c8424a11-3671-4275-aed3-42efb3325527",
   "metadata": {
    "scrolled": true
   },
   "outputs": [
    {
     "name": "stdout",
     "output_type": "stream",
     "text": [
      "2.2.1\n"
     ]
    }
   ],
   "source": [
    "# !pip install pandas==2.2.0\n",
    "print(pd.__version__)"
   ]
  },
  {
   "cell_type": "code",
   "execution_count": 5,
   "id": "cfaefa3c-e358-4e53-b4b3-d2adaf79b0d6",
   "metadata": {
    "scrolled": true
   },
   "outputs": [
    {
     "name": "stdout",
     "output_type": "stream",
     "text": [
      "Defaulting to user installation because normal site-packages is not writeable\n",
      "\u001b[33mWARNING: Ignoring invalid distribution -andas (/home/mrtcloud-8/.local/lib/python3.9/site-packages)\u001b[0m\n",
      "\u001b[33mWARNING: Ignoring invalid distribution -andas (/home/mrtcloud-8/.local/lib/python3.9/site-packages)\u001b[0m\n",
      "Requirement already satisfied: pyLDAvis==3.4.1 in /home/mrtcloud-8/.local/lib/python3.9/site-packages (3.4.1)\n",
      "Requirement already satisfied: jinja2 in /home/mrtcloud-8/.local/lib/python3.9/site-packages (from pyLDAvis==3.4.1) (3.1.3)\n",
      "Requirement already satisfied: pandas>=2.0.0 in /home/mrtcloud-8/.local/lib/python3.9/site-packages (from pyLDAvis==3.4.1) (2.2.1)\n",
      "Requirement already satisfied: setuptools in /usr/local/anaconda3/lib/python3.9/site-packages (from pyLDAvis==3.4.1) (58.0.4)\n",
      "Requirement already satisfied: scikit-learn>=1.0.0 in /home/mrtcloud-8/.local/lib/python3.9/site-packages (from pyLDAvis==3.4.1) (1.4.1.post1)\n",
      "Requirement already satisfied: scipy in /home/mrtcloud-8/.local/lib/python3.9/site-packages (from pyLDAvis==3.4.1) (1.12.0)\n",
      "Requirement already satisfied: numexpr in /home/mrtcloud-8/.local/lib/python3.9/site-packages (from pyLDAvis==3.4.1) (2.9.0)\n",
      "Requirement already satisfied: funcy in /home/mrtcloud-8/.local/lib/python3.9/site-packages (from pyLDAvis==3.4.1) (2.0)\n",
      "Requirement already satisfied: gensim in /home/mrtcloud-8/.local/lib/python3.9/site-packages (from pyLDAvis==3.4.1) (4.3.2)\n",
      "Requirement already satisfied: joblib>=1.2.0 in /home/mrtcloud-8/.local/lib/python3.9/site-packages (from pyLDAvis==3.4.1) (1.3.2)\n",
      "Requirement already satisfied: numpy>=1.24.2 in /home/mrtcloud-8/.local/lib/python3.9/site-packages (from pyLDAvis==3.4.1) (1.26.4)\n",
      "Requirement already satisfied: tzdata>=2022.7 in /home/mrtcloud-8/.local/lib/python3.9/site-packages (from pandas>=2.0.0->pyLDAvis==3.4.1) (2024.1)\n",
      "Requirement already satisfied: pytz>=2020.1 in /usr/local/anaconda3/lib/python3.9/site-packages (from pandas>=2.0.0->pyLDAvis==3.4.1) (2021.3)\n",
      "Requirement already satisfied: python-dateutil>=2.8.2 in /usr/local/anaconda3/lib/python3.9/site-packages (from pandas>=2.0.0->pyLDAvis==3.4.1) (2.8.2)\n",
      "Requirement already satisfied: six>=1.5 in /usr/local/anaconda3/lib/python3.9/site-packages (from python-dateutil>=2.8.2->pandas>=2.0.0->pyLDAvis==3.4.1) (1.16.0)\n",
      "Requirement already satisfied: threadpoolctl>=2.0.0 in /usr/local/anaconda3/lib/python3.9/site-packages (from scikit-learn>=1.0.0->pyLDAvis==3.4.1) (2.2.0)\n",
      "Requirement already satisfied: smart-open>=1.8.1 in /home/mrtcloud-8/.local/lib/python3.9/site-packages (from gensim->pyLDAvis==3.4.1) (6.4.0)\n",
      "Requirement already satisfied: MarkupSafe>=2.0 in /home/mrtcloud-8/.local/lib/python3.9/site-packages (from jinja2->pyLDAvis==3.4.1) (2.1.5)\n",
      "\u001b[33mWARNING: Ignoring invalid distribution -andas (/home/mrtcloud-8/.local/lib/python3.9/site-packages)\u001b[0m\n",
      "\u001b[33mWARNING: Ignoring invalid distribution -andas (/home/mrtcloud-8/.local/lib/python3.9/site-packages)\u001b[0m\n",
      "\u001b[33mWARNING: Ignoring invalid distribution -andas (/home/mrtcloud-8/.local/lib/python3.9/site-packages)\u001b[0m\n",
      "\u001b[33mWARNING: Ignoring invalid distribution -andas (/home/mrtcloud-8/.local/lib/python3.9/site-packages)\u001b[0m\n"
     ]
    }
   ],
   "source": [
    "#try 2.1.2 for pyLDAvis\n",
    "# 2.0.0\n",
    "# 1.5.1\n",
    "\n",
    "!pip install pyLDAvis==3.4.1"
   ]
  },
  {
   "cell_type": "code",
   "execution_count": 161,
   "id": "ef16a184-cf52-4405-9064-66f52ccc4ad0",
   "metadata": {
    "scrolled": true
   },
   "outputs": [
    {
     "name": "stdout",
     "output_type": "stream",
     "text": [
      "1.4.1.post1\n"
     ]
    }
   ],
   "source": [
    "print(sklearn.__version__) #1.4.1.post1"
   ]
  },
  {
   "cell_type": "code",
   "execution_count": 5,
   "id": "7ea55474",
   "metadata": {
    "scrolled": true
   },
   "outputs": [
    {
     "name": "stderr",
     "output_type": "stream",
     "text": [
      "[nltk_data] Downloading package stopwords to\n",
      "[nltk_data]     /home/mrtcloud-8/nltk_data...\n",
      "[nltk_data]   Package stopwords is already up-to-date!\n",
      "[nltk_data] Downloading package punkt to /home/mrtcloud-8/nltk_data...\n",
      "[nltk_data]   Package punkt is already up-to-date!\n",
      "[nltk_data] Downloading package wordnet to\n",
      "[nltk_data]     /home/mrtcloud-8/nltk_data...\n",
      "[nltk_data]   Package wordnet is already up-to-date!\n",
      "[nltk_data] Downloading package vader_lexicon to\n",
      "[nltk_data]     /home/mrtcloud-8/nltk_data...\n",
      "[nltk_data]   Package vader_lexicon is already up-to-date!\n"
     ]
    }
   ],
   "source": [
    "import pickle\n",
    "import numpy as np\n",
    "import pandas as pd\n",
    "from collections import Counter\n",
    "import os\n",
    "\n",
    "import seaborn as sns\n",
    "import matplotlib.pyplot as plt\n",
    "# import plotly.express as px\n",
    "# import plotly.figure_factory as ff\n",
    "\n",
    "import re\n",
    "import emoji \n",
    "import demoji\n",
    "import contractions\n",
    "from tqdm import tqdm\n",
    "\n",
    "#nltk\n",
    "import nltk\n",
    "nltk.download('stopwords')\n",
    "nltk.download('punkt')\n",
    "nltk.download('wordnet')\n",
    "nltk.download('vader_lexicon')\n",
    "from nltk.tokenize import word_tokenize\n",
    "from nltk.corpus import stopwords\n",
    "from nltk.stem import WordNetLemmatizer\n",
    "from nltk.sentiment import SentimentIntensityAnalyzer\n",
    "\n",
    "import sklearn\n",
    "from sklearn.model_selection import train_test_split\n",
    "from sklearn import metrics\n",
    "from sklearn.feature_extraction.text import TfidfVectorizer\n",
    "from sklearn.metrics import confusion_matrix, classification_report\n",
    "from sklearn.feature_extraction.text import CountVectorizer\n",
    "from sklearn.decomposition import LatentDirichletAllocation\n",
    "\n",
    "\n",
    "import pyLDAvis\n",
    "pyLDAvis.enable_notebook()\n"
   ]
  },
  {
   "cell_type": "code",
   "execution_count": 15,
   "id": "abe30164-407d-41f1-a9f7-12703ac51f95",
   "metadata": {},
   "outputs": [],
   "source": [
    "#Read and convert csv files to data frames\n",
    "before_war = pd.read_csv(\"before_war.csv\")\n",
    "war_and_after = pd.read_csv(\"war_and_afterwards.csv\")"
   ]
  },
  {
   "cell_type": "code",
   "execution_count": 28,
   "id": "2f0134f0",
   "metadata": {
    "collapsed": true,
    "jupyter": {
     "outputs_hidden": true
    }
   },
   "outputs": [
    {
     "name": "stderr",
     "output_type": "stream",
     "text": [
      "100%|███████████████████████████████████████████████████████████████████████████████████████████████████████| 835142/835142 [04:32<00:00, 3068.29it/s]\n",
      "100%|█████████████████████████████████████████████████████████████████████████████████████████████████████| 8268526/8268526 [42:47<00:00, 3219.98it/s]\n",
      "100%|███████████████████████████████████████████████████████████████████████████████████████████████████████| 835142/835142 [02:21<00:00, 5905.34it/s]\n",
      "100%|█████████████████████████████████████████████████████████████████████████████████████████████████████| 8268526/8268526 [21:54<00:00, 6292.11it/s]\n"
     ]
    }
   ],
   "source": [
    "'''\n",
    "This function removes stopwords, tokenizes the text, and performs other basic text processing.\n",
    "I used the emoji and demoji libraries to extract the meaning of the emojis to achieve a more accurate sentiment score.\n",
    "The cleaned text will be stored in another column called cleaned_text.\n",
    "I also used Vader to calculate the sentiment score of each tweet (-1 = negative, 1 = positive)\n",
    "# '''\n",
    "\n",
    "from tqdm import tqdm  # Import tqdm library\n",
    "\n",
    "# Initialize VADER SentimentIntensityAnalyzer\n",
    "sia = SentimentIntensityAnalyzer()\n",
    "\n",
    "# Set up stopwords\n",
    "stop_words = set(stopwords.words('english'))\n",
    "\n",
    "#Clean the text data\n",
    "def clean_text(text):\n",
    "    #Remove any links via re\n",
    "    text = re.sub(r'http\\S+', ' ', text)\n",
    "\n",
    "    #Account for contractions like I've\n",
    "#     text = contractions.fix(text)\n",
    "\n",
    "    #Convert emojis to text\n",
    "    text = emoji.demojize(text, delimiters=(\" \",\" \")) \n",
    "\n",
    "    #Only accept alphabetical chars after processing emojis\n",
    "    text = re.sub(r'[^a-zA-Z\\s]', ' ', text)\n",
    "\n",
    "    #Tokenize text and make everything lowercase\n",
    "    tokens = word_tokenize(text.lower())\n",
    "\n",
    "    #Lemmatize the tokens\n",
    "    lemmatizer = WordNetLemmatizer()\n",
    "    tokens = [lemmatizer.lemmatize(word) for word in tokens]\n",
    "\n",
    "    #Remove stopwords\n",
    "    tokens = [word for word in tokens if word not in stop_words]\n",
    "\n",
    "    #Rejoin the tokens into a cleaned text\n",
    "    cleaned_text = ' '.join(tokens)\n",
    "\n",
    "    return cleaned_text\n",
    "\n",
    "tqdm.pandas()\n",
    "\n",
    "#Clean the 'text' column and save cleaned text as 'cleaned_text'\n",
    "# before_war['cleaned_text'] = before_war.apply(clean_text, axis=1)\n",
    "# war_and_after['cleaned_text'] = war_and_after.apply(clean_text, axis=1)\n",
    "# Clean the 'text' column and save cleaned text as 'cleaned_text'\n",
    "before_war['cleaned_text'] = before_war['text'].progress_apply(clean_text)\n",
    "war_and_after['cleaned_text'] = war_and_after['text'].progress_apply(clean_text)\n",
    "                                            \n",
    "#Apply VADER sentiment analysis to the 'text' columns in both datasets\n",
    "# before_war['sentiment_score'] = before_war['cleaned_text'].apply(lambda x: sia.polarity_scores(x)['compound'])\n",
    "before_war['sentiment_score'] = before_war['cleaned_text'].progress_apply(lambda x: sia.polarity_scores(x)['compound'])\n",
    "war_and_after['sentiment_score'] = war_and_after['cleaned_text'].progress_apply(lambda x: sia.polarity_scores(x)['compound'])\n",
    "\n"
   ]
  },
  {
   "cell_type": "code",
   "execution_count": 44,
   "id": "32e81c0c",
   "metadata": {
    "jupyter": {
     "source_hidden": true
    }
   },
   "outputs": [
    {
     "name": "stdout",
     "output_type": "stream",
     "text": [
      "(835142, 6)\n",
      "(8268526, 6)\n"
     ]
    }
   ],
   "source": [
    "\n",
    "# #pickle files\n",
    "# before_war_cleaned = before_war\n",
    "# war_and_after_cleaned = war_and_after\n",
    "# with open('before_war_cleaned.pkl', 'wb') as f:\n",
    "#     pickle.dump(before_war_cleaned, f)\n",
    "    \n",
    "# with open('war_and_after_cleaned.pkl', 'wb') as f:\n",
    "#     pickle.dump(war_and_after_cleaned, f)\n",
    "\n",
    "with open('before_war_cleaned.pkl', 'rb') as f:\n",
    "    before_war = pickle.load(f)\n",
    "    print(before_war.shape)\n",
    "\n",
    "with open('war_and_after_cleaned.pkl', 'rb') as f:\n",
    "    war_and_after = pickle.load(f)\n",
    "    print(war_and_after.shape)\n",
    "\n"
   ]
  },
  {
   "cell_type": "code",
   "execution_count": null,
   "id": "244537d8",
   "metadata": {
    "jupyter": {
     "source_hidden": true
    }
   },
   "outputs": [],
   "source": [
    "#Frequency of Posts by Year-Month\n",
    "\n",
    "ym2 = before_war['date'].value_counts().sort_index() # get the counts for each year-month and sort them\n",
    "plt.figure(figsize=(20,6))\n",
    "sns.lineplot(x=ym2.index, y = ym2.values, color='green') # plot the line chart using seaborn\n",
    "plt.title('Distribution of Tweets Before War', fontsize=15)\n",
    "\n",
    "ym = war_and_after['date'].value_counts().sort_index() # get the counts for each year-month and sort them\n",
    "plt.figure(figsize=(20,6))\n",
    "sns.lineplot(x=ym.index, y = ym.values, color='green') # plot the line chart using seaborn\n",
    "plt.title('Year-Month distribution of tweets', fontsize=15)"
   ]
  },
  {
   "cell_type": "code",
   "execution_count": 31,
   "id": "322fd661",
   "metadata": {
    "jupyter": {
     "source_hidden": true
    },
    "scrolled": true
   },
   "outputs": [
    {
     "name": "stdout",
     "output_type": "stream",
     "text": [
      "(835142, 5000)\n"
     ]
    }
   ],
   "source": [
    "#Get TF-IDF of before_war\n",
    "#Convert text into matrix of token counts.\n",
    "before_war_vect = CountVectorizer(strip_accents = 'unicode',\n",
    "                                stop_words = 'english',\n",
    "                                lowercase = True,\n",
    "                                max_features=5000,\n",
    "                                token_pattern = r'\\b[a-zA-Z]{3,}\\b',\n",
    "                                max_df = 0.85,\n",
    "                                min_df = 10,\n",
    "                                ngram_range=(2,4))\n",
    "\n",
    "#Tokenize the text data and conver tot sparse matrix representation \n",
    "#(doc index, token index in vocab)  count of token in doc  \n",
    "before_war_tfidf = before_war_vect.fit_transform(before_war['cleaned_text'])\n",
    "print(before_war_tfidf.shape)"
   ]
  },
  {
   "cell_type": "code",
   "execution_count": 32,
   "id": "9355eaa3",
   "metadata": {
    "jupyter": {
     "source_hidden": true
    },
    "scrolled": true
   },
   "outputs": [
    {
     "name": "stdout",
     "output_type": "stream",
     "text": [
      "(8268526, 10000)\n"
     ]
    }
   ],
   "source": [
    "#Convert text into matrix of token counts.\n",
    "war_and_after_vect = CountVectorizer(strip_accents = 'unicode',\n",
    "                                stop_words = 'english',\n",
    "                                lowercase = True,\n",
    "                                max_features=10000,\n",
    "                                token_pattern = r'\\b[a-zA-Z]{3,}\\b',\n",
    "                                max_df = 0.95,\n",
    "                                min_df = 10,\n",
    "                                ngram_range=(2,4))\n",
    "#Tokenize the text data and convert to sparse matrix representation \n",
    "#(doc index, token index in vocab)  count of token in doc  \n",
    "war_and_after_tfidf = war_and_after_vect.fit_transform(war_and_after['cleaned_text'])\n",
    "print(war_and_after_tfidf.shape)"
   ]
  },
  {
   "cell_type": "code",
   "execution_count": 58,
   "id": "75b710cb-6de7-4599-bda1-792876866608",
   "metadata": {
    "collapsed": true,
    "jupyter": {
     "outputs_hidden": true
    },
    "scrolled": true
   },
   "outputs": [
    {
     "name": "stderr",
     "output_type": "stream",
     "text": [
      "/usr/local/anaconda3/lib/python3.9/site-packages/seaborn/_core.py:1225: DeprecationWarning: is_categorical_dtype is deprecated and will be removed in a future version. Use isinstance(dtype, pd.CategoricalDtype) instead\n",
      "  if pd.api.types.is_categorical_dtype(vector):\n",
      "/usr/local/anaconda3/lib/python3.9/site-packages/seaborn/_core.py:1225: DeprecationWarning: is_categorical_dtype is deprecated and will be removed in a future version. Use isinstance(dtype, pd.CategoricalDtype) instead\n",
      "  if pd.api.types.is_categorical_dtype(vector):\n",
      "/usr/local/anaconda3/lib/python3.9/site-packages/seaborn/_core.py:1225: DeprecationWarning: is_categorical_dtype is deprecated and will be removed in a future version. Use isinstance(dtype, pd.CategoricalDtype) instead\n",
      "  if pd.api.types.is_categorical_dtype(vector):\n"
     ]
    },
    {
     "data": {
      "image/png": "[encoded data removed]",
      "text/plain": [
       "<Figure size 720x432 with 1 Axes>"
      ]
     },
     "metadata": {
      "needs_background": "light"
     },
     "output_type": "display_data"
    }
   ],
   "source": [
    "#Most frequent words in before_war\n",
    "\n",
    "# Combine the counts of each token across all tweets\n",
    "token_counts_before_war = np.array(before_war_tfidf.sum(axis=0))[0]\n",
    "\n",
    "# Get indices of sorted token counts \n",
    "sorted_indices = np.argsort(token_counts_before_war)[::-1]\n",
    "\n",
    "# Get unique terms/token from extracted text (vocab)from CountVectorizer\n",
    "vocab_before_war = before_war_vect.get_feature_names_out()\n",
    "\n",
    "# Get the most frequent terms and their counts\n",
    "term_freq_before_war = [(vocab[i], token_counts_before_war[i]) for i in sorted_indices]\n",
    "\n",
    "# Convert the most frequent terms to a DataFrame for visualization\n",
    "most_frequent_df = pd.DataFrame(term_freq_before_war, columns=['Term', 'Count'])\n",
    "\n",
    "\n",
    "# Plot the most frequent terms\n",
    "plt.figure(figsize=(10, 6))\n",
    "sns.barplot(x='Count', y='Term', data=most_frequent_df.head(20))  # Adjust the number to display more or fewer terms\n",
    "plt.title('Top 20 Most Frequent Terms Before War')\n",
    "plt.xlabel('Count')\n",
    "plt.ylabel('Term')\n",
    "plt.show()\n"
   ]
  },
  {
   "cell_type": "code",
   "execution_count": 61,
   "id": "a313d933",
   "metadata": {
    "collapsed": true,
    "jupyter": {
     "outputs_hidden": true,
     "source_hidden": true
    },
    "scrolled": true
   },
   "outputs": [
    {
     "name": "stderr",
     "output_type": "stream",
     "text": [
      "/usr/local/anaconda3/lib/python3.9/site-packages/seaborn/_core.py:1225: DeprecationWarning: is_categorical_dtype is deprecated and will be removed in a future version. Use isinstance(dtype, pd.CategoricalDtype) instead\n",
      "  if pd.api.types.is_categorical_dtype(vector):\n",
      "/usr/local/anaconda3/lib/python3.9/site-packages/seaborn/_core.py:1225: DeprecationWarning: is_categorical_dtype is deprecated and will be removed in a future version. Use isinstance(dtype, pd.CategoricalDtype) instead\n",
      "  if pd.api.types.is_categorical_dtype(vector):\n",
      "/usr/local/anaconda3/lib/python3.9/site-packages/seaborn/_core.py:1225: DeprecationWarning: is_categorical_dtype is deprecated and will be removed in a future version. Use isinstance(dtype, pd.CategoricalDtype) instead\n",
      "  if pd.api.types.is_categorical_dtype(vector):\n"
     ]
    },
    {
     "data": {
      "image/png": "[encoded data removed]",
      "text/plain": [
       "<Figure size 720x432 with 1 Axes>"
      ]
     },
     "metadata": {
      "needs_background": "light"
     },
     "output_type": "display_data"
    }
   ],
   "source": [
    "#Most frequent words in after_war\n",
    "\n",
    "# Combine the counts of each token across all tweets\n",
    "token_counts_war_and_after = np.array(war_and_after_tfidf.sum(axis=0))[0]\n",
    "\n",
    "# Get indices of sorted token counts \n",
    "sorted_indices = np.argsort(token_counts_war_and_after)[::-1]\n",
    "\n",
    "# Get unique terms/token from extracted text (vocab)from CountVectorizer\n",
    "vocab = war_and_after_vect.get_feature_names_out()\n",
    "\n",
    "# Get the most frequent terms and their counts\n",
    "term_freq_war_and_after = [(vocab[i], token_counts_war_and_after[i]) for i in sorted_indices]\n",
    "\n",
    "# Convert the most frequent terms to a DataFrame for visualization\n",
    "most_frequent_df = pd.DataFrame(term_freq_war_and_after, columns=['Term', 'Count'])\n",
    "\n",
    "\n",
    "# Plot the most frequent terms\n",
    "plt.figure(figsize=(10, 6))\n",
    "sns.barplot(x='Count', y='Term', data=most_frequent_df.head(20))  # Adjust the number to display more or fewer terms\n",
    "plt.title('Top 20 Most Frequent Terms During War')\n",
    "plt.xlabel('Count')\n",
    "plt.ylabel('Term')\n",
    "plt.show()\n"
   ]
  },
  {
   "cell_type": "code",
   "execution_count": null,
   "id": "8ce7e7c1",
   "metadata": {
    "scrolled": true
   },
   "outputs": [],
   "source": []
  },
  {
   "cell_type": "code",
   "execution_count": 10,
   "id": "8aa8c89f-9282-4c21-b52b-5682fe62ccaa",
   "metadata": {
    "scrolled": true
   },
   "outputs": [
    {
     "name": "stdout",
     "output_type": "stream",
     "text": [
      "(173585, 5000)\n",
      "(1262618, 5000)\n"
     ]
    }
   ],
   "source": [
    "#Pickle before_war LDAs\n",
    "# with open('before_war_lda.pkl', 'wb') as f:\n",
    "#     pickle.dump(before_war_lda, f)\n",
    "# with open('before_war_lda2.pkl', 'wb') as f:\n",
    "#     pickle.dump(before_war_lda2, f)\n",
    "\n",
    "#Pickle war_and_after LDA\n",
    "# with open('before_war_lda.pkl', 'wb') as f:\n",
    "#     pickle.dump(before_war_lda, f)\n",
    "# with open('before_war_lda2.pkl', 'wb') as f:\n",
    "#     pickle.dump(before_war_lda2, f)\n",
    "\n",
    "\n",
    "#Pickle war_and_after LDAs\n",
    "# with open('before_war_vect.pkl', 'wb') as f:\n",
    "#     pickle.dump(before_war_vect, f)\n",
    "# with open('war_and_after_vect.pkl', 'wb') as f:\n",
    "#     pickle.dump(war_and_after_vect, f)\n",
    "\n",
    "# with open('before_war_tfidf.pkl', 'wb') as f:\n",
    "#     pickle.dump(before_war_tfidf, f)\n",
    "# with open('war_and_after_tfidf.pkl', 'wb') as f:\n",
    "#     pickle.dump(war_and_after_tfidf, f)\n",
    "\n",
    "# with open('before_war_sample.pkl', 'wb') as f:\n",
    "#     pickle.dump(before_war_sample, f)\n",
    "# with open('war_and_after_sample.pkl', 'wb') as f:\n",
    "#     pickle.dump(war_and_after_sample, f)\n",
    "\n",
    "\n",
    "#read before_war_lda\n",
    "# with open('before_war_lda.pkl', 'rb') as f:\n",
    "#     before_war_lda = pickle.load(f)\n",
    "# with open('before_war_lda2.pkl', 'rb') as f:\n",
    "#     before_war_lda2 = pickle.load(f)\n",
    "\n",
    "# #Read pickled after_war_LDAs\n",
    "# with open('war_and_after_lda.pkl', 'rb') as f:\n",
    "#     war_and_after_lda = pickle.load(f)\n",
    "\n",
    "\n",
    "#Read pickled tfidfs\n",
    "with open('before_war_tfidf.pkl', 'rb') as f:\n",
    "    before_war_tfidf = pickle.load(f)\n",
    "    print(before_war_tfidf.shape)\n",
    "with open('war_and_after_tfidf.pkl', 'rb') as f:\n",
    "    war_and_after_tfidf = pickle.load(f)\n",
    "    print(war_and_after_tfidf.shape)\n",
    "\n",
    "#read pickled vects\n",
    "with open('before_war_vect.pkl', 'rb') as f:\n",
    "    before_war_vect = pickle.load(f)\n",
    "with open('war_and_after_vect.pkl', 'rb') as f:\n",
    "    war_and_after_vect = pickle.load(f)\n",
    "\n",
    "with open('before_war_sample.pkl', 'rb') as f:\n",
    "    before_war_sample = pickle.load(f)\n",
    "with open('war_and_after_sample.pkl', 'rb') as f:\n",
    "    war_and_after_sample = pickle.load(f)\n",
    "\n",
    "with open('before_war_dict.pkl', 'rb') as f:\n",
    "    before_war_dict = pickle.load(f)\n",
    "with open('war_and_after_dict.pkl', 'rb') as f:\n",
    "    war_and_after_dict = pickle.load(f)\n",
    "\n",
    "# with open('before_war_titles.pkl', 'rb') as f:\n",
    "#     before_war_titles = pickle.load(f)\n",
    "# with open('war_and_after_titles.pkl', 'rb') as f:\n",
    "#     war_and_after_titles = pickle.load(f)\n",
    "\n",
    "\n",
    "# with open('before_war_corpora.pkl', 'rb') as f:\n",
    "#     before_war_corpora = pickle.load(f)\n",
    "# with open('war_and_after_corpora.pkl', 'rb') as f:\n",
    "#     war_and_after_corpora = pickle.load(f)"
   ]
  },
  {
   "cell_type": "markdown",
   "id": "db274f44-367d-46ab-8844-9e2246aa49ea",
   "metadata": {},
   "source": [
    "# Data Stratification "
   ]
  },
  {
   "cell_type": "code",
   "execution_count": 48,
   "id": "05d345a4-0beb-4b29-b56f-0f2c38b89b4d",
   "metadata": {},
   "outputs": [
    {
     "name": "stderr",
     "output_type": "stream",
     "text": [
      "/tmp/ipykernel_148019/2960637280.py:3: DeprecationWarning: DataFrameGroupBy.apply operated on the grouping columns. This behavior is deprecated, and in a future version of pandas the grouping columns will be excluded from the operation. Either pass `include_groups=False` to exclude the groupings or explicitly select the grouping columns after groupby to silence this warning.\n",
      "  before_war_sample = before_war.groupby('cleaned_text').apply(lambda x: x.sample(frac=0.5, random_state=42))\n",
      "/tmp/ipykernel_148019/2960637280.py:6: DeprecationWarning: DataFrameGroupBy.apply operated on the grouping columns. This behavior is deprecated, and in a future version of pandas the grouping columns will be excluded from the operation. Either pass `include_groups=False` to exclude the groupings or explicitly select the grouping columns after groupby to silence this warning.\n",
      "  war_and_after_sample = war_and_after.groupby('cleaned_text').apply(lambda x: x.sample(frac=0.2, random_state=42))\n"
     ]
    }
   ],
   "source": [
    "#make smaller datasets\n",
    "#stratified random sampling for before_war dataset\n",
    "before_war_sample = before_war.groupby('cleaned_text').apply(lambda x: x.sample(frac=0.5, random_state=42))\n",
    "\n",
    "# #stratified random sampling for war_and_after dataset\n",
    "war_and_after_sample = war_and_after.groupby('cleaned_text').apply(lambda x: x.sample(frac=0.2, random_state=42))\n"
   ]
  },
  {
   "cell_type": "code",
   "execution_count": 50,
   "id": "fe07333a-fcc3-48e1-9bc2-1ec1ddcd491c",
   "metadata": {
    "scrolled": true
   },
   "outputs": [
    {
     "name": "stdout",
     "output_type": "stream",
     "text": [
      "before_war_sample:  (173585, 6)\n",
      "war_and_after_sample:  (1262618, 6)\n"
     ]
    }
   ],
   "source": [
    "# #stratified random sampling for war_and_after dataset\n",
    "print(\"before_war_sample: \", before_war_sample.shape)\n",
    "print(\"war_and_after_sample: \", war_and_after_sample.shape)"
   ]
  },
  {
   "cell_type": "code",
   "execution_count": null,
   "id": "4ddda5d0-59c9-465c-9018-6d89c60ba07f",
   "metadata": {
    "scrolled": true
   },
   "outputs": [],
   "source": [
    "war_and_after_sample = war_and_after.groupby('cleaned_text').apply(lambda x: x.sample(frac=0.1, random_state=42))\n",
    "war_and_after_sample.shape"
   ]
  },
  {
   "cell_type": "markdown",
   "id": "6bbc6ce3-a6f4-49bd-9d56-337a12fbdc20",
   "metadata": {},
   "source": [
    "# SKlearn"
   ]
  },
  {
   "cell_type": "code",
   "execution_count": 14,
   "id": "22402cc2-0ba9-4fa5-a210-c9735c3dc37f",
   "metadata": {
    "scrolled": true
   },
   "outputs": [
    {
     "name": "stdout",
     "output_type": "stream",
     "text": [
      "(173585, 5000)\n",
      "(1262618, 5000)\n"
     ]
    }
   ],
   "source": [
    "before_war_vect = CountVectorizer(strip_accents = 'unicode',\n",
    "                                stop_words = 'english',\n",
    "                                lowercase = True,\n",
    "                                max_features=5000,\n",
    "                                token_pattern = r'\\b[a-zA-Z]{3,}\\b',\n",
    "                                max_df = 0.85,\n",
    "                                min_df = 5,\n",
    "                                ngram_range=(2,4))\n",
    "before_war_tfidf = before_war_vect.fit_transform(before_war_sample['cleaned_text'])\n",
    "print(before_war_tfidf.shape)\n",
    "\n",
    "war_and_after_vect = CountVectorizer(strip_accents = 'unicode',\n",
    "                                stop_words = 'english',\n",
    "                                lowercase = True,\n",
    "                                max_features=5000,\n",
    "                                token_pattern = r'\\b[a-zA-Z]{3,}\\b',\n",
    "                                max_df = 0.80,\n",
    "                                min_df = 15,\n",
    "                                ngram_range=(2,4))\n",
    "\n",
    "war_and_after_tfidf = war_and_after_vect.fit_transform(war_and_after_sample['cleaned_text'])\n",
    "print(war_and_after_tfidf.shape)"
   ]
  },
  {
   "cell_type": "code",
   "execution_count": null,
   "id": "592d3821-f2f4-42e8-9790-bbf32c461fdb",
   "metadata": {},
   "outputs": [],
   "source": []
  },
  {
   "cell_type": "code",
   "execution_count": 13,
   "id": "396cf43c-7b73-446a-a633-6433655bdf91",
   "metadata": {
    "scrolled": true
   },
   "outputs": [
    {
     "name": "stdout",
     "output_type": "stream",
     "text": [
      "(173585, 5000)\n",
      "(1262618, 5000)\n"
     ]
    }
   ],
   "source": [
    "\n",
    "\n",
    "war_and_after_vect = CountVectorizer(strip_accents = 'unicode',\n",
    "                                stop_words = 'english',\n",
    "                                lowercase = True,\n",
    "                                max_features=5000,\n",
    "                                token_pattern = r'\\b[a-zA-Z]{3,}\\b',\n",
    "                                max_df = 0.85,\n",
    "                                min_df = 5,\n",
    "                                ngram_range=(2,4))\n",
    "\n",
    "war_and_after_tfidf = war_and_after_vect.fit_transform(war_and_after_sample['cleaned_text'])\n",
    "print(war_and_after_tfidf.shape)"
   ]
  },
  {
   "cell_type": "code",
   "execution_count": 39,
   "id": "fc8a4fa8-0edb-4776-a064-f4d2948a6526",
   "metadata": {},
   "outputs": [
    {
     "data": {
      "text/html": [
       "<style>#sk-container-id-10 {\n",
       "  /* Definition of color scheme common for light and dark mode */\n",
       "  --sklearn-color-text: black;\n",
       "  --sklearn-color-line: gray;\n",
       "  /* Definition of color scheme for unfitted estimators */\n",
       "  --sklearn-color-unfitted-level-0: #fff5e6;\n",
       "  --sklearn-color-unfitted-level-1: #f6e4d2;\n",
       "  --sklearn-color-unfitted-level-2: #ffe0b3;\n",
       "  --sklearn-color-unfitted-level-3: chocolate;\n",
       "  /* Definition of color scheme for fitted estimators */\n",
       "  --sklearn-color-fitted-level-0: #f0f8ff;\n",
       "  --sklearn-color-fitted-level-1: #d4ebff;\n",
       "  --sklearn-color-fitted-level-2: #b3dbfd;\n",
       "  --sklearn-color-fitted-level-3: cornflowerblue;\n",
       "\n",
       "  /* Specific color for light theme */\n",
       "  --sklearn-color-text-on-default-background: var(--sg-text-color, var(--theme-code-foreground, var(--jp-content-font-color1, black)));\n",
       "  --sklearn-color-background: var(--sg-background-color, var(--theme-background, var(--jp-layout-color0, white)));\n",
       "  --sklearn-color-border-box: var(--sg-text-color, var(--theme-code-foreground, var(--jp-content-font-color1, black)));\n",
       "  --sklearn-color-icon: #696969;\n",
       "\n",
       "  @media (prefers-color-scheme: dark) {\n",
       "    /* Redefinition of color scheme for dark theme */\n",
       "    --sklearn-color-text-on-default-background: var(--sg-text-color, var(--theme-code-foreground, var(--jp-content-font-color1, white)));\n",
       "    --sklearn-color-background: var(--sg-background-color, var(--theme-background, var(--jp-layout-color0, #111)));\n",
       "    --sklearn-color-border-box: var(--sg-text-color, var(--theme-code-foreground, var(--jp-content-font-color1, white)));\n",
       "    --sklearn-color-icon: #878787;\n",
       "  }\n",
       "}\n",
       "\n",
       "#sk-container-id-10 {\n",
       "  color: var(--sklearn-color-text);\n",
       "}\n",
       "\n",
       "#sk-container-id-10 pre {\n",
       "  padding: 0;\n",
       "}\n",
       "\n",
       "#sk-container-id-10 input.sk-hidden--visually {\n",
       "  border: 0;\n",
       "  clip: rect(1px 1px 1px 1px);\n",
       "  clip: rect(1px, 1px, 1px, 1px);\n",
       "  height: 1px;\n",
       "  margin: -1px;\n",
       "  overflow: hidden;\n",
       "  padding: 0;\n",
       "  position: absolute;\n",
       "  width: 1px;\n",
       "}\n",
       "\n",
       "#sk-container-id-10 div.sk-dashed-wrapped {\n",
       "  border: 1px dashed var(--sklearn-color-line);\n",
       "  margin: 0 0.4em 0.5em 0.4em;\n",
       "  box-sizing: border-box;\n",
       "  padding-bottom: 0.4em;\n",
       "  background-color: var(--sklearn-color-background);\n",
       "}\n",
       "\n",
       "#sk-container-id-10 div.sk-container {\n",
       "  /* jupyter's `normalize.less` sets `[hidden] { display: none; }`\n",
       "     but bootstrap.min.css set `[hidden] { display: none !important; }`\n",
       "     so we also need the `!important` here to be able to override the\n",
       "     default hidden behavior on the sphinx rendered scikit-learn.org.\n",
       "     See: https://github.com/scikit-learn/scikit-learn/issues/21755 */\n",
       "  display: inline-block !important;\n",
       "  position: relative;\n",
       "}\n",
       "\n",
       "#sk-container-id-10 div.sk-text-repr-fallback {\n",
       "  display: none;\n",
       "}\n",
       "\n",
       "div.sk-parallel-item,\n",
       "div.sk-serial,\n",
       "div.sk-item {\n",
       "  /* draw centered vertical line to link estimators */\n",
       "  background-image: linear-gradient(var(--sklearn-color-text-on-default-background), var(--sklearn-color-text-on-default-background));\n",
       "  background-size: 2px 100%;\n",
       "  background-repeat: no-repeat;\n",
       "  background-position: center center;\n",
       "}\n",
       "\n",
       "/* Parallel-specific style estimator block */\n",
       "\n",
       "#sk-container-id-10 div.sk-parallel-item::after {\n",
       "  content: \"\";\n",
       "  width: 100%;\n",
       "  border-bottom: 2px solid var(--sklearn-color-text-on-default-background);\n",
       "  flex-grow: 1;\n",
       "}\n",
       "\n",
       "#sk-container-id-10 div.sk-parallel {\n",
       "  display: flex;\n",
       "  align-items: stretch;\n",
       "  justify-content: center;\n",
       "  background-color: var(--sklearn-color-background);\n",
       "  position: relative;\n",
       "}\n",
       "\n",
       "#sk-container-id-10 div.sk-parallel-item {\n",
       "  display: flex;\n",
       "  flex-direction: column;\n",
       "}\n",
       "\n",
       "#sk-container-id-10 div.sk-parallel-item:first-child::after {\n",
       "  align-self: flex-end;\n",
       "  width: 50%;\n",
       "}\n",
       "\n",
       "#sk-container-id-10 div.sk-parallel-item:last-child::after {\n",
       "  align-self: flex-start;\n",
       "  width: 50%;\n",
       "}\n",
       "\n",
       "#sk-container-id-10 div.sk-parallel-item:only-child::after {\n",
       "  width: 0;\n",
       "}\n",
       "\n",
       "/* Serial-specific style estimator block */\n",
       "\n",
       "#sk-container-id-10 div.sk-serial {\n",
       "  display: flex;\n",
       "  flex-direction: column;\n",
       "  align-items: center;\n",
       "  background-color: var(--sklearn-color-background);\n",
       "  padding-right: 1em;\n",
       "  padding-left: 1em;\n",
       "}\n",
       "\n",
       "\n",
       "/* Toggleable style: style used for estimator/Pipeline/ColumnTransformer box that is\n",
       "clickable and can be expanded/collapsed.\n",
       "- Pipeline and ColumnTransformer use this feature and define the default style\n",
       "- Estimators will overwrite some part of the style using the `sk-estimator` class\n",
       "*/\n",
       "\n",
       "/* Pipeline and ColumnTransformer style (default) */\n",
       "\n",
       "#sk-container-id-10 div.sk-toggleable {\n",
       "  /* Default theme specific background. It is overwritten whether we have a\n",
       "  specific estimator or a Pipeline/ColumnTransformer */\n",
       "  background-color: var(--sklearn-color-background);\n",
       "}\n",
       "\n",
       "/* Toggleable label */\n",
       "#sk-container-id-10 label.sk-toggleable__label {\n",
       "  cursor: pointer;\n",
       "  display: block;\n",
       "  width: 100%;\n",
       "  margin-bottom: 0;\n",
       "  padding: 0.5em;\n",
       "  box-sizing: border-box;\n",
       "  text-align: center;\n",
       "}\n",
       "\n",
       "#sk-container-id-10 label.sk-toggleable__label-arrow:before {\n",
       "  /* Arrow on the left of the label */\n",
       "  content: \"▸\";\n",
       "  float: left;\n",
       "  margin-right: 0.25em;\n",
       "  color: var(--sklearn-color-icon);\n",
       "}\n",
       "\n",
       "#sk-container-id-10 label.sk-toggleable__label-arrow:hover:before {\n",
       "  color: var(--sklearn-color-text);\n",
       "}\n",
       "\n",
       "/* Toggleable content - dropdown */\n",
       "\n",
       "#sk-container-id-10 div.sk-toggleable__content {\n",
       "  max-height: 0;\n",
       "  max-width: 0;\n",
       "  overflow: hidden;\n",
       "  text-align: left;\n",
       "  /* unfitted */\n",
       "  background-color: var(--sklearn-color-unfitted-level-0);\n",
       "}\n",
       "\n",
       "#sk-container-id-10 div.sk-toggleable__content.fitted {\n",
       "  /* fitted */\n",
       "  background-color: var(--sklearn-color-fitted-level-0);\n",
       "}\n",
       "\n",
       "#sk-container-id-10 div.sk-toggleable__content pre {\n",
       "  margin: 0.2em;\n",
       "  border-radius: 0.25em;\n",
       "  color: var(--sklearn-color-text);\n",
       "  /* unfitted */\n",
       "  background-color: var(--sklearn-color-unfitted-level-0);\n",
       "}\n",
       "\n",
       "#sk-container-id-10 div.sk-toggleable__content.fitted pre {\n",
       "  /* unfitted */\n",
       "  background-color: var(--sklearn-color-fitted-level-0);\n",
       "}\n",
       "\n",
       "#sk-container-id-10 input.sk-toggleable__control:checked~div.sk-toggleable__content {\n",
       "  /* Expand drop-down */\n",
       "  max-height: 200px;\n",
       "  max-width: 100%;\n",
       "  overflow: auto;\n",
       "}\n",
       "\n",
       "#sk-container-id-10 input.sk-toggleable__control:checked~label.sk-toggleable__label-arrow:before {\n",
       "  content: \"▾\";\n",
       "}\n",
       "\n",
       "/* Pipeline/ColumnTransformer-specific style */\n",
       "\n",
       "#sk-container-id-10 div.sk-label input.sk-toggleable__control:checked~label.sk-toggleable__label {\n",
       "  color: var(--sklearn-color-text);\n",
       "  background-color: var(--sklearn-color-unfitted-level-2);\n",
       "}\n",
       "\n",
       "#sk-container-id-10 div.sk-label.fitted input.sk-toggleable__control:checked~label.sk-toggleable__label {\n",
       "  background-color: var(--sklearn-color-fitted-level-2);\n",
       "}\n",
       "\n",
       "/* Estimator-specific style */\n",
       "\n",
       "/* Colorize estimator box */\n",
       "#sk-container-id-10 div.sk-estimator input.sk-toggleable__control:checked~label.sk-toggleable__label {\n",
       "  /* unfitted */\n",
       "  background-color: var(--sklearn-color-unfitted-level-2);\n",
       "}\n",
       "\n",
       "#sk-container-id-10 div.sk-estimator.fitted input.sk-toggleable__control:checked~label.sk-toggleable__label {\n",
       "  /* fitted */\n",
       "  background-color: var(--sklearn-color-fitted-level-2);\n",
       "}\n",
       "\n",
       "#sk-container-id-10 div.sk-label label.sk-toggleable__label,\n",
       "#sk-container-id-10 div.sk-label label {\n",
       "  /* The background is the default theme color */\n",
       "  color: var(--sklearn-color-text-on-default-background);\n",
       "}\n",
       "\n",
       "/* On hover, darken the color of the background */\n",
       "#sk-container-id-10 div.sk-label:hover label.sk-toggleable__label {\n",
       "  color: var(--sklearn-color-text);\n",
       "  background-color: var(--sklearn-color-unfitted-level-2);\n",
       "}\n",
       "\n",
       "/* Label box, darken color on hover, fitted */\n",
       "#sk-container-id-10 div.sk-label.fitted:hover label.sk-toggleable__label.fitted {\n",
       "  color: var(--sklearn-color-text);\n",
       "  background-color: var(--sklearn-color-fitted-level-2);\n",
       "}\n",
       "\n",
       "/* Estimator label */\n",
       "\n",
       "#sk-container-id-10 div.sk-label label {\n",
       "  font-family: monospace;\n",
       "  font-weight: bold;\n",
       "  display: inline-block;\n",
       "  line-height: 1.2em;\n",
       "}\n",
       "\n",
       "#sk-container-id-10 div.sk-label-container {\n",
       "  text-align: center;\n",
       "}\n",
       "\n",
       "/* Estimator-specific */\n",
       "#sk-container-id-10 div.sk-estimator {\n",
       "  font-family: monospace;\n",
       "  border: 1px dotted var(--sklearn-color-border-box);\n",
       "  border-radius: 0.25em;\n",
       "  box-sizing: border-box;\n",
       "  margin-bottom: 0.5em;\n",
       "  /* unfitted */\n",
       "  background-color: var(--sklearn-color-unfitted-level-0);\n",
       "}\n",
       "\n",
       "#sk-container-id-10 div.sk-estimator.fitted {\n",
       "  /* fitted */\n",
       "  background-color: var(--sklearn-color-fitted-level-0);\n",
       "}\n",
       "\n",
       "/* on hover */\n",
       "#sk-container-id-10 div.sk-estimator:hover {\n",
       "  /* unfitted */\n",
       "  background-color: var(--sklearn-color-unfitted-level-2);\n",
       "}\n",
       "\n",
       "#sk-container-id-10 div.sk-estimator.fitted:hover {\n",
       "  /* fitted */\n",
       "  background-color: var(--sklearn-color-fitted-level-2);\n",
       "}\n",
       "\n",
       "/* Specification for estimator info (e.g. \"i\" and \"?\") */\n",
       "\n",
       "/* Common style for \"i\" and \"?\" */\n",
       "\n",
       ".sk-estimator-doc-link,\n",
       "a:link.sk-estimator-doc-link,\n",
       "a:visited.sk-estimator-doc-link {\n",
       "  float: right;\n",
       "  font-size: smaller;\n",
       "  line-height: 1em;\n",
       "  font-family: monospace;\n",
       "  background-color: var(--sklearn-color-background);\n",
       "  border-radius: 1em;\n",
       "  height: 1em;\n",
       "  width: 1em;\n",
       "  text-decoration: none !important;\n",
       "  margin-left: 1ex;\n",
       "  /* unfitted */\n",
       "  border: var(--sklearn-color-unfitted-level-1) 1pt solid;\n",
       "  color: var(--sklearn-color-unfitted-level-1);\n",
       "}\n",
       "\n",
       ".sk-estimator-doc-link.fitted,\n",
       "a:link.sk-estimator-doc-link.fitted,\n",
       "a:visited.sk-estimator-doc-link.fitted {\n",
       "  /* fitted */\n",
       "  border: var(--sklearn-color-fitted-level-1) 1pt solid;\n",
       "  color: var(--sklearn-color-fitted-level-1);\n",
       "}\n",
       "\n",
       "/* On hover */\n",
       "div.sk-estimator:hover .sk-estimator-doc-link:hover,\n",
       ".sk-estimator-doc-link:hover,\n",
       "div.sk-label-container:hover .sk-estimator-doc-link:hover,\n",
       ".sk-estimator-doc-link:hover {\n",
       "  /* unfitted */\n",
       "  background-color: var(--sklearn-color-unfitted-level-3);\n",
       "  color: var(--sklearn-color-background);\n",
       "  text-decoration: none;\n",
       "}\n",
       "\n",
       "div.sk-estimator.fitted:hover .sk-estimator-doc-link.fitted:hover,\n",
       ".sk-estimator-doc-link.fitted:hover,\n",
       "div.sk-label-container:hover .sk-estimator-doc-link.fitted:hover,\n",
       ".sk-estimator-doc-link.fitted:hover {\n",
       "  /* fitted */\n",
       "  background-color: var(--sklearn-color-fitted-level-3);\n",
       "  color: var(--sklearn-color-background);\n",
       "  text-decoration: none;\n",
       "}\n",
       "\n",
       "/* Span, style for the box shown on hovering the info icon */\n",
       ".sk-estimator-doc-link span {\n",
       "  display: none;\n",
       "  z-index: 9999;\n",
       "  position: relative;\n",
       "  font-weight: normal;\n",
       "  right: .2ex;\n",
       "  padding: .5ex;\n",
       "  margin: .5ex;\n",
       "  width: min-content;\n",
       "  min-width: 20ex;\n",
       "  max-width: 50ex;\n",
       "  color: var(--sklearn-color-text);\n",
       "  box-shadow: 2pt 2pt 4pt #999;\n",
       "  /* unfitted */\n",
       "  background: var(--sklearn-color-unfitted-level-0);\n",
       "  border: .5pt solid var(--sklearn-color-unfitted-level-3);\n",
       "}\n",
       "\n",
       ".sk-estimator-doc-link.fitted span {\n",
       "  /* fitted */\n",
       "  background: var(--sklearn-color-fitted-level-0);\n",
       "  border: var(--sklearn-color-fitted-level-3);\n",
       "}\n",
       "\n",
       ".sk-estimator-doc-link:hover span {\n",
       "  display: block;\n",
       "}\n",
       "\n",
       "/* \"?\"-specific style due to the `<a>` HTML tag */\n",
       "\n",
       "#sk-container-id-10 a.estimator_doc_link {\n",
       "  float: right;\n",
       "  font-size: 1rem;\n",
       "  line-height: 1em;\n",
       "  font-family: monospace;\n",
       "  background-color: var(--sklearn-color-background);\n",
       "  border-radius: 1rem;\n",
       "  height: 1rem;\n",
       "  width: 1rem;\n",
       "  text-decoration: none;\n",
       "  /* unfitted */\n",
       "  color: var(--sklearn-color-unfitted-level-1);\n",
       "  border: var(--sklearn-color-unfitted-level-1) 1pt solid;\n",
       "}\n",
       "\n",
       "#sk-container-id-10 a.estimator_doc_link.fitted {\n",
       "  /* fitted */\n",
       "  border: var(--sklearn-color-fitted-level-1) 1pt solid;\n",
       "  color: var(--sklearn-color-fitted-level-1);\n",
       "}\n",
       "\n",
       "/* On hover */\n",
       "#sk-container-id-10 a.estimator_doc_link:hover {\n",
       "  /* unfitted */\n",
       "  background-color: var(--sklearn-color-unfitted-level-3);\n",
       "  color: var(--sklearn-color-background);\n",
       "  text-decoration: none;\n",
       "}\n",
       "\n",
       "#sk-container-id-10 a.estimator_doc_link.fitted:hover {\n",
       "  /* fitted */\n",
       "  background-color: var(--sklearn-color-fitted-level-3);\n",
       "}\n",
       "</style><div id=\"sk-container-id-10\" class=\"sk-top-container\"><div class=\"sk-text-repr-fallback\"><pre>LatentDirichletAllocation(learning_method=&#x27;online&#x27;, max_iter=90,\n",
       "                          random_state=42)</pre><b>In a Jupyter environment, please rerun this cell to show the HTML representation or trust the notebook. <br />On GitHub, the HTML representation is unable to render, please try loading this page with nbviewer.org.</b></div><div class=\"sk-container\" hidden><div class=\"sk-item\"><div class=\"sk-estimator fitted sk-toggleable\"><input class=\"sk-toggleable__control sk-hidden--visually\" id=\"sk-estimator-id-10\" type=\"checkbox\" checked><label for=\"sk-estimator-id-10\" class=\"sk-toggleable__label fitted sk-toggleable__label-arrow fitted\">&nbsp;&nbsp;LatentDirichletAllocation<a class=\"sk-estimator-doc-link fitted\" rel=\"noreferrer\" target=\"_blank\" href=\"https://scikit-learn.org/1.4/modules/generated/sklearn.decomposition.LatentDirichletAllocation.html\">?<span>Documentation for LatentDirichletAllocation</span></a><span class=\"sk-estimator-doc-link fitted\">i<span>Fitted</span></span></label><div class=\"sk-toggleable__content fitted\"><pre>LatentDirichletAllocation(learning_method=&#x27;online&#x27;, max_iter=90,\n",
       "                          random_state=42)</pre></div> </div></div></div></div>"
      ],
      "text/plain": [
       "LatentDirichletAllocation(learning_method='online', max_iter=90,\n",
       "                          random_state=42)"
      ]
     },
     "execution_count": 39,
     "metadata": {},
     "output_type": "execute_result"
    }
   ],
   "source": [
    "#initial: max_iter = 80, n_components = 11\n",
    "before_war_lda = LatentDirichletAllocation(n_components=11,\n",
    "                                   max_iter=95,\n",
    "                                   learning_method='online',\n",
    "                                   random_state = 42)\n",
    "\n",
    "\n",
    "before_war_lda.fit(before_war_tfidf)"
   ]
  },
  {
   "cell_type": "code",
   "execution_count": null,
   "id": "ba5ce78e-e29e-4a42-bd4e-c9c34b89fdc9",
   "metadata": {},
   "outputs": [],
   "source": [
    "war_and_after_lda = LatentDirichletAllocation(n_components=15,\n",
    "                                   max_iter=500,\n",
    "                                   learning_method='online',\n",
    "                                   random_state = 42)\n",
    "\n",
    "\n",
    "war_and_after_lda.fit(war_and_after_tfidf)"
   ]
  },
  {
   "cell_type": "code",
   "execution_count": 10,
   "id": "1abe137a",
   "metadata": {
    "collapsed": true,
    "jupyter": {
     "outputs_hidden": true
    }
   },
   "outputs": [
    {
     "name": "stdout",
     "output_type": "stream",
     "text": [
      "Topic #0:\n",
      "twitter com | russian troop | eastern ukraine | russia ukraine | joining nato | russia invades | ukraine twitter | ukraine twitter com | ukrainian border | border russia\n",
      "Topic #1:\n",
      "com news | vladimir putin | going invade | russian military | ukraine russia | news world | russia going | ukraine tension | russia going invade | nato membership\n",
      "Topic #2:\n",
      "ukraine nato | ukraine border | russia troop | nato ally | russian troop | troop near ukraine | support ukraine | look like | nato expansion | invaded ukraine\n",
      "Topic #3:\n",
      "russian troop | border ukraine | troop border | ukraine crisis | sending troop | com world | nato country | troop border ukraine | russia nato | russian troop border\n",
      "Topic #4:\n",
      "war ukraine | russian troop | russia want | start war | face tear | tear joy | face tear joy | ukraine troop | mfa russia | amp nato\n",
      "Topic #5:\n",
      "invade ukraine | russia invade | russia invade ukraine | invasion ukraine | russian invasion | ukraine war | russia ukraine | eastern europe | cold war | ukraine want\n",
      "Topic #6:\n",
      "troop ukraine | ukraine border | russia ukraine | troop ukraine border | russian troop | send troop | ukraine russian | russian troop ukraine | russian border | russian troop ukraine border\n",
      "Topic #7:\n",
      "war russia | united state | invade ukraine | world war | joe biden | southern border | war russia ukraine | say russia | invading ukraine | ukraine border\n",
      "Topic #8:\n",
      "ukraine russia | join nato | want war | ukraine join | nato ukraine | nato russia | ukraine join nato | nato member | russia border | nato troop\n",
      "Topic #9:\n",
      "near ukraine | ukraine border | ukraine ukraine | troop near | russian troop | border ukraine | near ukraine border | russia russia | russian force | near border\n"
     ]
    }
   ],
   "source": [
    "#get top 10 words from the 10 clusters\n",
    "n_top_words = 10\n",
    "tf_feature_names = before_war_vect.get_feature_names_out()\n",
    "\n",
    "topics = dict()\n",
    "for topic_idx, topic in enumerate(before_war_lda.components_):\n",
    "    topics[topic_idx] = [tf_feature_names[i] for i in topic.argsort()[:-n_top_words - 1:-1]]\n",
    "    print(\"Topic #%d:\" % topic_idx)\n",
    "    print(\" | \".join([tf_feature_names[i] for i in topic.argsort()[:-n_top_words - 1:-1]]))\n"
   ]
  },
  {
   "cell_type": "code",
   "execution_count": 31,
   "id": "f94934a7-fe17-4c3a-856a-28e70abd9d10",
   "metadata": {},
   "outputs": [
    {
     "data": {
      "text/html": [
       "\n",
       "<link rel=\"stylesheet\" type=\"text/css\" href=\"https://cdn.jsdelivr.net/gh/bmabey/pyLDAvis@3.4.0/pyLDAvis/js/ldavis.v1.0.0.css\">\n",
       "\n",
       "\n",
       "<div id=\"ldavis_el1480191399413705435682252859124\" style=\"background-color:white;\"></div>\n",
       "<script type=\"text/javascript\">\n",
       "\n",
       "var ldavis_el1480191399413705435682252859124_data = {\"mdsDat\": {\"x\": [0.19974158291490252, -0.07065772067057341, 0.1023589853761146, 0.03488333845335521, -0.03277622622995139, 0.11518994361079564, 0.1152101002142987, 0.18130724304991866, -0.15762882278687895, -0.29853187379616103, -0.18909655013582008], \"y\": [0.0951666155069725, 0.3244868857206235, 0.12457526256778838, -0.01014233529647707, 0.07726718637621116, -0.23858786507121646, -0.13499539775053507, -0.05251844603481847, 0.02252564906768063, -0.09934730517194898, -0.10843024991428056], \"topics\": [1, 2, 3, 4, 5, 6, 7, 8, 9, 10, 11], \"cluster\": [1, 1, 1, 1, 1, 1, 1, 1, 1, 1, 1], \"Freq\": [10.421083159526399, 9.70236411273101, 9.49442459983089, 9.37409384459063, 9.362571643376638, 9.302717558803609, 8.977005427914083, 8.863798096530642, 8.432155897717168, 8.325697934302005, 7.744087724676915]}, \"tinfo\": {\"Term\": [\"tell truth putin invasion\", \"term security\", \"standwithukraine ukraine kharkiv\", \"changed lock house invited\", \"toy ukrainian\", \"grow voice unitedblue strongertogether\", \"repetition slaughter atrocity\", \"power plant\", \"russia everybody know financial\", \"light skin\", \"rambo dog\", \"red heart ukraine ukrainerussia\", \"started shooting point\", \"russia file\", \"praytogether ukraine\", \"reserve bank russia mark\", \"ukraine raised fist\", \"ukrainian woman\", \"putin war ukraine\", \"ukraine went\", \"leave fleeing style rip\", \"ukraine ukraineunderattack\", \"tigray recognise tigraygenocide\", \"hand medium light skin\", \"war rally\", \"like death\", \"war crime ukraine\", \"using rape instrument\", \"suffering tigray recognise tigraygenocide\", \"czech republic\", \"term security\", \"russia everybody know financial\", \"russia file\", \"stop ukraine mean exactly\", \"soon matter\", \"soon matter day\", \"mariupol forcibly interned filtration\", \"multi billionaire\", \"stop war stoprussia\", \"civilian death\", \"civilian death potus\", \"defending entire\", \"protest war ukraine\", \"russia file released hour\", \"focus ukrainewar family tigray\", \"people solidarity come\", \"people solidarity come office\", \"chance escape city constant\", \"house charkiv ukraine\", \"russia force\", \"villa putin daughter\", \"mariupol cabinet minister approved\", \"named rambo\", \"state russian prime\", \"kingdom borisjohnson informed\", \"hit home stopputinnow\", \"follow flagnetwork nft\", \"president volodymyr zelenskyy\", \"country want\", \"mariupol city\", \"tell truth putin invasion\", \"toy ukrainian\", \"repetition slaughter atrocity\", \"impressed determination inspire world\", \"tigray recognise tigraygenocide\", \"wink ivi like netflix\", \"enemy tank\", \"leave fleeing style rip\", \"war crime ukraine\", \"russian interference\", \"protest war\", \"oligarch brave people ukraine\", \"left ukraine\", \"amp sending flexport amp\", \"collective leaked\", \"war footage ukraine\", \"amp ensure peace\", \"pilot reward defect ukraine\", \"war according analyst beginning\", \"mariupol russian armour damaging\", \"stopputinnow standwithukraine\", \"collective leaked database\", \"tank armed force ukraine\", \"woman forefront\", \"loudly face loudly\", \"class asset\", \"russian jet fighter\", \"russian occupant\", \"loudly face loudly face\", \"russian state channel\", \"love red\", \"russian state channel hacked\", \"totally destroying brm quite\", \"class asset defaulted\", \"anti war coalition\", \"russian army lost\", \"french activist broke\", \"enemy tank\", \"war rally\", \"european math olympics died\", \"corridor kaliningrad threatens germany\", \"crossing street\", \"killed ukraine\", \"ukraine ukraineunderattack\", \"tell truth putin invasion\", \"toy ukrainian\", \"light skin\", \"like death\", \"united supportukraine\", \"suggested edits\", \"suggested edits standwithukraine\", \"footprint footprint grow\", \"round pushpin\", \"world stand\", \"backhand index\", \"changed lock\", \"changed lock house\", \"bomb flatten building\", \"theatre mariupol cabinet\", \"kitchen provide\", \"backhand index pointing\", \"look like rocket hit\", \"footprint footprint grow voice\", \"dad love red heart\", \"aching heart add\", \"survived concentration camp\", \"mariupol russia masse people\", \"zelenskyyua person kyiv european\", \"war coalition let stop\", \"currency reserve bank\", \"preparation disconnection global internet\", \"local resident\", \"poland poland\", \"close sky\", \"putinisawarcriminal putinhitler\", \"zelenskyyua signed\", \"azov regiment\", \"suffering tigray recognise tigraygenocide\", \"killed ukraine\", \"room playroom child amp\", \"hague international\", \"luck cherry\", \"recognise tigraygenocide\", \"toy ukrainian\", \"singing state anthem\", \"putin war ukraine\", \"repetition slaughter atrocity\", \"tigray recognise tigraygenocide\", \"czech republic\", \"rambo dog\", \"ukraine went\", \"know build\", \"enter sieged city people\", \"ukraine year old\", \"ukraine march government response\", \"kyiv likely command\", \"tag friend\", \"ukraine mean\", \"heart russiawarcrimes severodonetsk\", \"suffer end bombing\", \"ally preparing reinvade tigray\", \"tank weapon\", \"ukraine mean exactly state\", \"ukraine middle\", \"ukraine win\", \"pregnant woman evacuated\", \"hacking collective\", \"vitaliy klychko\", \"lack component\", \"service ukraine\", \"rape instrument war\", \"russia began active\", \"solidarity putin fostered europe\", \"kyiv standwithukraine freeukraine\", \"kyiv odessa\", \"russia continues\", \"let shelter ukrainerussianwar\", \"spirituality peace\", \"little girl singing\", \"heart counterclockwise arrow\", \"ukraine raised fist\", \"putin war ukraine\", \"point blank\", \"camera flash\", \"repetition slaughter atrocity\", \"russian federation\", \"toy ukrainian\", \"ukraine doe stop\", \"cosy russian\", \"stuck genocidal war tigraygenocide\", \"slavaukraini ukraine\", \"wrapped gift\", \"rocket hit home\", \"ukrainian army\", \"slovenian meet president\", \"freezing currency\", \"preparation disconnection\", \"ukraine aiding endorsing\", \"yellow heart\", \"airbnb help ukraine refugee\", \"people fleeing\", \"stopputinswar standtogether freeukraine\", \"ukraine ukrainewar\", \"people guatemala\", \"potent russian krasukha used\", \"yellow heart blue\", \"kunis respond grief\", \"world killed\", \"hacking collective anonymous\", \"czech slovenian\", \"illegitimate freezing currency reserve\", \"situation ukraine march\", \"daysoftigraygenocide remain forgotten\", \"people guatemala personally\", \"implore end\", \"freezing currency reserve bank\", \"study entrance\", \"czech republic\", \"ukraine ukraineunderattack\", \"point blank\", \"toy ukrainian\", \"repetition slaughter atrocity\", \"camera flash\", \"grow voice unitedblue strongertogether\", \"started shooting point\", \"reserve bank russia mark\", \"reserve simply\", \"south ukraine\", \"ukrainian people\", \"stop russian equipment\", \"flatten building ukraine eods\", \"post potent russian\", \"ukrainian fight russian\", \"ukrainian fighting\", \"identify bizarre\", \"yulia zdanovska europe best\", \"lukashenko longer decide\", \"lukashenko longer decide elected\", \"defend putin\", \"bombing russia\", \"fled ukraine\", \"analyst beginning war\", \"edinburgh commission\", \"respond grief raised million\", \"footprint unite\", \"city mariupol\", \"russiainvadedukraine putinisawarcriminal stopputin russianukrainianwar\", \"charkiv ukraine year\", \"ukraine people russian aggression\", \"oligarch brave people\", \"state amp\", \"released hour secret\", \"raised fist\", \"president putin illegitimate freezing\", \"standwithukraine ukraine kharkiv\", \"changed lock house invited\", \"invasion ukraine continuing\", \"tigray recognise tigraygenocide\", \"repetition slaughter atrocity\", \"refuse walk shelling\", \"ukraine thread\", \"today hacked\", \"recognise tigraygenocide\", \"red heart ukraine ukrainerussia\", \"hand medium light skin\", \"life thousand human mariupol\", \"refugee grateful support impressed\", \"buchenwald peenem nde dora\", \"pretext protecting russian speaking\", \"life ukraine\", \"crossed border\", \"arrow curving\", \"suffering ukun\", \"flatten building ukraine\", \"multiculturalism international law shortlist\", \"mykolaiv oblast\", \"ukraine struggle russian aggression\", \"trying comfort\", \"study entrance exam fee\", \"international crime\", \"russia paying\", \"railway worker\", \"weareallukrainians stopwar\", \"war footage ukraine tangodown\", \"romanian border\", \"beaming face smiling eye\", \"mariupol cabinet\", \"suffering ukun newyork\", \"force people bus\", \"light historic\", \"amp light\", \"light historic milestone\", \"amp light historic\", \"hate russian bring justice\", \"refuse walk shelling\", \"amp kindergarten\", \"changed lock house invited\", \"repetition slaughter atrocity\", \"suffering tigray recognise tigraygenocide\", \"toy ukrainian\", \"strong support including term\", \"right ukraine ukrainerussiawar ukraineunderattack\", \"camp people\", \"let make\", \"battle independence freedom standwithukraine\", \"standwithukraine stopthewar standtogether stopwar\", \"germany baltic state act\", \"stopwar actnow\", \"obligation russia everybody know\", \"stopwar actnow vitaliy\", \"instrument war time ukraine\", \"button speech balloon\", \"kill civilian child ukraine\", \"battle russian\", \"ukraine aiding endorsing genocidal\", \"camp people sent\", \"chornobyl nuclear power\", \"humanitarian corridor\", \"rip dad\", \"strongertogether standwithukraine\", \"idr amp follow\", \"want feel\", \"oil amp\", \"coalition let stop\", \"idr amp follow flagnetwork\", \"government say russia\", \"russian general\", \"attack health\", \"attack health care\", \"kindergarten teacher kitchen\", \"repetition slaughter atrocity\", \"toy ukrainian\", \"changed lock house invited\", \"russian federation\", \"taken staff patient\", \"russia ukrainerussianwar\", \"railway connection ukraine\", \"provide breakfast amp\", \"continues ukraine\", \"middle study pls know\", \"russia ukrainerussiawar\", \"killed bullet hit house\", \"crimea donbas\", \"taken staff patient mariupol\", \"continuing map latest\", \"putin say\", \"network infrastructure site collected\", \"remember clear strong position\", \"mass graf\", \"mila kunis\", \"hotel polish\", \"civilian killed business\", \"kyiv looked like month\", \"military biological\", \"share crucial ukrainian\", \"russian bank\", \"camp remote village russia\", \"letter dated march\", \"guatemala need expand\", \"offering russian pilot reward\", \"lost tank armed force\", \"tax russian government giving\", \"active war zone stand\", \"village near kyiv\", \"diplomatic effort\", \"putin regime\", \"court justice ordered\", \"ukraine raised fist\", \"grow voice unitedblue strongertogether\", \"putin war ukraine\", \"toy ukrainian\", \"ukrainian force\", \"repetition slaughter atrocity\", \"power plant\", \"praytogether ukraine\", \"voice common people implore\", \"ukrainian city\", \"kyiv stopputinswar standtogether ukraine\", \"quality university pls\", \"luhansk oblast\", \"world fraction reaction happening\", \"ukrainian nation\", \"grief raised million amp\", \"landing ship\", \"need weapon humanitarian\", \"filled humanitarian\", \"video seen\", \"taylor greene history\", \"innocent civilian death potus\", \"like netflix\", \"lived year want\", \"like netflix live\", \"russian missile\", \"flagnetwork nft amp\", \"water food electricity\", \"billionaire rented hotel\", \"ukraine palestine\", \"russia state\", \"probably launched territory\", \"remote village russia\", \"giveaway idr\", \"awacs radar amp\", \"video seen russian pow\", \"grow voice unitedblue strongertogether\", \"belarusian embassy\", \"luck cherry\", \"russian federation\", \"ukraine ukraineunderattack\", \"court justice ordered\", \"standwithukraine ukraine kharkiv\", \"crime russia\", \"ukrainerussia russiaukrainewar\", \"ukrainian woman\", \"using rape instrument\", \"russia target\", \"theater country\", \"theater country belong\", \"relationship russia\", \"nation killing starving deporting\", \"nation tonight\", \"russianukrainianwar ukrainerussianwar\", \"relationship russia mean money\", \"released hour\", \"saveukraine kyiv stopputinswar standtogether\", \"russia hour\", \"international law shortlist stand\", \"remain kyiv\", \"quoted pinned flagnetwork cryptocurrency\", \"streaming service wink\", \"putin stop innocent\", \"sanction russian\", \"november know\", \"personally drgiammattei ukraine\", \"endorsing genocidal regime\", \"putin stop innocent civilian\", \"russia occupied crimea donbas\", \"invasion poland lithuania corridor\", \"born ukrainian baby\", \"protectu sky\", \"bridge ukrainian\", \"wave blue wave water\", \"anti tank missile\", \"anti tank weapon\", \"ukrainian woman\", \"putin regime\", \"war rally\", \"grow voice unitedblue strongertogether\", \"changed lock house invited\", \"repetition slaughter atrocity\"], \"Freq\": [4832.0, 3215.0, 3573.0, 3934.0, 8938.0, 3409.0, 10634.0, 1684.0, 1699.0, 1547.0, 1486.0, 1302.0, 1312.0, 1375.0, 1193.0, 1219.0, 1515.0, 1236.0, 1887.0, 1115.0, 1127.0, 1857.0, 1979.0, 1012.0, 1317.0, 937.0, 941.0, 817.0, 1153.0, 1042.0, 3214.5917896000788, 1698.6029234616208, 1374.9418584640473, 468.1786942819855, 398.9191242836275, 365.73117121257764, 338.8027286835167, 287.8176649295647, 271.5667439227221, 238.19844979318964, 201.54397367117878, 196.7108413720595, 191.82172713083307, 175.84037691220647, 166.52583747919317, 166.52583747919317, 166.52583747919317, 163.43054438728643, 161.0163669717661, 154.2200787754932, 153.80806143978197, 152.61565447181553, 149.83891533948753, 149.2697704628897, 138.26521947948444, 136.25206172698313, 136.03592887246603, 127.86650814702499, 126.91066851837516, 126.54095469207641, 4316.7883718009825, 4190.977227875658, 3079.543388734531, 210.0804141369331, 453.08979905865317, 169.74482597599817, 199.51755148589484, 1126.2032281755908, 940.9104789290255, 735.4678704718864, 269.2981188218466, 251.35875933717057, 244.93830265144115, 236.94857631135955, 211.65068187913246, 206.1234803770458, 204.9319537681127, 193.44681602300398, 192.28280110202303, 187.7682523562189, 185.1902821813587, 177.59939850483764, 172.1041316023683, 171.07435929158112, 165.96555264373063, 163.86820293599416, 161.2372853069248, 159.06527935313576, 149.63549292347284, 149.63549292347284, 143.6514944123427, 143.6514944123427, 140.75397662067138, 140.5629457263852, 139.13798569156407, 138.94406886535035, 138.56474393383016, 707.7940260536346, 962.8858303611283, 171.1322794430796, 245.6719760407742, 174.16720671108231, 318.4408156712743, 367.5073644571612, 515.3862152759898, 459.71767344323416, 1546.4964406674567, 936.3208316035722, 712.0879076862793, 671.1288922703125, 413.70499022353397, 279.29102728846993, 254.08898589778258, 219.43496491870553, 211.11614659042758, 209.95586439020227, 208.91305079357318, 203.2115572438973, 193.08381601228422, 186.98650465132275, 178.3482498692918, 159.80785024310737, 154.94637297827458, 136.21605916773814, 132.4708616977872, 131.7583461529086, 127.77515223341564, 123.58978079561098, 119.24133521069896, 117.82128740741872, 116.53384462857902, 115.84361562814925, 113.08219243843894, 111.43481897601997, 109.36585568613937, 109.08510176765337, 374.96296421148656, 820.2705615441265, 476.94765363778964, 299.06257187632883, 210.8668698574206, 397.57497537246826, 287.73831543937166, 1435.5278082816453, 166.14961520889105, 425.74295012162366, 458.59830293384465, 278.7727876157012, 233.7562787534509, 1485.8888446742349, 1114.2001493020377, 547.5259063020163, 525.5708646019757, 469.1350212980208, 462.1975640921405, 450.6123236880801, 433.84599741781454, 394.6517552483807, 310.7345828812242, 307.21748852630293, 300.4255548868017, 231.29468044324557, 229.35230779851975, 205.9262154680929, 202.81639500813077, 201.49468081120946, 192.09623245279985, 189.13609235384206, 180.58658519983283, 167.50955119736065, 158.91153519244497, 158.29352209185487, 149.70579325691534, 141.6795987917616, 136.02976523043483, 131.26346373603857, 129.01773555091404, 128.04886777954385, 124.69064185695242, 699.3245970066738, 1168.8938304234807, 1136.5548619963442, 429.32449796121244, 448.2312999921227, 1210.96239971038, 202.06894818951878, 293.6280992563729, 757.8353346938376, 504.4247928726239, 468.5179500658452, 400.2666214686568, 386.63090366632343, 367.7671370246743, 365.3805616764484, 340.98543316452907, 327.1427481187791, 313.58198604186, 267.4328959293174, 265.19192997951933, 259.76333487130165, 257.5475880161083, 245.29510106507436, 239.68844023449674, 235.6002781930455, 224.40782917800385, 221.84167313389298, 212.50840063391135, 211.6862242087945, 211.0187432630733, 208.4538688430028, 192.4573512557048, 184.46311611305842, 178.59458728717533, 178.0697014322823, 170.71858950829716, 168.64088893074958, 164.53622152328478, 808.2943716767737, 988.8399000976176, 316.7563471097282, 680.1589252897415, 709.2874256448082, 242.71366448220627, 247.0412039840105, 1311.282121102519, 1219.071974038034, 579.316740954534, 511.0612568243198, 428.85882978753705, 300.51599729732715, 218.8371761834034, 212.30760687206333, 208.4312648824932, 206.4385266579165, 196.59733139041504, 194.7398796264061, 183.19559019443986, 180.23581586810113, 157.88992064003958, 153.71729291947346, 150.97737557493676, 147.59729346946034, 143.2147397170839, 137.61591743449182, 135.81624995113512, 130.03540950802457, 126.44387191917254, 122.88957749225374, 119.5945143635585, 115.45518260869854, 107.82906745487905, 107.37333814382671, 107.0144169203022, 105.7955322010001, 3191.811810732217, 2690.2395506987373, 165.3390745947636, 1111.5472174354443, 2283.293466594258, 234.28110601768284, 141.70359533279185, 137.9474324323897, 144.255996831772, 1301.9416217851515, 1011.6979009358008, 765.8274387478293, 649.9216041984342, 528.8588436061622, 441.10597159655384, 380.16119136728986, 334.5339226839061, 330.236336039318, 299.5078548529368, 282.6837696777876, 275.8727454829592, 272.0517341214126, 259.54525034224343, 219.0417289348954, 217.30946683109443, 211.75411608143995, 210.34302369519068, 208.00172099782003, 197.93121760501765, 192.22851125775247, 182.00953896892045, 175.13464780759676, 171.73084907839194, 164.66636950867135, 161.72577190286484, 153.3813190933262, 149.53398776608896, 140.65491692950548, 140.42976705963073, 429.3448433863213, 597.2881445292059, 206.46106202551806, 661.3436890314816, 996.9047730292392, 332.2912335548087, 366.8379687346408, 516.7739864831003, 484.82157099334836, 449.41633448565744, 401.85156415508504, 288.8376271174795, 259.8383364399984, 237.90558484756218, 233.37634153306487, 232.83943698060136, 226.82888149944972, 223.72162182396113, 219.92863379481528, 219.48152250222762, 216.6205782932915, 191.09265607917106, 190.74539124256336, 190.16655487642117, 182.84900835531005, 182.84900835531005, 182.84900835531005, 179.6813484672833, 173.95671920775848, 171.852040357656, 171.7136176622532, 170.54375512649625, 165.11989888757893, 163.19914639664628, 162.22058464576736, 162.22058464576736, 160.28886568314934, 1493.726911537938, 1083.9155565076867, 307.28406198047855, 178.96464900070683, 447.8292893892159, 385.0042567727732, 383.9743005686487, 380.1156964818002, 362.3864478254138, 271.4150541669649, 267.57736802994674, 264.8883000448499, 225.23072706871892, 224.81568869354967, 221.19108480565026, 192.63903928979224, 177.24101452548132, 174.35162420557575, 164.30117639619684, 162.4849652227774, 161.5709009881473, 154.96280137571216, 147.02729583272222, 143.21597716223314, 139.0796223254826, 134.20533898840696, 133.34003563601584, 128.6954603191724, 125.13928256963588, 119.05990621393244, 112.94932412968814, 111.72672436671962, 111.59626767888686, 110.02447252797813, 201.26312522582484, 578.5222149804457, 500.48273302764693, 345.4756444423028, 426.17230769363584, 324.25444709675753, 383.5698710760974, 176.92354165460415, 215.3753994431881, 1683.2318731253258, 1192.4293238239725, 540.0522528165628, 473.14053489540504, 460.75468646430033, 320.55370349610934, 288.18755296518725, 288.18755296518725, 267.60796250570513, 233.3377227941351, 231.48400464514918, 195.6425249253796, 178.1692674598718, 178.1190527662248, 177.6603014608235, 173.21381727901002, 161.87585066795623, 159.92511903032457, 158.94131671491127, 149.166067253254, 145.61459968708175, 143.72667221699547, 140.06350805322475, 136.315964913635, 133.2284783185844, 127.68567349983438, 125.30668475363667, 119.61728346919043, 111.14182983444907, 111.05326283464969, 2373.741772223247, 196.73780218931185, 313.88811655701625, 304.6397892789627, 500.1917299190567, 315.8402100236887, 380.486466423918, 157.10363280252335, 148.62328121240574, 156.17885363727302, 816.1948511213212, 521.9412018000841, 467.9054040794394, 428.7271522087968, 398.47395623063386, 384.76247706545473, 384.76247706545473, 352.48308391471585, 288.1201187215807, 288.1201187215807, 266.442168860206, 230.00037476827225, 225.90934239725914, 218.24715538591298, 216.26427799490637, 212.56068524480145, 201.35778929155458, 188.59823528027732, 185.09015022204036, 181.65002011101237, 181.2779775407546, 170.99873134276717, 168.27783208531284, 165.45418661465945, 164.7784605971013, 152.11382211893815, 143.64140671038948, 142.99077808693718, 138.58280459400476, 138.58280459400476, 1079.0346694778207, 381.8674024406577, 353.4186909376067, 362.3172521578133, 274.60067942421784, 187.0827147667948], \"Total\": [4832.0, 3215.0, 3573.0, 3934.0, 8938.0, 3409.0, 10634.0, 1684.0, 1699.0, 1547.0, 1486.0, 1302.0, 1312.0, 1375.0, 1193.0, 1219.0, 1515.0, 1236.0, 1887.0, 1115.0, 1127.0, 1857.0, 1979.0, 1012.0, 1317.0, 937.0, 941.0, 817.0, 1153.0, 1042.0, 3215.488130290699, 1699.4992535132492, 1375.8381855593382, 469.0751198187312, 399.81548363857473, 366.6275269017903, 339.6990997524898, 288.7141110242779, 272.4631112493986, 239.09481076373194, 202.4403267372847, 197.60719954119386, 192.71810886370395, 176.73673810701845, 167.4221653445654, 167.4221653445654, 167.4221653445654, 164.32693609858975, 161.912761589908, 155.11643844078262, 154.7044544893147, 153.51201016302588, 150.73530937982568, 150.1661178781324, 139.1615986055346, 137.1484545475375, 136.93236633751903, 128.7628709259674, 127.80708127599674, 127.43730629109336, 4832.982120388119, 8938.578283808518, 10634.953397132216, 307.549316713638, 1979.8539251072605, 275.3083893626607, 908.1191859499713, 1127.0992916207163, 941.8065455486136, 736.363927033557, 270.1942095058598, 252.25487509593802, 245.83433709569024, 237.84465153258915, 212.54670620962668, 207.01951772765705, 205.82802340155197, 194.3428665426732, 193.178871275007, 188.66436060487956, 186.08655962491903, 178.49542024622247, 173.00023829411796, 171.97044680594033, 166.86157749684642, 164.76423753783075, 162.13331292278602, 159.96134925668107, 150.53151751404212, 150.53151751404212, 144.5475188518676, 144.5475188518676, 141.65007490546753, 141.4589715043388, 140.03412853916208, 139.84011286894676, 139.4607905195168, 908.1191859499713, 1317.1102261668893, 184.24023676797196, 391.76765939414787, 216.7906555259764, 796.1950013294831, 1857.2558152406752, 4832.982120388119, 8938.578283808518, 1547.3917752188006, 937.2161566372289, 712.9832864204551, 672.0241990085913, 414.60029459342377, 280.1863622522924, 254.98428775735573, 220.33030687810904, 212.01147197044378, 210.85117822009948, 209.80836464177435, 204.10692149223732, 193.979195256005, 187.88183759034965, 179.24357571082055, 160.70325864816192, 155.84168565166016, 137.1113874325135, 133.3661690026041, 132.6536730877475, 128.67049217586418, 124.48509967884598, 120.13670562902723, 118.71660478407787, 117.42918419463443, 116.7389634288783, 113.97750917912606, 112.33014541697784, 110.26119766306414, 109.98041461752742, 428.2499613761055, 1153.3665080184437, 796.1950013294831, 439.1686021919624, 272.10440512206463, 712.2686758802389, 532.7002423711555, 8938.578283808518, 213.09889798868883, 1887.2685308908183, 10634.953397132216, 1979.8539251072605, 1042.8564944168882, 1486.7853616006264, 1115.0966605550486, 548.4224381487785, 526.467426634384, 470.0315264347712, 463.0940561923126, 451.5088777822663, 434.74249972270303, 395.5482423790901, 311.6310770424015, 308.1140119351065, 301.32205681719023, 232.1911843597823, 230.24879769148288, 206.8226987624195, 203.71287991582503, 202.39118461275893, 192.99273445902693, 190.03258865338066, 181.48309054696514, 168.40607349981659, 159.80803190916484, 159.19001273784605, 150.60232881168145, 142.57612020256, 136.92626589489706, 132.15995579214407, 129.91424791940923, 128.94536828357596, 125.58715051308235, 806.623248269326, 1515.1752905342123, 1887.2685308908183, 794.7669397290659, 897.5695421876799, 10634.953397132216, 686.3900312692815, 8938.578283808518, 758.7307316908135, 505.3201934530419, 469.41329090552455, 401.1619669546693, 387.5262921064332, 368.662476138821, 366.2759741521149, 341.88077164216224, 328.03810773685024, 314.4773572400925, 268.32827057145687, 266.08728390298205, 260.65870204357424, 258.44294219281363, 246.19050864432197, 240.5837806605659, 236.49562897752483, 225.30318700985958, 222.73701682335243, 213.4037933659417, 212.58156942230337, 211.9141144645803, 209.34921425587922, 193.35269103474408, 185.35849257513544, 179.48997402334388, 178.965045120654, 171.61392791145428, 169.5362353105061, 165.43155706229334, 1042.8564944168882, 1857.2558152406752, 794.7669397290659, 8938.578283808518, 10634.953397132216, 897.5695421876799, 3409.8970642247423, 1312.1785125684617, 1219.968365439597, 580.2131261941878, 511.95770533656116, 429.7552605648414, 301.41241703265433, 219.73370857467006, 213.20404672004497, 209.32766074487571, 207.33492240817796, 197.49377287836427, 195.6362896405916, 184.09199579392296, 181.13222064306493, 158.78644899417048, 154.61372351312306, 151.87391885080797, 148.49382315262855, 144.11117532232984, 138.5123156964393, 136.71268707671837, 130.93186575899998, 127.34031236250627, 123.78599246857452, 120.49095478568412, 116.35163578809356, 108.72550200053506, 108.26977984535574, 107.91086397454112, 106.69195040991397, 3573.1049389168215, 3934.0933251668625, 182.43473086616265, 1979.8539251072605, 10634.953397132216, 832.3751133917143, 290.78631253515164, 262.1372771988104, 532.7002423711555, 1302.8358996908978, 1012.592174782914, 766.7217252867221, 650.8158574476757, 529.7531314402765, 442.00027530015825, 381.0554402841362, 335.42823831482474, 331.13063863617134, 300.40210520806454, 283.5780739651274, 276.7670038735781, 272.94599243421413, 260.4395440649717, 219.93600817114432, 218.20370964107258, 212.6484064426807, 211.23731095442872, 208.8960068381713, 198.8255074151295, 193.12280348108962, 182.90378053023085, 176.0289746402257, 172.62514565033976, 165.56061319469583, 162.62004264299233, 154.27560676837754, 150.42822991928077, 141.54920261884445, 141.32400819423455, 485.8497153884217, 832.3751133917143, 283.8115405556271, 3934.0933251668625, 10634.953397132216, 1153.3665080184437, 8938.578283808518, 517.6687116598288, 485.7162945268039, 450.31109677784156, 402.7463415677355, 289.7323647193097, 260.7331342110291, 238.80036795278775, 234.27112422351942, 233.73425928736606, 227.72366448035854, 224.61641283411754, 220.82340538536485, 220.3762907966371, 217.515302851825, 191.98739521851357, 191.64013165144723, 191.06132493148556, 183.74372909821037, 183.74372909821037, 183.74372909821037, 180.57607473758176, 174.85151104676407, 172.74685750898215, 172.6083843056004, 171.43848074177788, 166.01463962770893, 164.0939110484345, 163.11532483501128, 163.11532483501128, 161.1836686893915, 10634.953397132216, 8938.578283808518, 3934.0933251668625, 686.3900312692815, 448.723449286828, 385.8984242482902, 384.8684746382881, 381.0098835903871, 363.28059641134655, 272.30922107618744, 268.4715229319251, 265.78246787638346, 226.12487775416997, 225.70983476432806, 222.08523502201086, 193.53319350933398, 178.1351847207665, 175.24580496068626, 165.19538805539116, 163.37911404290463, 162.46510250128864, 155.85698519579563, 147.92145717801066, 144.11013446251658, 139.97377695346242, 135.09949856622583, 134.23421376212846, 129.58960991661456, 126.0334591237405, 119.95410730430436, 113.84350535509991, 112.62086943507224, 112.49042815798826, 110.91867312710932, 231.3363336172153, 961.1934607267453, 1193.2938611582279, 1515.1752905342123, 3409.8970642247423, 1887.2685308908183, 8938.578283808518, 461.08454352698766, 10634.953397132216, 1684.1269762352645, 1193.3244185564204, 540.9473744294054, 474.0356642525399, 461.6498231375842, 321.4488294621935, 289.08265792121625, 289.08265792121625, 268.50308286165176, 234.2328542330974, 232.3792301033951, 196.5376575185268, 179.06438724741588, 179.01416008608874, 178.5554298602114, 174.10893569601285, 162.77095843201792, 160.82025433825618, 159.8364244804934, 150.0612079424565, 146.50970555264044, 144.6217880066756, 140.95866521901453, 137.21107524478032, 134.12364174163235, 128.5808291932006, 126.20183335206076, 120.51242830685602, 112.03692609609556, 111.94836763388464, 3409.8970642247423, 224.59426636275106, 712.2686758802389, 686.3900312692815, 1857.2558152406752, 1193.2938611582279, 3573.1049389168215, 255.17153495707507, 223.8479934111874, 1236.0183007288033, 817.0893935960538, 522.835769796653, 468.79991818861157, 429.62166266456705, 399.3684718839469, 385.65698968681306, 385.65698968681306, 353.3776260263398, 289.0146243055763, 289.0146243055763, 267.336702080027, 230.89490651307705, 226.80389840071703, 219.1416969890613, 217.1588279014504, 213.45520069615668, 202.25230344730642, 189.49275236640605, 185.98468496889657, 182.544589774612, 182.17249977959722, 171.8932441273934, 169.17238576004007, 166.34872545752538, 165.67300875902248, 153.00838531519324, 144.53592133447685, 143.88537196155096, 139.47732962892982, 139.47732962892982, 1236.0183007288033, 961.1934607267453, 1317.1102261668893, 3409.8970642247423, 3934.0933251668625, 10634.953397132216], \"Category\": [\"Default\", \"Default\", \"Default\", \"Default\", \"Default\", \"Default\", \"Default\", \"Default\", \"Default\", \"Default\", \"Default\", \"Default\", \"Default\", \"Default\", \"Default\", \"Default\", \"Default\", \"Default\", \"Default\", \"Default\", \"Default\", \"Default\", \"Default\", \"Default\", \"Default\", \"Default\", \"Default\", \"Default\", \"Default\", \"Default\", \"Topic1\", \"Topic1\", \"Topic1\", \"Topic1\", \"Topic1\", \"Topic1\", \"Topic1\", \"Topic1\", \"Topic1\", \"Topic1\", \"Topic1\", \"Topic1\", \"Topic1\", \"Topic1\", \"Topic1\", \"Topic1\", \"Topic1\", \"Topic1\", \"Topic1\", \"Topic1\", \"Topic1\", \"Topic1\", \"Topic1\", \"Topic1\", \"Topic1\", \"Topic1\", \"Topic1\", \"Topic1\", \"Topic1\", \"Topic1\", \"Topic1\", \"Topic1\", \"Topic1\", \"Topic1\", \"Topic1\", \"Topic1\", \"Topic1\", \"Topic2\", \"Topic2\", \"Topic2\", \"Topic2\", \"Topic2\", \"Topic2\", \"Topic2\", \"Topic2\", \"Topic2\", \"Topic2\", \"Topic2\", \"Topic2\", \"Topic2\", \"Topic2\", \"Topic2\", \"Topic2\", \"Topic2\", \"Topic2\", \"Topic2\", \"Topic2\", \"Topic2\", \"Topic2\", \"Topic2\", \"Topic2\", \"Topic2\", \"Topic2\", \"Topic2\", \"Topic2\", \"Topic2\", \"Topic2\", \"Topic2\", \"Topic2\", \"Topic2\", \"Topic2\", \"Topic2\", \"Topic2\", \"Topic2\", \"Topic2\", \"Topic2\", \"Topic3\", \"Topic3\", \"Topic3\", \"Topic3\", \"Topic3\", \"Topic3\", \"Topic3\", \"Topic3\", \"Topic3\", \"Topic3\", \"Topic3\", \"Topic3\", \"Topic3\", \"Topic3\", \"Topic3\", \"Topic3\", \"Topic3\", \"Topic3\", \"Topic3\", \"Topic3\", \"Topic3\", \"Topic3\", \"Topic3\", \"Topic3\", \"Topic3\", \"Topic3\", \"Topic3\", \"Topic3\", \"Topic3\", \"Topic3\", \"Topic3\", \"Topic3\", \"Topic3\", \"Topic3\", \"Topic3\", \"Topic3\", \"Topic3\", \"Topic3\", \"Topic3\", \"Topic3\", \"Topic3\", \"Topic3\", \"Topic3\", \"Topic4\", \"Topic4\", \"Topic4\", \"Topic4\", \"Topic4\", \"Topic4\", \"Topic4\", \"Topic4\", \"Topic4\", \"Topic4\", \"Topic4\", \"Topic4\", \"Topic4\", \"Topic4\", \"Topic4\", \"Topic4\", \"Topic4\", \"Topic4\", \"Topic4\", \"Topic4\", \"Topic4\", \"Topic4\", \"Topic4\", \"Topic4\", \"Topic4\", \"Topic4\", \"Topic4\", \"Topic4\", \"Topic4\", \"Topic4\", \"Topic4\", \"Topic4\", \"Topic4\", \"Topic4\", \"Topic4\", \"Topic4\", \"Topic4\", \"Topic4\", \"Topic5\", \"Topic5\", \"Topic5\", \"Topic5\", \"Topic5\", \"Topic5\", \"Topic5\", \"Topic5\", \"Topic5\", \"Topic5\", \"Topic5\", \"Topic5\", \"Topic5\", \"Topic5\", \"Topic5\", \"Topic5\", \"Topic5\", \"Topic5\", \"Topic5\", \"Topic5\", \"Topic5\", \"Topic5\", \"Topic5\", \"Topic5\", \"Topic5\", \"Topic5\", \"Topic5\", \"Topic5\", \"Topic5\", \"Topic5\", \"Topic5\", \"Topic5\", \"Topic5\", \"Topic5\", \"Topic5\", \"Topic5\", \"Topic5\", \"Topic6\", \"Topic6\", \"Topic6\", \"Topic6\", \"Topic6\", \"Topic6\", \"Topic6\", \"Topic6\", \"Topic6\", \"Topic6\", \"Topic6\", \"Topic6\", \"Topic6\", \"Topic6\", \"Topic6\", \"Topic6\", \"Topic6\", \"Topic6\", \"Topic6\", \"Topic6\", \"Topic6\", \"Topic6\", \"Topic6\", \"Topic6\", \"Topic6\", \"Topic6\", \"Topic6\", \"Topic6\", \"Topic6\", \"Topic6\", \"Topic6\", \"Topic6\", \"Topic6\", \"Topic6\", \"Topic6\", \"Topic6\", \"Topic6\", \"Topic6\", \"Topic6\", \"Topic7\", \"Topic7\", \"Topic7\", \"Topic7\", \"Topic7\", \"Topic7\", \"Topic7\", \"Topic7\", \"Topic7\", \"Topic7\", \"Topic7\", \"Topic7\", \"Topic7\", \"Topic7\", \"Topic7\", \"Topic7\", \"Topic7\", \"Topic7\", \"Topic7\", \"Topic7\", \"Topic7\", \"Topic7\", \"Topic7\", \"Topic7\", \"Topic7\", \"Topic7\", \"Topic7\", \"Topic7\", \"Topic7\", \"Topic7\", \"Topic7\", \"Topic7\", \"Topic7\", \"Topic7\", \"Topic7\", \"Topic7\", \"Topic7\", \"Topic8\", \"Topic8\", \"Topic8\", \"Topic8\", \"Topic8\", \"Topic8\", \"Topic8\", \"Topic8\", \"Topic8\", \"Topic8\", \"Topic8\", \"Topic8\", \"Topic8\", \"Topic8\", \"Topic8\", \"Topic8\", \"Topic8\", \"Topic8\", \"Topic8\", \"Topic8\", \"Topic8\", \"Topic8\", \"Topic8\", \"Topic8\", \"Topic8\", \"Topic8\", \"Topic8\", \"Topic8\", \"Topic8\", \"Topic8\", \"Topic8\", \"Topic8\", \"Topic8\", \"Topic8\", \"Topic9\", \"Topic9\", \"Topic9\", \"Topic9\", \"Topic9\", \"Topic9\", \"Topic9\", \"Topic9\", \"Topic9\", \"Topic9\", \"Topic9\", \"Topic9\", \"Topic9\", \"Topic9\", \"Topic9\", \"Topic9\", \"Topic9\", \"Topic9\", \"Topic9\", \"Topic9\", \"Topic9\", \"Topic9\", \"Topic9\", \"Topic9\", \"Topic9\", \"Topic9\", \"Topic9\", \"Topic9\", \"Topic9\", \"Topic9\", \"Topic9\", \"Topic9\", \"Topic9\", \"Topic9\", \"Topic9\", \"Topic9\", \"Topic9\", \"Topic9\", \"Topic9\", \"Topic10\", \"Topic10\", \"Topic10\", \"Topic10\", \"Topic10\", \"Topic10\", \"Topic10\", \"Topic10\", \"Topic10\", \"Topic10\", \"Topic10\", \"Topic10\", \"Topic10\", \"Topic10\", \"Topic10\", \"Topic10\", \"Topic10\", \"Topic10\", \"Topic10\", \"Topic10\", \"Topic10\", \"Topic10\", \"Topic10\", \"Topic10\", \"Topic10\", \"Topic10\", \"Topic10\", \"Topic10\", \"Topic10\", \"Topic10\", \"Topic10\", \"Topic10\", \"Topic10\", \"Topic10\", \"Topic10\", \"Topic10\", \"Topic10\", \"Topic10\", \"Topic10\", \"Topic10\", \"Topic11\", \"Topic11\", \"Topic11\", \"Topic11\", \"Topic11\", \"Topic11\", \"Topic11\", \"Topic11\", \"Topic11\", \"Topic11\", \"Topic11\", \"Topic11\", \"Topic11\", \"Topic11\", \"Topic11\", \"Topic11\", \"Topic11\", \"Topic11\", \"Topic11\", \"Topic11\", \"Topic11\", \"Topic11\", \"Topic11\", \"Topic11\", \"Topic11\", \"Topic11\", \"Topic11\", \"Topic11\", \"Topic11\", \"Topic11\", \"Topic11\", \"Topic11\", \"Topic11\", \"Topic11\", \"Topic11\", \"Topic11\"], \"logprob\": [30.0, 29.0, 28.0, 27.0, 26.0, 25.0, 24.0, 23.0, 22.0, 21.0, 20.0, 19.0, 18.0, 17.0, 16.0, 15.0, 14.0, 13.0, 12.0, 11.0, 10.0, 9.0, 8.0, 7.0, 6.0, 5.0, 4.0, 3.0, 2.0, 1.0, -2.453, -3.0909, -3.3023, -4.3796, -4.5397, -4.6265, -4.703, -4.8661, -4.9242, -5.0553, -5.2224, -5.2467, -5.2719, -5.3588, -5.4133, -5.4133, -5.4133, -5.432, -5.4469, -5.49, -5.4927, -5.5005, -5.5189, -5.5227, -5.5992, -5.6139, -5.6155, -5.6774, -5.6849, -5.6879, -2.1582, -2.1877, -2.4959, -5.1809, -4.4123, -5.3941, -5.2325, -3.4304, -3.6101, -3.8565, -4.8611, -4.9301, -4.956, -4.9891, -5.102, -5.1285, -5.1343, -5.192, -5.198, -5.2218, -5.2356, -5.2774, -5.3089, -5.3149, -5.3452, -5.3579, -5.3741, -5.3876, -5.4488, -5.4488, -5.4896, -5.4896, -5.5099, -5.5113, -5.5215, -5.5229, -5.5256, -3.8948, -3.587, -5.3145, -4.953, -5.2969, -4.6935, -4.5502, -4.212, -4.3263, -3.0915, -3.5933, -3.8671, -3.9263, -4.4101, -4.803, -4.8976, -5.0442, -5.0829, -5.0884, -5.0934, -5.121, -5.1722, -5.2043, -5.2516, -5.3613, -5.3922, -5.5211, -5.5489, -5.5543, -5.585, -5.6183, -5.6541, -5.6661, -5.6771, -5.6831, -5.7072, -5.7219, -5.7406, -5.7432, -4.5085, -3.7257, -4.2679, -4.7346, -5.0841, -4.4499, -4.7732, -3.166, -5.3224, -4.3815, -4.3071, -4.8049, -4.981, -3.1188, -3.4066, -4.1171, -4.1581, -4.2716, -4.2865, -4.3119, -4.3498, -4.4445, -4.6836, -4.695, -4.7173, -4.9788, -4.9873, -5.095, -5.1102, -5.1168, -5.1645, -5.1801, -5.2263, -5.3015, -5.3542, -5.3581, -5.4139, -5.469, -5.5097, -5.5453, -5.5626, -5.5701, -5.5967, -3.8724, -3.3587, -3.3868, -4.3603, -4.3172, -3.3234, -5.1139, -4.7402, -3.7908, -4.1979, -4.2717, -4.4292, -4.4638, -4.5139, -4.5204, -4.5895, -4.6309, -4.6732, -4.8324, -4.8409, -4.8615, -4.8701, -4.9188, -4.942, -4.9592, -5.0078, -5.0193, -5.0623, -5.0662, -5.0694, -5.0816, -5.1614, -5.2039, -5.2362, -5.2391, -5.2813, -5.2935, -5.3182, -3.7264, -3.5248, -4.6632, -3.899, -3.857, -4.9294, -4.9118, -3.2361, -3.3091, -4.053, -4.1784, -4.3538, -4.7094, -5.0266, -5.0569, -5.0753, -5.0849, -5.1337, -5.1432, -5.2043, -5.2206, -5.353, -5.3798, -5.3978, -5.4204, -5.4506, -5.4904, -5.5036, -5.5471, -5.5751, -5.6036, -5.6308, -5.666, -5.7343, -5.7386, -5.7419, -5.7534, -2.3466, -2.5175, -5.3069, -3.4014, -2.6815, -4.9584, -5.4612, -5.488, -5.4433, -3.2076, -3.4599, -3.7383, -3.9024, -4.1085, -4.29, -4.4387, -4.5665, -4.5794, -4.6771, -4.7349, -4.7593, -4.7733, -4.8203, -4.99, -4.9979, -5.0238, -5.0305, -5.0417, -5.0913, -5.1206, -5.1752, -5.2137, -5.2333, -5.2753, -5.2934, -5.3463, -5.3717, -5.4329, -5.4345, -4.317, -3.9869, -5.0491, -3.885, -3.4746, -4.5732, -4.4743, -4.119, -4.1828, -4.2586, -4.3705, -4.7007, -4.8065, -4.8947, -4.9139, -4.9162, -4.9424, -4.9562, -4.9733, -4.9753, -4.9884, -5.1138, -5.1156, -5.1187, -5.1579, -5.1579, -5.1579, -5.1754, -5.2078, -5.2199, -5.2207, -5.2276, -5.2599, -5.2716, -5.2776, -5.2776, -5.2896, -3.0575, -3.3782, -4.6388, -5.1794, -4.2122, -4.3634, -4.3661, -4.3762, -4.4239, -4.713, -4.7272, -4.7373, -4.8995, -4.9014, -4.9176, -5.0558, -5.1391, -5.1556, -5.2149, -5.2261, -5.2317, -5.2735, -5.326, -5.3523, -5.3816, -5.4173, -5.4237, -5.4592, -5.4872, -5.537, -5.5897, -5.6006, -5.6018, -5.6159, -5.012, -3.9562, -4.1011, -4.4717, -4.2618, -4.5351, -4.3671, -5.1409, -4.9443, -2.8755, -3.2202, -4.0123, -4.1445, -4.1711, -4.5339, -4.6403, -4.6403, -4.7144, -4.8514, -4.8594, -5.0276, -5.1212, -5.1215, -5.1241, -5.1494, -5.2171, -5.2292, -5.2354, -5.2989, -5.323, -5.336, -5.3618, -5.389, -5.4119, -5.4544, -5.4732, -5.5196, -5.5931, -5.5939, -2.5317, -5.0221, -4.5549, -4.5848, -4.0889, -4.5487, -4.3625, -5.247, -5.3025, -5.2529, -3.5269, -3.974, -4.0833, -4.1707, -4.2439, -4.2789, -4.2789, -4.3665, -4.5681, -4.5681, -4.6464, -4.7934, -4.8114, -4.8459, -4.855, -4.8723, -4.9264, -4.9919, -5.0107, -5.0294, -5.0315, -5.0899, -5.1059, -5.1228, -5.1269, -5.2069, -5.2642, -5.2687, -5.3001, -5.3001, -3.2477, -4.2864, -4.3639, -4.339, -4.6162, -5.0], \"loglift\": [30.0, 29.0, 28.0, 27.0, 26.0, 25.0, 24.0, 23.0, 22.0, 21.0, 20.0, 19.0, 18.0, 17.0, 16.0, 15.0, 14.0, 13.0, 12.0, 11.0, 10.0, 9.0, 8.0, 7.0, 6.0, 5.0, 4.0, 3.0, 2.0, 1.0, 2.2611, 2.2608, 2.2607, 2.2594, 2.2591, 2.2589, 2.2587, 2.2582, 2.258, 2.2576, 2.2569, 2.2568, 2.2567, 2.2563, 2.256, 2.256, 2.256, 2.2559, 2.2558, 2.2555, 2.2555, 2.2555, 2.2554, 2.2554, 2.2549, 2.2548, 2.2548, 2.2544, 2.2543, 2.2543, 2.1484, 1.5039, 1.022, 1.8802, 0.7867, 1.7777, 0.7459, 2.332, 2.3318, 2.3316, 2.3295, 2.3292, 2.3291, 2.329, 2.3286, 2.3285, 2.3284, 2.3282, 2.3282, 2.328, 2.328, 2.3278, 2.3276, 2.3276, 2.3274, 2.3273, 2.3273, 2.3272, 2.3268, 2.3268, 2.3266, 2.3266, 2.3265, 2.3264, 2.3264, 2.3264, 2.3264, 2.0836, 2.0195, 2.259, 1.8661, 2.1139, 1.4164, 0.7127, 0.0945, -0.6347, 2.3539, 2.3535, 2.3532, 2.3531, 2.3523, 2.3513, 2.3509, 2.3504, 2.3502, 2.3502, 2.3502, 2.3501, 2.3498, 2.3497, 2.3495, 2.3489, 2.3487, 2.3479, 2.3477, 2.3477, 2.3475, 2.3472, 2.347, 2.3469, 2.3468, 2.3468, 2.3466, 2.3465, 2.3463, 2.3463, 2.2216, 2.0137, 1.842, 1.9702, 2.0995, 1.7714, 1.7386, 0.5256, 2.1056, 0.8654, -0.7893, 0.3941, 0.859, 2.3666, 2.3664, 2.3656, 2.3655, 2.3653, 2.3653, 2.3652, 2.3652, 2.365, 2.3643, 2.3643, 2.3642, 2.3634, 2.3633, 2.3629, 2.3628, 2.3628, 2.3626, 2.3625, 2.3623, 2.3619, 2.3616, 2.3616, 2.3612, 2.3609, 2.3607, 2.3604, 2.3603, 2.3602, 2.3601, 2.2245, 2.1077, 1.8601, 1.7514, 1.6728, 0.1945, 1.1444, -1.0486, 2.3673, 2.3667, 2.3665, 2.3662, 2.3661, 2.366, 2.366, 2.3658, 2.3657, 2.3656, 2.3651, 2.3651, 2.365, 2.365, 2.3648, 2.3647, 2.3647, 2.3645, 2.3644, 2.3642, 2.3642, 2.3642, 2.3642, 2.3638, 2.3636, 2.3634, 2.3634, 2.3632, 2.3632, 2.363, 2.1137, 1.7381, 1.4485, -0.2074, -0.3392, 1.0606, -0.2564, 2.3742, 2.3741, 2.3733, 2.3731, 2.3728, 2.3719, 2.3708, 2.3707, 2.3706, 2.3705, 2.3703, 2.3703, 2.37, 2.3699, 2.3692, 2.369, 2.3689, 2.3688, 2.3686, 2.3684, 2.3683, 2.368, 2.3678, 2.3676, 2.3674, 2.3671, 2.3666, 2.3665, 2.3665, 2.3664, 2.262, 1.9948, 2.2765, 1.7976, 0.8363, 1.1071, 1.656, 1.7329, 1.0685, 2.4098, 2.4096, 2.4093, 2.4091, 2.4088, 2.4085, 2.4082, 2.4078, 2.4078, 2.4075, 2.4073, 2.4073, 2.4072, 2.4071, 2.4064, 2.4064, 2.4063, 2.4063, 2.4062, 2.406, 2.4059, 2.4056, 2.4054, 2.4053, 2.4051, 2.405, 2.4047, 2.4045, 2.4042, 2.4042, 2.2869, 2.0786, 2.0923, 0.6273, 0.0433, 1.1661, -0.7827, 2.4215, 2.4214, 2.4212, 2.421, 2.4201, 2.4198, 2.4194, 2.4194, 2.4194, 2.4193, 2.4192, 2.4191, 2.4191, 2.4191, 2.4185, 2.4185, 2.4185, 2.4183, 2.4183, 2.4183, 2.4182, 2.4181, 2.418, 2.418, 2.418, 2.4178, 2.4177, 2.4177, 2.4177, 2.4176, 0.4603, 0.3134, -0.1265, 1.0789, 2.4711, 2.4708, 2.4708, 2.4708, 2.4707, 2.4698, 2.4698, 2.4697, 2.4692, 2.4691, 2.4691, 2.4685, 2.4681, 2.468, 2.4677, 2.4676, 2.4676, 2.4674, 2.4671, 2.4669, 2.4667, 2.4665, 2.4664, 2.4662, 2.466, 2.4656, 2.4652, 2.4651, 2.4651, 2.465, 2.3339, 1.9654, 1.6042, 0.9948, 0.3935, 0.7118, -0.6755, 1.5153, -1.4264, 2.4853, 2.4851, 2.4842, 2.4839, 2.4839, 2.483, 2.4827, 2.4827, 2.4825, 2.482, 2.482, 2.4813, 2.4808, 2.4808, 2.4808, 2.4807, 2.4803, 2.4802, 2.4802, 2.4798, 2.4797, 2.4796, 2.4795, 2.4793, 2.4791, 2.4788, 2.4787, 2.4784, 2.4778, 2.4778, 2.1236, 2.3534, 1.6664, 1.6735, 1.174, 1.1566, 0.2461, 2.0008, 2.0763, 0.4172, 2.5571, 2.5565, 2.5563, 2.5562, 2.556, 2.5559, 2.5559, 2.5557, 2.5551, 2.5551, 2.5549, 2.5544, 2.5543, 2.5542, 2.5541, 2.554, 2.5538, 2.5535, 2.5534, 2.5533, 2.5533, 2.553, 2.5529, 2.5528, 2.5528, 2.5524, 2.552, 2.552, 2.5518, 2.5518, 2.4224, 1.6351, 1.2427, 0.3163, -0.1039, -1.4821]}, \"token.table\": {\"Topic\": [3, 9, 5, 4, 2, 7, 10, 7, 7, 2, 6, 11, 11, 2, 7, 8, 8, 10, 3, 8, 3, 3, 8, 8, 7, 6, 10, 10, 3, 6, 11, 11, 7, 8, 4, 5, 6, 11, 8, 8, 9, 1, 3, 3, 6, 7, 8, 11, 6, 8, 6, 1, 1, 9, 2, 2, 3, 8, 2, 2, 9, 9, 2, 5, 9, 5, 1, 5, 7, 9, 10, 3, 9, 10, 9, 7, 2, 3, 3, 3, 5, 5, 3, 5, 6, 1, 8, 9, 6, 11, 1, 2, 4, 2, 10, 10, 10, 7, 6, 6, 1, 1, 3, 3, 6, 7, 5, 5, 2, 8, 10, 8, 10, 5, 9, 10, 11, 9, 4, 5, 3, 5, 7, 2, 7, 4, 10, 4, 1, 9, 1, 8, 6, 8, 8, 5, 5, 1, 4, 10, 8, 7, 11, 11, 6, 8, 8, 9, 2, 3, 8, 1, 3, 4, 5, 4, 9, 4, 4, 10, 4, 10, 2, 2, 8, 4, 9, 7, 7, 7, 7, 3, 3, 10, 10, 4, 10, 3, 3, 9, 2, 2, 2, 3, 10, 10, 6, 6, 7, 1, 1, 1, 3, 2, 9, 9, 9, 9, 1, 7, 7, 1, 11, 11, 10, 9, 11, 8, 9, 8, 6, 2, 5, 5, 5, 1, 1, 11, 2, 4, 5, 10, 3, 6, 5, 10, 10, 4, 5, 3, 6, 1, 7, 10, 11, 2, 1, 9, 9, 11, 9, 11, 11, 3, 4, 9, 3, 10, 11, 9, 7, 6, 4, 4, 3, 6, 11, 7, 7, 6, 7, 11, 11, 11, 6, 11, 9, 10, 1, 3, 4, 5, 6, 7, 8, 9, 11, 6, 6, 6, 8, 8, 5, 7, 3, 7, 3, 4, 4, 1, 1, 1, 1, 11, 11, 7, 10, 11, 9, 9, 6, 2, 9, 4, 8, 10, 8, 2, 2, 10, 2, 2, 2, 11, 11, 11, 4, 9, 3, 5, 5, 5, 5, 4, 1, 1, 6, 4, 8, 6, 10, 6, 6, 1, 6, 1, 1, 2, 5, 8, 8, 11, 8, 8, 5, 5, 7, 4, 3, 7, 7, 7, 3, 3, 3, 4, 9, 9, 2, 4, 9, 10, 1, 2, 1, 11, 11, 3, 1, 3, 6, 8, 2, 4, 6, 2, 1, 2, 3, 4, 5, 7, 8, 9, 11, 7, 5, 8, 5, 4, 4, 4, 4, 10, 6, 4, 9, 7, 1, 4, 6, 10, 2, 5, 10, 5, 4, 4, 4, 9, 10, 11, 5, 10, 6, 6, 2, 6, 9, 11, 10, 6, 10, 11, 3, 11, 10, 10, 1, 9, 4, 10, 8, 2, 3, 2, 2, 7, 2, 11, 10, 11, 7, 1, 6, 2, 10, 5, 3, 5, 5, 5, 6, 3, 3], \"Freq\": [0.9897562551820963, 0.995640267656378, 0.9974729328489323, 0.9956124791156848, 0.9959771104640277, 0.7258337684109218, 0.271306796930296, 0.9971532609304081, 0.9906313993556223, 0.9964487259766133, 0.9966744532389002, 0.9965777260706115, 0.9965777260706115, 0.9926151678169449, 0.9965855209266405, 0.9931623540820618, 0.9931623540820618, 0.9907447827048899, 0.8756568215324616, 0.12142441258583468, 0.9952291639643689, 0.9930620904772238, 0.9974722716255078, 0.9976309581667638, 0.994154515514683, 0.12021678218797997, 0.8771372626308168, 0.9931989621388297, 0.9945767567109212, 0.9960306012999488, 0.9959377283960515, 0.996292123580569, 0.9985783350855728, 0.9962712042053337, 0.49912567098486077, 0.27073111171723474, 0.08690134450182843, 0.14260733456710306, 0.9970884644255428, 0.996659720247889, 0.9908055202355819, 0.9919250237965026, 0.9959631327304656, 0.9961471286278097, 0.6837661889695779, 0.16801838323750595, 0.07803576952180684, 0.06990174794298659, 0.9936503924806027, 0.9944451084913907, 0.9928828192159485, 0.9954210182971566, 0.9978249060136317, 0.9945014643089686, 0.99536162974896, 0.9967554443563538, 0.9881586068277555, 0.996475349050697, 0.997427830243168, 0.997224465224155, 0.9964749110632474, 0.995113430112077, 0.6279231940186911, 0.1939925314854493, 0.17867733163133487, 0.9973874120406301, 0.9936851599462329, 0.16844132576439014, 0.14665289556601133, 0.4190082730457466, 0.26481322856491185, 0.145000499394355, 0.23513594496381893, 0.6152723893219929, 0.9950254135443121, 0.9987233086964408, 0.802617620108404, 0.19373528761237338, 0.9939637358617084, 0.22438370116383155, 0.7747950023092987, 0.9935551978989989, 0.9918942733107377, 0.9972701872290641, 0.9950471277671853, 0.9969272397837545, 0.12535860470575866, 0.8688648119261203, 0.9922894576368244, 0.9935637937613209, 0.22023540862731875, 0.7796333465407084, 0.9991121451950558, 0.9281360195783595, 0.06513235225111294, 0.9940558406739739, 0.9965210116919025, 0.9979614997836593, 0.9966609193490186, 0.994245760842805, 0.99747843815246, 0.9931910448752425, 0.995765810145948, 0.9945990981287156, 0.9947869719193038, 0.9961871695953645, 0.9968354050570155, 0.996837046018369, 0.9966959134692965, 0.9966483805713985, 0.995747921487805, 0.9938882520843687, 0.9947366297647104, 0.07243620418675505, 0.12493045742331031, 0.6962086993496214, 0.10616156241135759, 0.9918001209287937, 0.9948561044963188, 0.9956863917871167, 0.7754376483002783, 0.2205035966730649, 0.9994151892561871, 0.11526197963341347, 0.8829890939773997, 0.8665755685814409, 0.1314120318592743, 0.9979749226284141, 0.9916261940294818, 0.9971372159674416, 0.99436263342713, 0.995952356568246, 0.9974998053297185, 0.9968097947725415, 0.9974423435165742, 0.9930040227135964, 0.996422621876174, 0.6828173193294165, 0.3153965713093019, 0.9936307938959031, 0.9972557088489665, 0.9969508050705497, 0.9964555353484414, 0.9918921803950356, 0.9044330496535055, 0.08770259875427933, 0.9937548145870776, 0.9970559838553859, 0.3993996438925199, 0.5990994658387799, 0.9926563981387438, 0.9916528796940077, 0.9953064244971226, 0.9992297212524629, 0.9981078435412378, 0.9988729395870003, 0.9937706320936133, 0.9932352942743063, 0.9959592097067763, 0.9985923895017057, 0.9973380960974977, 0.9940647445006965, 0.9990246718910314, 0.9966061002480484, 0.9981468694046226, 0.9929626816607799, 0.9954501760056693, 0.9990586867921968, 0.9972302185651799, 0.9917316366786832, 0.9961200585472508, 0.9991005670050147, 0.998702373376071, 0.9952635381677136, 0.9947669970520675, 0.9953247564684479, 0.994899558257563, 0.9936699503989643, 0.9956238681525331, 0.9925906589711125, 0.994836573465436, 0.9964690616103532, 0.9962121878243465, 0.5587779070982476, 0.440844881479522, 0.9962548499830408, 0.9940682060118172, 0.9937492035428857, 0.9963785945090177, 0.9966646898670525, 0.9965684593952852, 0.9979420029284765, 0.9947890758438401, 0.9964786109960061, 0.992763792806429, 0.9951921529832398, 0.9915588106167447, 0.9922966246152152, 0.9975265808042967, 0.9972287018942169, 0.9965341405976417, 0.9951218504619058, 0.9982964403488536, 0.9982964403488536, 0.9972643536851145, 0.9936273975152863, 0.9947055588525407, 0.9968585722537863, 0.9920460639010555, 0.9956765783195604, 0.9883831819042472, 0.9950253683086967, 0.9982861122495534, 0.997904278486382, 0.9946076334627056, 0.99747843815246, 0.99747843815246, 0.9970166753488316, 0.9930902195353883, 0.5397808823631303, 0.3988590669210077, 0.06039506376090968, 0.9914236660709104, 0.9943526085054756, 0.9942158518609745, 0.9993308246639552, 0.9988901437565297, 0.9931262588564778, 0.998482061652127, 0.9963451658326854, 0.9935145021976309, 0.9940753811989326, 0.9977369351196015, 0.9954827698899976, 0.9934096074988571, 0.9955801809815102, 0.9962737862677357, 0.9973494556601246, 0.6023761330650605, 0.3974225955627861, 0.997244950596507, 0.9938082116941986, 0.9948034948556129, 0.22572304525149994, 0.6024579869740738, 0.17167668230395772, 0.9885617271552037, 0.9986037296731041, 0.9946636850426532, 0.997743450826664, 0.9957107517193211, 0.9915591077580844, 0.9994717720385806, 0.9949437340569708, 0.5406417664051631, 0.2703208832025816, 0.1877228355573483, 0.999358399863639, 0.9987464081608655, 0.28112325348905526, 0.7172247108246409, 0.9965734103208214, 0.9964893669030964, 0.9964893669030964, 0.9882720751148714, 0.9947901426120731, 0.9928910996701705, 0.9904768946683362, 0.2896110481152218, 0.04315956853405416, 0.11386979846348494, 0.06666695880314684, 0.21466948793735435, 0.09374747239314161, 0.14048016424809787, 0.020216355631419707, 0.017583527921281324, 0.9992062372541537, 0.9979091714071602, 0.9963012985967106, 0.9985252820733517, 0.995952356568246, 0.9982030280223814, 0.9950587105000738, 0.6808319140021442, 0.316507143967552, 0.9961398101584503, 0.9925245766528974, 0.9912230918572006, 0.9997062349323089, 0.9993907818752702, 0.9958314376800802, 0.9928025781664087, 0.9961241825270565, 0.9930698751171895, 0.9941425548884418, 0.9916223439280237, 0.9984014678319004, 0.9976718633924451, 0.9982436761755001, 0.9894745635718976, 0.9939923327312093, 0.9918615644181177, 0.29429331837244044, 0.26078467321122195, 0.44435377279007093, 0.9933336280338176, 0.9981477541423687, 0.9930099934285205, 0.9929281660663198, 0.9939901153550633, 0.9964690616103532, 0.9962121878243465, 0.9961015471131239, 0.9973996242059261, 0.9949999305384306, 0.9975887241393522, 0.9930431472618891, 0.778981034471662, 0.21586221437166536, 0.9926709990124419, 0.9971034967160768, 0.9974237461851638, 0.9960005345439603, 0.9979603500315863, 0.9982883802885908, 0.9981293272343044, 0.9926684587731999, 0.9971881816507613, 0.8933406811633267, 0.10635008109087223, 0.9991018656705826, 0.9933272140649073, 0.9922344807563129, 0.9986317185047833, 0.9977080007587129, 0.9983002790826436, 0.9941609989076635, 0.99516427887136, 0.9945741318835921, 0.9968221814715222, 0.9978674649543693, 0.9987082246912612, 0.995952356568246, 0.9991195585776294, 0.9973913256336526, 0.9944835509760462, 0.9963844165083245, 0.7109622087161276, 0.28785299182165164, 0.9986614434416629, 0.9966138492490568, 0.9984759492141768, 0.9985521124773622, 0.9950723332981883, 0.9982920930822806, 0.9983877613528381, 0.996855100420993, 0.9942182837204105, 0.9948698122925436, 0.9944870836268035, 0.9968893140878088, 0.8932373206572751, 0.10655946725469, 0.9998481940312264, 0.9982936895729368, 0.9985529997237304, 0.9949520604273427, 0.22880475890435115, 0.14091948727221626, 0.561657598016862, 0.06869193644810542, 0.179295369595047, 0.2899244274302888, 0.5264417234918402, 0.9954106984701464, 0.468866509519936, 0.05146232268651171, 0.16065194647354525, 0.03289113667355314, 0.07607473788440862, 0.04105798353467347, 0.12127208215691021, 0.04295985198178369, 0.004922483039579381, 0.995744179505086, 0.9950498299391709, 0.9948569789314046, 0.9990369024737075, 0.9976375075912046, 0.9986139683599842, 0.9945763117809797, 0.9960222027497836, 0.9911736334503626, 0.9959253805685466, 0.7715278933751885, 0.22769642704400345, 0.9983122990537027, 0.08597378529286134, 0.16163071635057932, 0.4883311004634524, 0.26136030729029847, 0.1981417944583537, 0.5325060726068256, 0.2692143946445023, 0.9975734828883185, 0.9990165331904924, 0.996500565324492, 0.997805410112391, 0.23676781369509112, 0.6656302686899731, 0.09381366203013045, 0.9965163585870773, 0.997815218704751, 0.9936574997296042, 0.9935615168314487, 0.1821791712154485, 0.17784157190079497, 0.3838775393468379, 0.25374955990723186, 0.9981263423261663, 0.9982425798259019, 0.1262117234898678, 0.872964420804919, 0.9986208843332195, 0.9986667387869773, 0.9943347493539001, 0.991528526463323, 0.9954464498670051, 0.9917175972159661, 0.9945662548687157, 0.9982486754272453, 0.9951300904312097, 0.9938975144267782, 0.9905382320659158, 0.9991436186630623, 0.9950752579329343, 0.9941860647171086, 0.7311460961035614, 0.26801097811480495, 0.9957005924539746, 0.9938466853893421, 0.99584808093357, 0.6174893558222116, 0.3813904844784249, 0.9943568978044499, 0.9962548499830408, 0.9972642528518169, 0.9939622156526792, 0.998641918968717, 0.9959138073528592, 0.996691089636273, 0.9967475888969243, 0.9961031506574082, 0.9910855526328306], \"Term\": [\"aching heart add\", \"active war zone stand\", \"airbnb help ukraine refugee\", \"ally preparing reinvade tigray\", \"amp ensure peace\", \"amp kindergarten\", \"amp kindergarten\", \"amp light\", \"amp light historic\", \"amp sending flexport amp\", \"analyst beginning war\", \"anti tank missile\", \"anti tank weapon\", \"anti war coalition\", \"arrow curving\", \"attack health\", \"attack health care\", \"awacs radar amp\", \"azov regiment\", \"azov regiment\", \"backhand index\", \"backhand index pointing\", \"battle independence freedom standwithukraine\", \"battle russian\", \"beaming face smiling eye\", \"belarusian embassy\", \"belarusian embassy\", \"billionaire rented hotel\", \"bomb flatten building\", \"bombing russia\", \"born ukrainian baby\", \"bridge ukrainian\", \"buchenwald peenem nde dora\", \"button speech balloon\", \"camera flash\", \"camera flash\", \"camera flash\", \"camera flash\", \"camp people\", \"camp people sent\", \"camp remote village russia\", \"chance escape city constant\", \"changed lock\", \"changed lock house\", \"changed lock house invited\", \"changed lock house invited\", \"changed lock house invited\", \"changed lock house invited\", \"charkiv ukraine year\", \"chornobyl nuclear power\", \"city mariupol\", \"civilian death\", \"civilian death potus\", \"civilian killed business\", \"class asset\", \"class asset defaulted\", \"close sky\", \"coalition let stop\", \"collective leaked\", \"collective leaked database\", \"continues ukraine\", \"continuing map latest\", \"corridor kaliningrad threatens germany\", \"corridor kaliningrad threatens germany\", \"corridor kaliningrad threatens germany\", \"cosy russian\", \"country want\", \"court justice ordered\", \"court justice ordered\", \"court justice ordered\", \"court justice ordered\", \"crime russia\", \"crime russia\", \"crime russia\", \"crimea donbas\", \"crossed border\", \"crossing street\", \"crossing street\", \"currency reserve bank\", \"czech republic\", \"czech republic\", \"czech slovenian\", \"dad love red heart\", \"daysoftigraygenocide remain forgotten\", \"defend putin\", \"defending entire\", \"diplomatic effort\", \"diplomatic effort\", \"edinburgh commission\", \"endorsing genocidal regime\", \"enemy tank\", \"enemy tank\", \"enter sieged city people\", \"european math olympics died\", \"european math olympics died\", \"filled humanitarian\", \"flagnetwork nft amp\", \"flatten building ukraine\", \"flatten building ukraine eods\", \"fled ukraine\", \"focus ukrainewar family tigray\", \"follow flagnetwork nft\", \"footprint footprint grow\", \"footprint footprint grow voice\", \"footprint unite\", \"force people bus\", \"freezing currency\", \"freezing currency reserve bank\", \"french activist broke\", \"germany baltic state act\", \"giveaway idr\", \"government say russia\", \"grief raised million amp\", \"grow voice unitedblue strongertogether\", \"grow voice unitedblue strongertogether\", \"grow voice unitedblue strongertogether\", \"grow voice unitedblue strongertogether\", \"guatemala need expand\", \"hacking collective\", \"hacking collective anonymous\", \"hague international\", \"hague international\", \"hand medium light skin\", \"hate russian bring justice\", \"hate russian bring justice\", \"heart counterclockwise arrow\", \"heart counterclockwise arrow\", \"heart russiawarcrimes severodonetsk\", \"hit home stopputinnow\", \"hotel polish\", \"house charkiv ukraine\", \"humanitarian corridor\", \"identify bizarre\", \"idr amp follow\", \"idr amp follow flagnetwork\", \"illegitimate freezing currency reserve\", \"implore end\", \"impressed determination inspire world\", \"impressed determination inspire world\", \"innocent civilian death potus\", \"instrument war time ukraine\", \"international crime\", \"international law shortlist stand\", \"invasion poland lithuania corridor\", \"invasion ukraine continuing\", \"invasion ukraine continuing\", \"kill civilian child ukraine\", \"killed bullet hit house\", \"killed ukraine\", \"killed ukraine\", \"kindergarten teacher kitchen\", \"kingdom borisjohnson informed\", \"kitchen provide\", \"know build\", \"kunis respond grief\", \"kyiv likely command\", \"kyiv looked like month\", \"kyiv odessa\", \"kyiv standwithukraine freeukraine\", \"kyiv stopputinswar standtogether ukraine\", \"lack component\", \"landing ship\", \"leave fleeing style rip\", \"left ukraine\", \"let make\", \"let shelter ukrainerussianwar\", \"letter dated march\", \"life thousand human mariupol\", \"life ukraine\", \"light historic\", \"light historic milestone\", \"light skin\", \"like death\", \"like netflix\", \"like netflix live\", \"little girl singing\", \"lived year want\", \"local resident\", \"look like rocket hit\", \"lost tank armed force\", \"loudly face loudly\", \"loudly face loudly face\", \"love red\", \"luck cherry\", \"luck cherry\", \"luhansk oblast\", \"lukashenko longer decide\", \"lukashenko longer decide elected\", \"mariupol cabinet\", \"mariupol cabinet minister approved\", \"mariupol city\", \"mariupol forcibly interned filtration\", \"mariupol russia masse people\", \"mariupol russian armour damaging\", \"mass graf\", \"middle study pls know\", \"mila kunis\", \"military biological\", \"multi billionaire\", \"multiculturalism international law shortlist\", \"mykolaiv oblast\", \"named rambo\", \"nation killing starving deporting\", \"nation tonight\", \"need weapon humanitarian\", \"network infrastructure site collected\", \"november know\", \"obligation russia everybody know\", \"offering russian pilot reward\", \"oil amp\", \"oligarch brave people\", \"oligarch brave people ukraine\", \"people fleeing\", \"people guatemala\", \"people guatemala personally\", \"people solidarity come\", \"people solidarity come office\", \"personally drgiammattei ukraine\", \"pilot reward defect ukraine\", \"point blank\", \"point blank\", \"point blank\", \"poland poland\", \"post potent russian\", \"potent russian krasukha used\", \"power plant\", \"praytogether ukraine\", \"pregnant woman evacuated\", \"preparation disconnection\", \"preparation disconnection global internet\", \"president putin illegitimate freezing\", \"president volodymyr zelenskyy\", \"pretext protecting russian speaking\", \"probably launched territory\", \"protectu sky\", \"protest war\", \"protest war ukraine\", \"provide breakfast amp\", \"putin regime\", \"putin regime\", \"putin say\", \"putin stop innocent\", \"putin stop innocent civilian\", \"putin war ukraine\", \"putin war ukraine\", \"putin war ukraine\", \"putinisawarcriminal putinhitler\", \"quality university pls\", \"quoted pinned flagnetwork cryptocurrency\", \"railway connection ukraine\", \"railway worker\", \"raised fist\", \"rambo dog\", \"rape instrument war\", \"recognise tigraygenocide\", \"recognise tigraygenocide\", \"recognise tigraygenocide\", \"red heart ukraine ukrainerussia\", \"refugee grateful support impressed\", \"refuse walk shelling\", \"refuse walk shelling\", \"relationship russia\", \"relationship russia mean money\", \"released hour\", \"released hour secret\", \"remain kyiv\", \"remember clear strong position\", \"remote village russia\", \"repetition slaughter atrocity\", \"repetition slaughter atrocity\", \"repetition slaughter atrocity\", \"repetition slaughter atrocity\", \"repetition slaughter atrocity\", \"repetition slaughter atrocity\", \"repetition slaughter atrocity\", \"repetition slaughter atrocity\", \"repetition slaughter atrocity\", \"reserve bank russia mark\", \"reserve simply\", \"respond grief raised million\", \"right ukraine ukrainerussiawar ukraineunderattack\", \"rip dad\", \"rocket hit home\", \"romanian border\", \"room playroom child amp\", \"room playroom child amp\", \"round pushpin\", \"russia began active\", \"russia continues\", \"russia everybody know financial\", \"russia file\", \"russia file released hour\", \"russia force\", \"russia hour\", \"russia occupied crimea donbas\", \"russia paying\", \"russia state\", \"russia target\", \"russia ukrainerussianwar\", \"russia ukrainerussiawar\", \"russiainvadedukraine putinisawarcriminal stopputin russianukrainianwar\", \"russian army lost\", \"russian bank\", \"russian federation\", \"russian federation\", \"russian federation\", \"russian general\", \"russian interference\", \"russian jet fighter\", \"russian missile\", \"russian occupant\", \"russian state channel\", \"russian state channel hacked\", \"russianukrainianwar ukrainerussianwar\", \"sanction russian\", \"saveukraine kyiv stopputinswar standtogether\", \"service ukraine\", \"share crucial ukrainian\", \"singing state anthem\", \"singing state anthem\", \"situation ukraine march\", \"slavaukraini ukraine\", \"slovenian meet president\", \"solidarity putin fostered europe\", \"soon matter\", \"soon matter day\", \"south ukraine\", \"spirituality peace\", \"standwithukraine stopthewar standtogether stopwar\", \"standwithukraine ukraine kharkiv\", \"standwithukraine ukraine kharkiv\", \"started shooting point\", \"state amp\", \"state russian prime\", \"stop russian equipment\", \"stop ukraine mean exactly\", \"stop war stoprussia\", \"stopputinnow standwithukraine\", \"stopputinswar standtogether freeukraine\", \"stopwar actnow\", \"stopwar actnow vitaliy\", \"streaming service wink\", \"strong support including term\", \"strongertogether standwithukraine\", \"stuck genocidal war tigraygenocide\", \"study entrance\", \"study entrance exam fee\", \"suffer end bombing\", \"suffering tigray recognise tigraygenocide\", \"suffering tigray recognise tigraygenocide\", \"suffering ukun\", \"suffering ukun newyork\", \"suggested edits\", \"suggested edits standwithukraine\", \"survived concentration camp\", \"tag friend\", \"taken staff patient\", \"taken staff patient mariupol\", \"tank armed force ukraine\", \"tank weapon\", \"tax russian government giving\", \"taylor greene history\", \"tell truth putin invasion\", \"tell truth putin invasion\", \"term security\", \"theater country\", \"theater country belong\", \"theatre mariupol cabinet\", \"tigray recognise tigraygenocide\", \"tigray recognise tigraygenocide\", \"tigray recognise tigraygenocide\", \"tigray recognise tigraygenocide\", \"today hacked\", \"today hacked\", \"today hacked\", \"totally destroying brm quite\", \"toy ukrainian\", \"toy ukrainian\", \"toy ukrainian\", \"toy ukrainian\", \"toy ukrainian\", \"toy ukrainian\", \"toy ukrainian\", \"toy ukrainian\", \"toy ukrainian\", \"trying comfort\", \"ukraine aiding endorsing\", \"ukraine aiding endorsing genocidal\", \"ukraine doe stop\", \"ukraine march government response\", \"ukraine mean\", \"ukraine mean exactly state\", \"ukraine middle\", \"ukraine palestine\", \"ukraine people russian aggression\", \"ukraine raised fist\", \"ukraine raised fist\", \"ukraine struggle russian aggression\", \"ukraine thread\", \"ukraine thread\", \"ukraine thread\", \"ukraine thread\", \"ukraine ukraineunderattack\", \"ukraine ukraineunderattack\", \"ukraine ukraineunderattack\", \"ukraine ukrainewar\", \"ukraine went\", \"ukraine win\", \"ukraine year old\", \"ukrainerussia russiaukrainewar\", \"ukrainerussia russiaukrainewar\", \"ukrainerussia russiaukrainewar\", \"ukrainian army\", \"ukrainian city\", \"ukrainian fight russian\", \"ukrainian fighting\", \"ukrainian force\", \"ukrainian force\", \"ukrainian force\", \"ukrainian force\", \"ukrainian nation\", \"ukrainian people\", \"ukrainian woman\", \"ukrainian woman\", \"united supportukraine\", \"using rape instrument\", \"video seen\", \"video seen russian pow\", \"villa putin daughter\", \"village near kyiv\", \"vitaliy klychko\", \"voice common people implore\", \"want feel\", \"war according analyst beginning\", \"war coalition let stop\", \"war crime ukraine\", \"war footage ukraine\", \"war footage ukraine tangodown\", \"war rally\", \"war rally\", \"water food electricity\", \"wave blue wave water\", \"weareallukrainians stopwar\", \"wink ivi like netflix\", \"wink ivi like netflix\", \"woman forefront\", \"world fraction reaction happening\", \"world killed\", \"world stand\", \"wrapped gift\", \"yellow heart\", \"yellow heart blue\", \"yulia zdanovska europe best\", \"zelenskyyua person kyiv european\", \"zelenskyyua signed\"]}, \"R\": 30, \"lambda.step\": 0.01, \"plot.opts\": {\"xlab\": \"PC1\", \"ylab\": \"PC2\"}, \"topic.order\": [1, 11, 2, 10, 9, 8, 5, 3, 7, 4, 6]};\n",
       "\n",
       "function LDAvis_load_lib(url, callback){\n",
       "  var s = document.createElement('script');\n",
       "  s.src = url;\n",
       "  s.async = true;\n",
       "  s.onreadystatechange = s.onload = callback;\n",
       "  s.onerror = function(){console.warn(\"failed to load library \" + url);};\n",
       "  document.getElementsByTagName(\"head\")[0].appendChild(s);\n",
       "}\n",
       "\n",
       "if(typeof(LDAvis) !== \"undefined\"){\n",
       "   // already loaded: just create the visualization\n",
       "   !function(LDAvis){\n",
       "       new LDAvis(\"#\" + \"ldavis_el1480191399413705435682252859124\", ldavis_el1480191399413705435682252859124_data);\n",
       "   }(LDAvis);\n",
       "}else if(typeof define === \"function\" && define.amd){\n",
       "   // require.js is available: use it to load d3/LDAvis\n",
       "   require.config({paths: {d3: \"https://d3js.org/d3.v5\"}});\n",
       "   require([\"d3\"], function(d3){\n",
       "      window.d3 = d3;\n",
       "      LDAvis_load_lib(\"https://cdn.jsdelivr.net/gh/bmabey/pyLDAvis@3.4.0/pyLDAvis/js/ldavis.v3.0.0.js\", function(){\n",
       "        new LDAvis(\"#\" + \"ldavis_el1480191399413705435682252859124\", ldavis_el1480191399413705435682252859124_data);\n",
       "      });\n",
       "    });\n",
       "}else{\n",
       "    // require.js not available: dynamically load d3 & LDAvis\n",
       "    LDAvis_load_lib(\"https://d3js.org/d3.v5.js\", function(){\n",
       "         LDAvis_load_lib(\"https://cdn.jsdelivr.net/gh/bmabey/pyLDAvis@3.4.0/pyLDAvis/js/ldavis.v3.0.0.js\", function(){\n",
       "                 new LDAvis(\"#\" + \"ldavis_el1480191399413705435682252859124\", ldavis_el1480191399413705435682252859124_data);\n",
       "            })\n",
       "         });\n",
       "}\n",
       "</script>"
      ],
      "text/plain": [
       "PreparedData(topic_coordinates=              x         y  topics  cluster       Freq\n",
       "topic                                                \n",
       "0      0.199742  0.095167       1        1  10.421083\n",
       "10    -0.070658  0.324487       2        1   9.702364\n",
       "1      0.102359  0.124575       3        1   9.494425\n",
       "9      0.034883 -0.010142       4        1   9.374094\n",
       "8     -0.032776  0.077267       5        1   9.362572\n",
       "7      0.115190 -0.238588       6        1   9.302718\n",
       "4      0.115210 -0.134995       7        1   8.977005\n",
       "2      0.181307 -0.052518       8        1   8.863798\n",
       "6     -0.157629  0.022526       9        1   8.432156\n",
       "3     -0.298532 -0.099347      10        1   8.325698\n",
       "5     -0.189097 -0.108430      11        1   7.744088, topic_info=                                        Term         Freq         Total  \\\n",
       "4114               tell truth putin invasion  4832.000000   4832.000000   \n",
       "4115                           term security  3215.000000   3215.000000   \n",
       "3849        standwithukraine ukraine kharkiv  3573.000000   3573.000000   \n",
       "549               changed lock house invited  3934.000000   3934.000000   \n",
       "4233                           toy ukrainian  8938.000000   8938.000000   \n",
       "...                                      ...          ...           ...   \n",
       "2997                            putin regime   381.867402    961.193461   \n",
       "4819                               war rally   353.418691   1317.110226   \n",
       "1575  grow voice unitedblue strongertogether   362.317252   3409.897064   \n",
       "549               changed lock house invited   274.600679   3934.093325   \n",
       "3169           repetition slaughter atrocity   187.082715  10634.953397   \n",
       "\n",
       "     Category  logprob  loglift  \n",
       "4114  Default  30.0000  30.0000  \n",
       "4115  Default  29.0000  29.0000  \n",
       "3849  Default  28.0000  28.0000  \n",
       "549   Default  27.0000  27.0000  \n",
       "4233  Default  26.0000  26.0000  \n",
       "...       ...      ...      ...  \n",
       "2997  Topic11  -4.2864   1.6351  \n",
       "4819  Topic11  -4.3639   1.2427  \n",
       "1575  Topic11  -4.3390   0.3163  \n",
       "549   Topic11  -4.6162  -0.1039  \n",
       "3169  Topic11  -5.0000  -1.4821  \n",
       "\n",
       "[449 rows x 6 columns], token_table=      Topic      Freq                              Term\n",
       "term                                                   \n",
       "25        3  0.989756                  aching heart add\n",
       "40        9  0.995640             active war zone stand\n",
       "93        5  0.997473       airbnb help ukraine refugee\n",
       "109       4  0.995612    ally preparing reinvade tigray\n",
       "124       2  0.995977                  amp ensure peace\n",
       "...     ...       ...                               ...\n",
       "4972      5  0.995914                      yellow heart\n",
       "4973      5  0.996691                 yellow heart blue\n",
       "4981      6  0.996748       yulia zdanovska europe best\n",
       "4994      3  0.996103  zelenskyyua person kyiv european\n",
       "4995      3  0.991086                zelenskyyua signed\n",
       "\n",
       "[455 rows x 3 columns], R=30, lambda_step=0.01, plot_opts={'xlab': 'PC1', 'ylab': 'PC2'}, topic_order=[1, 11, 2, 10, 9, 8, 5, 3, 7, 4, 6])"
      ]
     },
     "execution_count": 31,
     "metadata": {},
     "output_type": "execute_result"
    }
   ],
   "source": [
    "import pyLDAvis.lda_model\n",
    "\n",
    "#at max_iter = 85\n",
    "vocab_before_war = list(before_war_vect.get_feature_names_out())\n",
    "#Read pickled after_war_LDAs\n",
    "visual = pyLDAvis.lda_model.prepare(before_war_lda, before_war_tfidf, before_war_vect, vocab=vocab_before_war )\n",
    "visual"
   ]
  },
  {
   "cell_type": "code",
   "execution_count": null,
   "id": "87a9500c-278c-43ff-b9a7-2b6135f11c0a",
   "metadata": {},
   "outputs": [],
   "source": [
    "war_and_after_vect.fit(war_and_after_sample['cleaned_text'])\n",
    "vocab_war_and_after = list(war_and_after_vect.get_feature_names_out())\n",
    "#Read pickled after_war_LDAs\n",
    "\n",
    "# with open('before_war_doc_topic_dist.pkl', 'rb') as f:\n",
    "#     before_war_doc_topic_dist = pickle.load(f)\n",
    "import pyLDAvis.lda_model\n",
    "\n",
    "visual_after = pyLDAvis.lda_model.prepare(war_and_after_lda, war_and_after_tfidf, war_and_after_vect, vocab=vocab_war_and_after )\n",
    "visual_after\n"
   ]
  },
  {
   "cell_type": "markdown",
   "id": "9e18be9a-16b1-43da-9c99-05011d96e70a",
   "metadata": {},
   "source": [
    "## Get Hyperparameters"
   ]
  },
  {
   "cell_type": "markdown",
   "id": "a5322b97-44ac-4bbe-974d-92af06beba8e",
   "metadata": {},
   "source": [
    "### Before war"
   ]
  },
  {
   "cell_type": "code",
   "execution_count": null,
   "id": "aba829d9-83f3-497d-9f08-e82768e000e8",
   "metadata": {},
   "outputs": [],
   "source": [
    "# LOOK AT TESTER PY\n",
    "from tqdm import tqdm  # Import tqdm for progress bar\n",
    "from sklearn.feature_extraction.text import CountVectorizer\n",
    "from sklearn.decomposition import LatentDirichletAllocation\n",
    "import matplotlib.pyplot as plt\n",
    "\n",
    "\n",
    "# Define a function to train LDA models and calculate log-likelihood\n",
    "def calculate_log_likelihood(data, min_topics, max_topics, step_size):\n",
    "    log_likelihoods = []\n",
    "    topic_range = range(min_topics, max_topics + step_size, step_size)\n",
    "    \n",
    "    # Wrap the loop with tqdm to display a progress bar\n",
    "    for num_topics in tqdm(topic_range, desc='Calculating Log-Likelihoods'):\n",
    "        lda_model = LatentDirichletAllocation(n_components=num_topics, random_state=42)\n",
    "        lda_model.fit(data)\n",
    "        log_likelihood = lda_model.score(data)\n",
    "        log_likelihoods.append(log_likelihood)\n",
    "    \n",
    "    return topic_range, log_likelihoods\n",
    "\n",
    "# Calculate log-likelihoods\n",
    "min_topics = 5\n",
    "max_topics = 60\n",
    "step_size = 5\n",
    "topic_range, log_likelihoods = calculate_log_likelihood(before_war_tfidf, min_topics, max_topics, step_size)\n",
    "\n",
    "# Plot log-likelihoods\n",
    "plt.plot(topic_range, log_likelihoods, marker='o')\n",
    "plt.xlabel('Number of Topics')\n",
    "plt.ylabel('Log-Likelihood')\n",
    "plt.title('Before War: Log-Likelihood vs. Number of Topics')\n",
    "plt.grid(True)\n",
    "plt.show()\n",
    "\n",
    "#Copilot told me most optimal number would be 60(?)"
   ]
  },
  {
   "cell_type": "code",
   "execution_count": null,
   "id": "ce7af18f-c3a2-4ef3-846a-783f53e49e47",
   "metadata": {},
   "outputs": [],
   "source": [
    "#LOOK AT  LDAMODELS.ipynb\n",
    "from tqdm import tqdm  # Import tqdm for progress bar\n",
    "from sklearn.feature_extraction.text import CountVectorizer\n",
    "from sklearn.decomposition import LatentDirichletAllocation\n",
    "import matplotlib.pyplot as plt\n",
    "\n",
    "\n",
    "# Define a function to train LDA models and calculate log-likelihood\n",
    "def calculate_log_likelihood(data, min_topics, max_topics, step_size):\n",
    "    log_likelihoods = []\n",
    "    topic_range = range(min_topics, max_topics + step_size, step_size)\n",
    "    \n",
    "    # Wrap the loop with tqdm to display a progress bar\n",
    "    for num_iter in tqdm(topic_range, desc='Calculating Log-Likelihoods'):\n",
    "        lda_model = LatentDirichletAllocation(n_components=15, max_iter=num_iter, random_state=42)\n",
    "        lda_model.fit(data)\n",
    "        log_likelihood = lda_model.score(data)\n",
    "        log_likelihoods.append(log_likelihood)\n",
    "    \n",
    "    return topic_range, log_likelihoods\n",
    "\n",
    "# Calculate log-likelihoods\n",
    "min_iter= 50\n",
    "max_iter = 200\n",
    "step_size = 10\n",
    "topic_range, log_likelihoods = calculate_log_likelihood(before_war_tfidf, min_iter, max_iter, step_size)\n",
    "\n",
    "# Plot log-likelihoods\n",
    "plt.plot(topic_range, log_likelihoods, marker='o')\n",
    "plt.xlabel('Number of Topics')\n",
    "plt.ylabel('Log-Likelihood')\n",
    "plt.title('Before War: Log-Likelihood vs. Number of Topics')\n",
    "plt.grid(True)"
   ]
  },
  {
   "cell_type": "markdown",
   "id": "e060443a-5cdf-43ee-bf9a-85e786cd9390",
   "metadata": {},
   "source": [
    "## During and After War"
   ]
  },
  {
   "cell_type": "code",
   "execution_count": 80,
   "id": "333c6ec2-f3dd-47e6-82a6-bdda1d7b8d05",
   "metadata": {},
   "outputs": [
    {
     "name": "stderr",
     "output_type": "stream",
     "text": [
      "\n",
      "Calculating Log-Likelihoods:   0%|                       | 0/11 [00:00<?, ?it/s]\u001b[A\n",
      "Calculating Log-Likelihoods:   9%|█           | 1/11 [14:46<2:27:41, 886.10s/it]\u001b[A\n",
      "Calculating Log-Likelihoods:  18%|██▏         | 2/11 [28:13<2:05:59, 839.92s/it]\u001b[A\n",
      "Calculating Log-Likelihoods:  27%|███▎        | 3/11 [41:43<1:50:09, 826.19s/it]\u001b[A\n",
      "Calculating Log-Likelihoods:  36%|████▎       | 4/11 [55:21<1:36:00, 822.86s/it]\u001b[A\n",
      "Calculating Log-Likelihoods:  45%|████▌     | 5/11 [1:09:15<1:22:41, 826.97s/it]\u001b[A\n",
      "Calculating Log-Likelihoods:  55%|█████▍    | 6/11 [1:23:20<1:09:24, 832.95s/it]\u001b[A\n",
      "Calculating Log-Likelihoods:  64%|███████▋    | 7/11 [1:37:50<56:21, 845.28s/it]\u001b[A\n",
      "Calculating Log-Likelihoods:  73%|████████▋   | 8/11 [1:52:44<43:02, 860.69s/it]\u001b[A\n",
      "Calculating Log-Likelihoods:  82%|█████████▊  | 9/11 [2:08:11<29:22, 881.30s/it]\u001b[A\n",
      "Calculating Log-Likelihoods:  91%|██████████ | 10/11 [2:24:04<15:03, 903.67s/it]\u001b[A\n",
      "Calculating Log-Likelihoods: 100%|███████████| 11/11 [2:40:21<00:00, 874.66s/it]\u001b[A\n"
     ]
    },
    {
     "data": {
      "image/png": "[encoded data removed]",
      "text/plain": [
       "<Figure size 432x288 with 1 Axes>"
      ]
     },
     "metadata": {
      "needs_background": "light"
     },
     "output_type": "display_data"
    }
   ],
   "source": [
    "from tqdm import tqdm  # Import tqdm for progress bar\n",
    "from sklearn.feature_extraction.text import CountVectorizer\n",
    "from sklearn.decomposition import LatentDirichletAllocation\n",
    "import matplotlib.pyplot as plt\n",
    "\n",
    "\n",
    "# Define a function to train LDA models and calculate log-likelihood\n",
    "def calculate_log_likelihood(data, min_topics, max_topics, step_size):\n",
    "    log_likelihoods = []\n",
    "    topic_range = range(min_topics, max_topics + step_size, step_size)\n",
    "    \n",
    "    # Wrap the loop with tqdm to display a progress bar\n",
    "    for num_topics in tqdm(topic_range, desc='Calculating Log-Likelihoods'):\n",
    "        lda_model = LatentDirichletAllocation(n_components=num_topics, random_state=42)\n",
    "        lda_model.fit(data)\n",
    "        log_likelihood = lda_model.score(data)\n",
    "        log_likelihoods.append(log_likelihood)\n",
    "    \n",
    "    return topic_range, log_likelihoods\n",
    "\n",
    "# Calculate log-likelihoods\n",
    "min_topics = 5\n",
    "max_topics = 100\n",
    "step_size = 10\n",
    "topic_range, log_likelihoods = calculate_log_likelihood(war_and_after_tfidf, min_topics, max_topics, step_size)\n",
    "\n",
    "plt.figure(figsize=(12, 10))  \n",
    "# Plot log-likelihoods\n",
    "plt.plot(topic_range, log_likelihoods, marker='o')\n",
    "plt.xlabel('Number of Topics')\n",
    "plt.ylabel('Log-Likelihood')\n",
    "plt.title('During War: Log-Likelihood vs. Number of Topics')\n",
    "plt.grid(True)\n",
    "plt.show()"
   ]
  },
  {
   "cell_type": "code",
   "execution_count": null,
   "id": "63190cd7-ddb9-41f9-abeb-c6b8c1e93d94",
   "metadata": {},
   "outputs": [
    {
     "name": "stderr",
     "output_type": "stream",
     "text": [
      "Calculating Log-Likelihoods:   0%|                        | 0/3 [00:00<?, ?it/s]"
     ]
    }
   ],
   "source": [
    "#Number of iterations\n",
    "#Execution for this code is in Tester.ipynb\n",
    "from tqdm import tqdm  # Import tqdm for progress bar\n",
    "from sklearn.feature_extraction.text import CountVectorizer\n",
    "from sklearn.decomposition import LatentDirichletAllocation\n",
    "import matplotlib.pyplot as plt\n",
    "\n",
    "\n",
    "# Define a function to train LDA models and calculate log-likelihood\n",
    "def calculate_log_likelihood(data, min_topics, max_topics, step_size):\n",
    "    log_likelihoods = []\n",
    "    topic_range = range(min_topics, max_topics + step_size, step_size)\n",
    "    \n",
    "    # Wrap the loop with tqdm to display a progress bar\n",
    "    for num_iter in tqdm(topic_range, desc='Calculating Log-Likelihoods'):\n",
    "        lda_model = LatentDirichletAllocation( max_iter=num_iter, random_state=42)\n",
    "        lda_model.fit(data)\n",
    "        log_likelihood = lda_model.score(data)\n",
    "        log_likelihoods.append(log_likelihood)\n",
    "    \n",
    "    return topic_range, log_likelihoods\n",
    "\n",
    "# Calculate log-likelihoods\n",
    "min_iter= 100\n",
    "max_iter = 500\n",
    "step_size = 200\n",
    "topic_range, log_likelihoods = calculate_log_likelihood(war_and_after_tfidf, min_iter, max_iter, step_size)\n",
    "\n",
    "# Plot log-likelihoods\n",
    "plt.figure(figsize=(12, 10))  \n",
    "plt.plot(topic_range, log_likelihoods, marker='o')\n",
    "plt.xlabel('Number of Iterations')\n",
    "plt.ylabel('Log-Likelihood')\n",
    "plt.title('During War: Log-Likelihood vs. Number of Iterations')\n",
    "plt.grid(True)"
   ]
  },
  {
   "cell_type": "code",
   "execution_count": null,
   "id": "8f0e3e5b-4084-4408-a0d5-9002f0d948b7",
   "metadata": {},
   "outputs": [],
   "source": []
  },
  {
   "cell_type": "code",
   "execution_count": 142,
   "id": "7fa41b3c-4808-4af4-8ccb-fcb0a9fe59b5",
   "metadata": {},
   "outputs": [
    {
     "name": "stdout",
     "output_type": "stream",
     "text": [
      "Topic #0:\n",
      "russia invade | twitter com | invasion ukraine | russian invasion | sending troop\n",
      "Topic #1:\n",
      "ukraine border | troop ukraine | russian troop | troop ukraine border | near ukraine\n",
      "Topic #2:\n",
      "united state | russian troop | world war | russia ukraine | ukraine nato\n",
      "Topic #3:\n",
      "war ukraine | ukraine russia | border ukraine | troop border | russian troop\n",
      "Topic #4:\n",
      "invade ukraine | russia invade ukraine | ukraine nato | join nato | ukraine join\n",
      "Topic #5:\n",
      "russia ukraine | war russia | com news | ukraine war | ukraine crisis\n"
     ]
    }
   ],
   "source": [
    "n_top_words = 5W\n",
    "tf_feature_names = before_war_vect.get_feature_names()\n",
    "\n",
    "topics = dict()\n",
    "for topic_idx, topic in enumerate(before_war_lda2.components_):\n",
    "    topics[topic_idx] = [tf_feature_names[i] for i in topic.argsort()[:-n_top_words - 1:-1]]\n",
    "    print(\"Topic #%d:\" % topic_idx)\n",
    "    print(\" | \".join([tf_feature_names[i] for i in topic.argsort()[:-n_top_words - 1:-1]]))"
   ]
  },
  {
   "cell_type": "code",
   "execution_count": null,
   "id": "59d42cd4",
   "metadata": {
    "jupyter": {
     "source_hidden": true
    },
    "scrolled": true
   },
   "outputs": [],
   "source": [
    "#LDA topic modeling on war_and_after\n",
    "\n",
    "#10 topics\n",
    "# war_and_after_lda = LatentDirichletAllocation(n_components=10,\n",
    "#                                    max_iter=200,\n",
    "#                                    learning_method='online',\n",
    "#                                    random_state = 0)\n",
    "# war_and_after_lda.fit(war_and_after_tfidf)\n",
    "\n",
    "from tqdm import tqdm\n",
    "\n",
    "# # Initialize LDA model\n",
    "# war_and_after_lda = LatentDirichletAllocation(n_components=10,\n",
    "#                                                max_iter=200,\n",
    "#                                                learning_method='online',\n",
    "#                                                random_state=0)\n",
    "\n",
    "# # Initialize progress bar\n",
    "# progress_bar = tqdm(total=war_and_after_lda.max_iter)\n",
    "\n",
    "# # Fit LDA model with progress bar\n",
    "# for iteration in range(war_and_after_lda.max_iter):\n",
    "#     war_and_after_lda.partial_fit(war_and_after_tfidf)\n",
    "#     progress_bar.update(1)\n",
    "\n",
    "# # Close the progress bar\n",
    "# progress_bar.close()\n",
    "\n",
    "\n",
    "#For 6 topics\n",
    "# war_and_after_lda = LatentDirichletAllocation(n_components=6,\n",
    "#                                    max_iter=200,\n",
    "#                                    learning_method='online',\n",
    "#                                    random_state = 0)\n",
    "# war_and_after_lda.fit(war_and_after_tfidf)\n",
    "\n",
    "# Initialize LDA model\n",
    "war_and_after_lda2 = LatentDirichletAllocation(n_components=6,\n",
    "                                               max_iter=200,\n",
    "                                               learning_method='online',\n",
    "                                               random_state=0)\n",
    "\n",
    "# Initialize progress bar\n",
    "progress_bar = tqdm(total=war_and_after_lda2.max_iter)\n",
    "\n",
    "# Fit LDA model with progress bar\n",
    "for iteration in range(war_and_after_lda2.max_iter):\n",
    "    war_and_after_lda2.partial_fit(war_and_after_tfidf)\n",
    "    progress_bar.update(1)\n",
    "\n",
    "# Close the progress bar\n",
    "progress_bar.close()"
   ]
  },
  {
   "cell_type": "code",
   "execution_count": 46,
   "id": "bf5bb23a",
   "metadata": {
    "collapsed": true,
    "jupyter": {
     "outputs_hidden": true,
     "source_hidden": true
    }
   },
   "outputs": [
    {
     "ename": "AttributeError",
     "evalue": "'CountVectorizer' object has no attribute 'get_feature_names'",
     "output_type": "error",
     "traceback": [
      "\u001b[0;31m---------------------------------------------------------------------------\u001b[0m",
      "\u001b[0;31mAttributeError\u001b[0m                            Traceback (most recent call last)",
      "Cell \u001b[0;32mIn[46], line 2\u001b[0m\n\u001b[1;32m      1\u001b[0m n_top_words \u001b[38;5;241m=\u001b[39m \u001b[38;5;241m5\u001b[39m\n\u001b[0;32m----> 2\u001b[0m tf_feature_names \u001b[38;5;241m=\u001b[39m \u001b[43mwar_and_after_vect\u001b[49m\u001b[38;5;241;43m.\u001b[39;49m\u001b[43mget_feature_names\u001b[49m()\n\u001b[1;32m      3\u001b[0m \u001b[38;5;28mprint\u001b[39m(\u001b[38;5;124m\"\u001b[39m\u001b[38;5;124mAfter War 10 Clusters: \u001b[39m\u001b[38;5;124m\"\u001b[39m)\n\u001b[1;32m      4\u001b[0m topics \u001b[38;5;241m=\u001b[39m \u001b[38;5;28mdict\u001b[39m()\n",
      "\u001b[0;31mAttributeError\u001b[0m: 'CountVectorizer' object has no attribute 'get_feature_names'"
     ]
    }
   ],
   "source": [
    "n_top_words = 5\n",
    "tf_feature_names = war_and_after_vect.get_feature_names()\n",
    "print(\"After War 10 Clusters: \")\n",
    "topics = dict()\n",
    "for topic_idx, topic in enumerate(war_and_after_lda2.components_):\n",
    "    topics[topic_idx] = [tf_feature_names[i] for i in topic.argsort()[:-n_top_words - 1:-1]]\n",
    "    print(\"Topic #%d:\" % topic_idx)\n",
    "    print(\" | \".join([tf_feature_names[i] for i in topic.argsort()[:-n_top_words - 1:-1]]))"
   ]
  },
  {
   "cell_type": "code",
   "execution_count": null,
   "id": "7aa551ed-596e-4d44-bcc5-33bd31e2d2c4",
   "metadata": {},
   "outputs": [],
   "source": []
  },
  {
   "cell_type": "markdown",
   "id": "e73f9696-8634-4739-8c73-40fde9fa1bf0",
   "metadata": {},
   "source": []
  },
  {
   "cell_type": "markdown",
   "id": "69af96cf-2d46-49fc-856a-d40fb5fcbdc3",
   "metadata": {
    "jp-MarkdownHeadingCollapsed": true
   },
   "source": [
    "# Gensim"
   ]
  },
  {
   "cell_type": "code",
   "execution_count": 69,
   "id": "1d1ff1cf-038b-4f66-852d-b452d74bd43b",
   "metadata": {
    "jupyter": {
     "source_hidden": true
    },
    "scrolled": true
   },
   "outputs": [],
   "source": [
    "from gensim.corpora.dictionary import Dictionary\n",
    "from gensim.models.phrases import Phrases, Phraser\n",
    "import random\n",
    "\n",
    "# Function to generate n-grams\n",
    "def generate_ngrams(texts):\n",
    "    n = random.choice([3, 4])  # Choose randomly between 3 and 4\n",
    "    # Create phrases (trigram or quadgram)\n",
    "    phrases = Phrases(texts, min_count=1, threshold=n)\n",
    "    ngram = Phraser(phrases)\n",
    "\n",
    "    # Apply phrases to texts\n",
    "    return [ngram[text] for text in texts]\n",
    "\n",
    "# Sampled datasets\n",
    "before_war_titles = before_war_sample['cleaned_text'].apply(lambda x: x.split())\n",
    "war_and_after_titles = war_and_after_sample['cleaned_text'].apply(lambda x: x.split())\n",
    "\n",
    "# Generate n-grams for sampled datasets\n",
    "before_war_ngrams = generate_ngrams(before_war_titles)\n",
    "war_and_after_ngrams = generate_ngrams(war_and_after_titles)\n",
    "\n",
    "# Create dictionaries for sampled datasets\n",
    "before_war_dict = Dictionary(before_war_ngrams)\n",
    "war_and_after_dict = Dictionary(war_and_after_ngrams)\n",
    "\n",
    "# Filter out tokens based on frequency\n",
    "before_war_dict.filter_extremes(no_below=10, no_above=0.85)\n",
    "war_and_after_dict.filter_extremes(no_below=10, no_above=0.85)\n",
    "\n",
    "# Convert text data to bag-of-words representation (corpora)\n",
    "before_war_corpora = [before_war_dict.doc2bow(doc) for doc in before_war_ngrams]\n",
    "war_and_after_corpora = [war_and_after_dict.doc2bow(doc) for doc in war_and_after_ngrams]\n",
    "\n",
    "\n",
    "# with open('before_war_dict.pkl', 'wb') as f:\n",
    "#     pickle.dump(before_war_dict, f)\n",
    "# with open('war_and_after_dict.pkl', 'wb') as f:\n",
    "#     pickle.dump(war_and_after_dict, f)\n",
    "\n",
    "\n",
    "# with open('before_war_corpora.pkl', 'wb') as f:\n",
    "#     pickle.dump(before_war_corpora, f)\n",
    "# with open('war_and_after_corpora.pkl', 'wb') as f:\n",
    "#     pickle.dump(war_and_after_corpora, f)"
   ]
  },
  {
   "cell_type": "code",
   "execution_count": 71,
   "id": "71fcaeb6-b8ec-450e-8989-bf01c1507100",
   "metadata": {},
   "outputs": [
    {
     "name": "stdout",
     "output_type": "stream",
     "text": [
      "before_war corpora  173585\n",
      "war_and_after corpora:  1262618\n"
     ]
    }
   ],
   "source": [
    "# with open('before_war_dict.pkl', 'wb') as f:\n",
    "#     pickle.dump(before_war_sample_titles, f)\n",
    "# with open('war_and_after_dict.pkl', 'wb') as f:\n",
    "#     pickle.dump(war_and_after_sample_titles, f)\n",
    "\n",
    "\n",
    "# with open('before_war_corpora.pkl', 'wb') as f:\n",
    "#     pickle.dump(before_war_sample_corpora, f)\n",
    "# with open('war_and_after_corpora.pkl', 'wb') as f:\n",
    "#     pickle.dump(war_and_after_sample_corpora, f)\n",
    "\n",
    "# with open('before_war_titles.pkl', 'wb') as f:\n",
    "#     pickle.dump(before_war_sample_titles, f)\n",
    "# with open('war_and_after_titles.pkl', 'wb') as f:\n",
    "#     pickle.dump(war_and_after_sample_titles, f)\n",
    "\n",
    "print(\"before_war corpora \", len(before_war_corpora))\n",
    "print(\"war_and_after corpora: \", len(war_and_after_corpora))"
   ]
  },
  {
   "cell_type": "code",
   "execution_count": 72,
   "id": "ac9157e0-a8a8-4356-99ae-77cc03e2c9d8",
   "metadata": {},
   "outputs": [
    {
     "name": "stderr",
     "output_type": "stream",
     "text": [
      "Progress:   0%|                                          | 0/15 [05:17<?, ?it/s]\n",
      "/home/mrtcloud-8/.local/lib/python3.9/site-packages/gensim/topic_coherence/direct_confirmation_measure.py:204: RuntimeWarning: divide by zero encountered in scalar divide\n",
      "  m_lr_i = np.log(numerator / denominator)\n",
      "/home/mrtcloud-8/.local/lib/python3.9/site-packages/gensim/topic_coherence/indirect_confirmation_measure.py:323: RuntimeWarning: invalid value encountered in scalar divide\n",
      "  return cv1.T.dot(cv2)[0, 0] / (_magnitude(cv1) * _magnitude(cv2))\n",
      "Progress: 100%|███████████████████████████████████| 8/8 [05:07<00:00, 38.41s/it]\n"
     ]
    },
    {
     "data": {
      "image/png": "[encoded data removed]",
      "text/plain": [
       "<Figure size 432x288 with 1 Axes>"
      ]
     },
     "metadata": {
      "needs_background": "light"
     },
     "output_type": "display_data"
    }
   ],
   "source": [
    "from tqdm import tqdm  # Import tqdm for progress bar\n",
    "from gensim.models import LdaModel\n",
    "from gensim.models.coherencemodel import CoherenceModel\n",
    "import matplotlib.pyplot as plt\n",
    "\n",
    "# Define a range of values for the number of topics\n",
    "min_topics = 5\n",
    "max_topics = 40\n",
    "step_size = 5\n",
    "topic_range = range(min_topics, max_topics + step_size, step_size)\n",
    "\n",
    "# Initialize lists to store metric scores\n",
    "coherence_scores = []\n",
    "\n",
    "# Initialize tqdm progress bar\n",
    "progress_bar = tqdm(total=len(topic_range), desc='Progress', position=0)\n",
    "\n",
    "# Iterate over the range of topic values\n",
    "for num_topics in topic_range:\n",
    "    # Train LDA model\n",
    "    before_war_lda_model = LdaModel(corpus=before_war_corpora, id2word=before_war_dict, num_topics=num_topics, random_state=42)\n",
    "    # Compute coherence score\n",
    "    coherence_model = CoherenceModel(model=before_war_lda_model, texts=before_war_titles, dictionary=before_war_dict, coherence='c_v')\n",
    "    coherence_score = coherence_model.get_coherence()\n",
    "    \n",
    "    # Append coherence score to list\n",
    "    coherence_scores.append(coherence_score)\n",
    "    \n",
    "    # Update progress bar\n",
    "    progress_bar.update(1)\n",
    "\n",
    "# Close tqdm progress bar\n",
    "progress_bar.close()\n",
    "\n",
    "# Plot the coherence scores\n",
    "plt.plot(topic_range, coherence_scores, marker='o')\n",
    "plt.xlabel('Number of Topics')\n",
    "plt.ylabel('Coherence Score')\n",
    "plt.title('Before War: Coherence Score vs. Number of Topics')\n",
    "plt.grid(True)\n",
    "plt.show()\n",
    "\n",
    "\n",
    "#based on this, it appears that the most ideal number of topics is 10 "
   ]
  },
  {
   "cell_type": "code",
   "execution_count": 73,
   "id": "2b25f2aa-52d5-4256-9c92-d71c9c43c009",
   "metadata": {
    "scrolled": true
   },
   "outputs": [
    {
     "name": "stderr",
     "output_type": "stream",
     "text": [
      "Progress:   0%|                                          | 0/15 [00:00<?, ?it/s]"
     ]
    },
    {
     "name": "stdout",
     "output_type": "stream",
     "text": [
      "entering\n"
     ]
    },
    {
     "ename": "KeyboardInterrupt",
     "evalue": "",
     "output_type": "error",
     "traceback": [
      "\u001b[0;31m---------------------------------------------------------------------------\u001b[0m",
      "\u001b[0;31mKeyboardInterrupt\u001b[0m                         Traceback (most recent call last)",
      "Cell \u001b[0;32mIn[73], line 8\u001b[0m\n\u001b[1;32m      6\u001b[0m \u001b[38;5;28;01mfor\u001b[39;00m passes \u001b[38;5;129;01min\u001b[39;00m passes_range:\n\u001b[1;32m      7\u001b[0m     \u001b[38;5;28mprint\u001b[39m(\u001b[38;5;124m\"\u001b[39m\u001b[38;5;124mentering\u001b[39m\u001b[38;5;124m\"\u001b[39m)\n\u001b[0;32m----> 8\u001b[0m     lda_model \u001b[38;5;241m=\u001b[39m \u001b[43mLdaModel\u001b[49m\u001b[43m(\u001b[49m\u001b[43mcorpus\u001b[49m\u001b[38;5;241;43m=\u001b[39;49m\u001b[43mbefore_war_corpora\u001b[49m\u001b[43m,\u001b[49m\u001b[43m \u001b[49m\u001b[43mid2word\u001b[49m\u001b[38;5;241;43m=\u001b[39;49m\u001b[43mbefore_war_dict\u001b[49m\u001b[43m,\u001b[49m\u001b[43m \u001b[49m\u001b[43mnum_topics\u001b[49m\u001b[38;5;241;43m=\u001b[39;49m\u001b[38;5;241;43m10\u001b[39;49m\u001b[43m,\u001b[49m\u001b[43m \u001b[49m\u001b[43mpasses\u001b[49m\u001b[38;5;241;43m=\u001b[39;49m\u001b[43mpasses\u001b[49m\u001b[43m,\u001b[49m\u001b[43m \u001b[49m\u001b[43mrandom_state\u001b[49m\u001b[38;5;241;43m=\u001b[39;49m\u001b[38;5;241;43m42\u001b[39;49m\u001b[43m)\u001b[49m\n\u001b[1;32m      9\u001b[0m     coherence_model \u001b[38;5;241m=\u001b[39m CoherenceModel(model\u001b[38;5;241m=\u001b[39mlda_model, texts\u001b[38;5;241m=\u001b[39mbefore_war_titles, dictionary\u001b[38;5;241m=\u001b[39mbefore_war_dict, coherence\u001b[38;5;241m=\u001b[39m\u001b[38;5;124m'\u001b[39m\u001b[38;5;124mc_v\u001b[39m\u001b[38;5;124m'\u001b[39m)\n\u001b[1;32m     10\u001b[0m     \u001b[38;5;28mprint\u001b[39m(\u001b[38;5;124m\"\u001b[39m\u001b[38;5;124mcheck\u001b[39m\u001b[38;5;124m\"\u001b[39m)\n",
      "File \u001b[0;32m~/.local/lib/python3.9/site-packages/gensim/models/ldamodel.py:521\u001b[0m, in \u001b[0;36mLdaModel.__init__\u001b[0;34m(self, corpus, num_topics, id2word, distributed, chunksize, passes, update_every, alpha, eta, decay, offset, eval_every, iterations, gamma_threshold, minimum_probability, random_state, ns_conf, minimum_phi_value, per_word_topics, callbacks, dtype)\u001b[0m\n\u001b[1;32m    519\u001b[0m use_numpy \u001b[38;5;241m=\u001b[39m \u001b[38;5;28mself\u001b[39m\u001b[38;5;241m.\u001b[39mdispatcher \u001b[38;5;129;01mis\u001b[39;00m \u001b[38;5;129;01mnot\u001b[39;00m \u001b[38;5;28;01mNone\u001b[39;00m\n\u001b[1;32m    520\u001b[0m start \u001b[38;5;241m=\u001b[39m time\u001b[38;5;241m.\u001b[39mtime()\n\u001b[0;32m--> 521\u001b[0m \u001b[38;5;28;43mself\u001b[39;49m\u001b[38;5;241;43m.\u001b[39;49m\u001b[43mupdate\u001b[49m\u001b[43m(\u001b[49m\u001b[43mcorpus\u001b[49m\u001b[43m,\u001b[49m\u001b[43m \u001b[49m\u001b[43mchunks_as_numpy\u001b[49m\u001b[38;5;241;43m=\u001b[39;49m\u001b[43muse_numpy\u001b[49m\u001b[43m)\u001b[49m\n\u001b[1;32m    522\u001b[0m \u001b[38;5;28mself\u001b[39m\u001b[38;5;241m.\u001b[39madd_lifecycle_event(\n\u001b[1;32m    523\u001b[0m     \u001b[38;5;124m\"\u001b[39m\u001b[38;5;124mcreated\u001b[39m\u001b[38;5;124m\"\u001b[39m,\n\u001b[1;32m    524\u001b[0m     msg\u001b[38;5;241m=\u001b[39m\u001b[38;5;124mf\u001b[39m\u001b[38;5;124m\"\u001b[39m\u001b[38;5;124mtrained \u001b[39m\u001b[38;5;132;01m{\u001b[39;00m\u001b[38;5;28mself\u001b[39m\u001b[38;5;132;01m}\u001b[39;00m\u001b[38;5;124m in \u001b[39m\u001b[38;5;132;01m{\u001b[39;00mtime\u001b[38;5;241m.\u001b[39mtime() \u001b[38;5;241m-\u001b[39m start\u001b[38;5;132;01m:\u001b[39;00m\u001b[38;5;124m.2f\u001b[39m\u001b[38;5;132;01m}\u001b[39;00m\u001b[38;5;124ms\u001b[39m\u001b[38;5;124m\"\u001b[39m,\n\u001b[1;32m    525\u001b[0m )\n",
      "File \u001b[0;32m~/.local/lib/python3.9/site-packages/gensim/models/ldamodel.py:1006\u001b[0m, in \u001b[0;36mLdaModel.update\u001b[0;34m(self, corpus, chunksize, decay, offset, passes, update_every, eval_every, iterations, gamma_threshold, chunks_as_numpy)\u001b[0m\n\u001b[1;32m   1001\u001b[0m \u001b[38;5;28;01melse\u001b[39;00m:\n\u001b[1;32m   1002\u001b[0m     logger\u001b[38;5;241m.\u001b[39minfo(\n\u001b[1;32m   1003\u001b[0m         \u001b[38;5;124m\"\u001b[39m\u001b[38;5;124mPROGRESS: pass \u001b[39m\u001b[38;5;132;01m%i\u001b[39;00m\u001b[38;5;124m, at document #\u001b[39m\u001b[38;5;132;01m%i\u001b[39;00m\u001b[38;5;124m/\u001b[39m\u001b[38;5;132;01m%i\u001b[39;00m\u001b[38;5;124m\"\u001b[39m,\n\u001b[1;32m   1004\u001b[0m         pass_, chunk_no \u001b[38;5;241m*\u001b[39m chunksize \u001b[38;5;241m+\u001b[39m \u001b[38;5;28mlen\u001b[39m(chunk), lencorpus\n\u001b[1;32m   1005\u001b[0m     )\n\u001b[0;32m-> 1006\u001b[0m     gammat \u001b[38;5;241m=\u001b[39m \u001b[38;5;28;43mself\u001b[39;49m\u001b[38;5;241;43m.\u001b[39;49m\u001b[43mdo_estep\u001b[49m\u001b[43m(\u001b[49m\u001b[43mchunk\u001b[49m\u001b[43m,\u001b[49m\u001b[43m \u001b[49m\u001b[43mother\u001b[49m\u001b[43m)\u001b[49m\n\u001b[1;32m   1008\u001b[0m     \u001b[38;5;28;01mif\u001b[39;00m \u001b[38;5;28mself\u001b[39m\u001b[38;5;241m.\u001b[39moptimize_alpha:\n\u001b[1;32m   1009\u001b[0m         \u001b[38;5;28mself\u001b[39m\u001b[38;5;241m.\u001b[39mupdate_alpha(gammat, rho())\n",
      "File \u001b[0;32m~/.local/lib/python3.9/site-packages/gensim/models/ldamodel.py:768\u001b[0m, in \u001b[0;36mLdaModel.do_estep\u001b[0;34m(self, chunk, state)\u001b[0m\n\u001b[1;32m    766\u001b[0m \u001b[38;5;28;01mif\u001b[39;00m state \u001b[38;5;129;01mis\u001b[39;00m \u001b[38;5;28;01mNone\u001b[39;00m:\n\u001b[1;32m    767\u001b[0m     state \u001b[38;5;241m=\u001b[39m \u001b[38;5;28mself\u001b[39m\u001b[38;5;241m.\u001b[39mstate\n\u001b[0;32m--> 768\u001b[0m gamma, sstats \u001b[38;5;241m=\u001b[39m \u001b[38;5;28;43mself\u001b[39;49m\u001b[38;5;241;43m.\u001b[39;49m\u001b[43minference\u001b[49m\u001b[43m(\u001b[49m\u001b[43mchunk\u001b[49m\u001b[43m,\u001b[49m\u001b[43m \u001b[49m\u001b[43mcollect_sstats\u001b[49m\u001b[38;5;241;43m=\u001b[39;49m\u001b[38;5;28;43;01mTrue\u001b[39;49;00m\u001b[43m)\u001b[49m\n\u001b[1;32m    769\u001b[0m state\u001b[38;5;241m.\u001b[39msstats \u001b[38;5;241m+\u001b[39m\u001b[38;5;241m=\u001b[39m sstats\n\u001b[1;32m    770\u001b[0m state\u001b[38;5;241m.\u001b[39mnumdocs \u001b[38;5;241m+\u001b[39m\u001b[38;5;241m=\u001b[39m gamma\u001b[38;5;241m.\u001b[39mshape[\u001b[38;5;241m0\u001b[39m]  \u001b[38;5;66;03m# avoids calling len(chunk) on a generator\u001b[39;00m\n",
      "File \u001b[0;32m~/.local/lib/python3.9/site-packages/gensim/models/ldamodel.py:711\u001b[0m, in \u001b[0;36mLdaModel.inference\u001b[0;34m(self, chunk, collect_sstats)\u001b[0m\n\u001b[1;32m    706\u001b[0m expElogbetad \u001b[38;5;241m=\u001b[39m \u001b[38;5;28mself\u001b[39m\u001b[38;5;241m.\u001b[39mexpElogbeta[:, ids]\n\u001b[1;32m    708\u001b[0m \u001b[38;5;66;03m# The optimal phi_{dwk} is proportional to expElogthetad_k * expElogbetad_kw.\u001b[39;00m\n\u001b[1;32m    709\u001b[0m \u001b[38;5;66;03m# phinorm is the normalizer.\u001b[39;00m\n\u001b[1;32m    710\u001b[0m \u001b[38;5;66;03m# TODO treat zeros explicitly, instead of adding epsilon?\u001b[39;00m\n\u001b[0;32m--> 711\u001b[0m phinorm \u001b[38;5;241m=\u001b[39m \u001b[43mnp\u001b[49m\u001b[38;5;241;43m.\u001b[39;49m\u001b[43mdot\u001b[49m\u001b[43m(\u001b[49m\u001b[43mexpElogthetad\u001b[49m\u001b[43m,\u001b[49m\u001b[43m \u001b[49m\u001b[43mexpElogbetad\u001b[49m\u001b[43m)\u001b[49m\u001b[43m \u001b[49m\u001b[38;5;241;43m+\u001b[39;49m\u001b[43m \u001b[49m\u001b[43mepsilon\u001b[49m\n\u001b[1;32m    713\u001b[0m \u001b[38;5;66;03m# Iterate between gamma and phi until convergence\u001b[39;00m\n\u001b[1;32m    714\u001b[0m \u001b[38;5;28;01mfor\u001b[39;00m _ \u001b[38;5;129;01min\u001b[39;00m \u001b[38;5;28mrange\u001b[39m(\u001b[38;5;28mself\u001b[39m\u001b[38;5;241m.\u001b[39miterations):\n",
      "\u001b[0;31mKeyboardInterrupt\u001b[0m: "
     ]
    }
   ],
   "source": [
    "# Assuming that corpus is your bag of words corpus and id2word is your dictionary\n",
    "coherence_scores = []\n",
    "passes_range = range(50, 200, 10)  # Adjust the range as needed\n",
    "\n",
    "progress_bar = tqdm(total=len(passes_range), desc='Progress', position=0)\n",
    "for passes in passes_range:\n",
    "    print(\"entering\")\n",
    "    lda_model = LdaModel(corpus=before_war_corpora, id2word=before_war_dict, num_topics=10, passes=passes, random_state=42)\n",
    "    coherence_model = CoherenceModel(model=lda_model, texts=before_war_titles, dictionary=before_war_dict, coherence='c_v')\n",
    "    print(\"check\")\n",
    "    coherence_score = coherence_model.get_coherence()\n",
    "    coherence_scores.append(coherence_score)\n",
    "    progress_bar.update(1)\n",
    "\n",
    "progress_bar.close()\n",
    "\n",
    "# You can then plot the coherence scores to see how they change with the number of passes\n",
    "import matplotlib.pyplot as plt\n",
    "\n",
    "plt.plot(range(50, 200, 10), coherence_scores)\n",
    "plt.xlabel('Number of Passes')\n",
    "plt.ylabel('Coherence Score')\n",
    "plt.title('Before War: Coherence Score vs. Number of Iterations')\n",
    "plt.show()\n",
    "\n",
    "#80 would be the approximate optimal pass number"
   ]
  },
  {
   "cell_type": "code",
   "execution_count": 24,
   "id": "3df8ad3d-d3c8-4d51-a7a0-65502e40d153",
   "metadata": {},
   "outputs": [],
   "source": [
    "before_war_lda_model = LdaModel(\n",
    "    corpus=before_war_corpora,\n",
    "    id2word=before_war_dict,\n",
    "    num_topics=10,\n",
    "    passes=80,\n",
    "    random_state=42\n",
    ")"
   ]
  },
  {
   "cell_type": "code",
   "execution_count": 25,
   "id": "299e9bdc-4998-4f18-b3ec-1612b827efc6",
   "metadata": {
    "editable": true,
    "scrolled": true,
    "slideshow": {
     "slide_type": ""
    },
    "tags": []
   },
   "outputs": [
    {
     "data": {
      "text/html": [
       "\n",
       "<link rel=\"stylesheet\" type=\"text/css\" href=\"https://cdn.jsdelivr.net/gh/bmabey/pyLDAvis@3.4.0/pyLDAvis/js/ldavis.v1.0.0.css\">\n",
       "\n",
       "\n",
       "<div id=\"ldavis_el1427901400868510606723645831018\" style=\"background-color:white;\"></div>\n",
       "<script type=\"text/javascript\">\n",
       "\n",
       "var ldavis_el1427901400868510606723645831018_data = {\"mdsDat\": {\"x\": [0.2625615711300743, 0.2788124663631142, 0.25849728933412314, 0.24482557608250133, 0.07667865454012499, -0.1466332723190907, -0.22553211916588822, -0.23431015335719294, -0.2520270697937252, -0.26287294281404106], \"y\": [-0.030266738403920676, 0.040294494674947494, -0.030363684592231606, 0.017790301157376377, 0.11000318033367577, -0.3591936445155245, 0.04449588680112829, 0.10682322976986935, 0.05190671922859422, 0.04851025554608484], \"topics\": [1, 2, 3, 4, 5, 6, 7, 8, 9, 10], \"cluster\": [1, 1, 1, 1, 1, 1, 1, 1, 1, 1], \"Freq\": [27.43632560843262, 20.114718570710917, 19.47920144756619, 18.278378363526475, 4.305682630775374, 3.697823914598165, 2.2060412335387567, 1.6996655226421287, 1.4735312007605166, 1.3086315074488528]}, \"tinfo\": {\"Term\": [\"amp\", \"keep\", \"please\", \"mention\", \"ukraine\", \"occupation\", \"mean\", \"virility\", \"might\", \"pro\", \"energy\", \"aaditharkawat\", \"wing\", \"soon\", \"anti\", \"missing\", \"consistently\", \"globaltimes\", \"living\", \"civilian\", \"something\", \"zany\", \"existential\", \"scenario\", \"overdoses\", \"military\", \"repadamschiff\", \"least\", \"said\", \"encircling\", \"forget\", \"seriously\", \"nobody\", \"river\", \"country\", \"preferably\", \"people\", \"entire\", \"vietcong\", \"cryptoupdate\", \"seem\", \"vaushv\", \"citing\", \"ahimsa\", \"debated\", \"jilianneparker\", \"trainer\", \"arielelysegold\", \"ua\", \"wa\", \"nord\", \"presence\", \"rokhanna\", \"refugee\", \"fallback\", \"age\", \"illegal\", \"tommylundn\", \"colonel\", \"including\", \"ukraine\", \"completely\", \"place\", \"join\", \"plenary\", \"walking\", \"indeed\", \"ggreenwald\", \"choice\", \"filed\", \"greece\", \"remember\", \"govt\", \"occupation\", \"frightening\", \"affecting\", \"pro\", \"mention\", \"maxblumenthal\", \"keep\", \"intending\", \"military\", \"unacceptable\", \"aaronjmate\", \"might\", \"decade\", \"past\", \"aaditharkawat\", \"mean\", \"amp\", \"anti\", \"said\", \"economy\", \"side\", \"territory\", \"please\", \"scenario\", \"repadamschiff\", \"ac\", \"adamum\", \"amasses\", \"plan\", \"greatest\", \"inside\", \"slamming\", \"supervision\", \"adamparsons\", \"prabhat\", \"stationing\", \"launch\", \"story\", \"hfkg\", \"protection\", \"daily\", \"ph\", \"problem\", \"plus\", \"gladios\", \"laurie\", \"common\", \"dictatorial\", \"iroelsanchez\", \"blaming\", \"terminating\", \"satellite\", \"illegally\", \"skynews\", \"energy\", \"protesting\", \"least\", \"missing\", \"scenario\", \"mass\", \"please\", \"pro\", \"new\", \"said\", \"mat\", \"overdoses\", \"might\", \"keep\", \"using\", \"occupation\", \"mean\", \"aaditharkawat\", \"w\", \"territory\", \"soon\", \"civilian\", \"ukraine\", \"anti\", \"intellectually\", \"mention\", \"soldier\", \"biden\", \"julie\", \"weapon\", \"expected\", \"ellwood\", \"french\", \"surrounded\", \"threatened\", \"amitabhjha\", \"committed\", \"simply\", \"kyiv\", \"undead\", \"bolstering\", \"fight\", \"garigurman\", \"responsibility\", \"civil\", \"mil\", \"whatever\", \"norm\", \"q\", \"blatantly\", \"nytimes\", \"know\", \"spy\", \"ii\", \"leon\", \"request\", \"bullsh\", \"mexico\", \"made\", \"ally\", \"per\", \"mxahf\", \"war\", \"token\", \"k\", \"kill\", \"end\", \"diplomatic\", \"part\", \"anti\", \"aaronjmate\", \"aaditharkawat\", \"mention\", \"might\", \"defense\", \"keep\", \"military\", \"territory\", \"nuclear\", \"unprotected\", \"occupation\", \"amplifying\", \"mean\", \"amp\", \"geopolitical\", \"xi\", \"propaganda\", \"soon\", \"pro\", \"frightening\", \"acceptable\", \"ukraine\", \"missing\", \"mat\", \"something\", \"gun\", \"owned\", \"invited\", \"paratrooper\", \"writing\", \"yeeeees\", \"youtube\", \"kalibr\", \"selling\", \"belfold\", \"bouncy\", \"scharap\", \"allocate\", \"difference\", \"loss\", \"bbcpolitics\", \"anilkum\", \"venezuela\", \"kerri\", \"lmao\", \"shjckp\", \"deliberately\", \"alainlenain\", \"meantime\", \"troop\", \"third\", \"help\", \"justintrudeau\", \"looking\", \"woman\", \"visible\", \"mean\", \"abnheel\", \"starting\", \"change\", \"aaditharkawat\", \"occupy\", \"side\", \"exactly\", \"might\", \"acceptable\", \"overdoses\", \"point\", \"keep\", \"frothing\", \"violates\", \"please\", \"joining\", \"davincij\", \"arming\", \"living\", \"territory\", \"base\", \"occupation\", \"top\", \"global\", \"join\", \"w\", \"mat\", \"decline\", \"zany\", \"encircling\", \"separatist\", \"read\", \"xl\", \"canad\", \"merit\", \"shelled\", \"decides\", \"direct\", \"lured\", \"dems\", \"completing\", \"monkey\", \"sundriedcorn\", \"taste\", \"vietnam\", \"november\", \"capacity\", \"nazi\", \"welle\", \"bleating\", \"noted\", \"hq\", \"zn\", \"indegen\", \"nagorno\", \"distracted\", \"americanewsroom\", \"chechnya\", \"minorincursion\", \"political\", \"stolen\", \"civilian\", \"please\", \"escalated\", \"mention\", \"virility\", \"keep\", \"occupation\", \"claimed\", \"anti\", \"soon\", \"fatum\", \"energy\", \"pro\", \"missing\", \"aaditharkawat\", \"existential\", \"lo\", \"happening\", \"travel\", \"interest\", \"scott\", \"hand\", \"hospital\", \"melanie\", \"memorandum\", \"democracynow\", \"logistics\", \"talking\", \"mdrisette\", \"floor\", \"declare\", \"possible\", \"facepalming\", \"opportunity\", \"listened\", \"bg\", \"ministry\", \"swirl\", \"latvia\", \"reinforcing\", \"ulyanov\", \"towards\", \"german\", \"coincide\", \"davld\", \"wing\", \"eight\", \"amp\", \"living\", \"fascistic\", \"system\", \"soon\", \"almost\", \"back\", \"missile\", \"ahmedbhutta\", \"senior\", \"checked\", \"called\", \"walking\", \"nephew\", \"insanity\", \"tiwaritkt\", \"dombroskimike\", \"useless\", \"faced\", \"repjimbanks\", \"funded\", \"echoing\", \"reptrey\", \"amberinvancity\", \"brigitte\", \"nice\", \"turned\", \"demonise\", \"grand\", \"director\", \"loud\", \"javelin\", \"thelastaesir\", \"probably\", \"tiny\", \"accord\", \"chicken\", \"disagreement\", \"krasnaya\", \"bluff\", \"canceled\", \"aruizucwik\", \"baz\", \"massive\", \"f\", \"provokes\", \"group\", \"england\", \"china\", \"affecting\", \"consistently\", \"globaltimes\", \"ten\", \"darkest\", \"jeopardizes\", \"msn\", \"intend\", \"castle\", \"demonstrate\", \"pripyat\", \"picking\", \"circling\", \"follow\", \"realised\", \"aqdazo\", \"rf\", \"fault\", \"remind\", \"newsaus\", \"aye\", \"forgot\", \"sealed\", \"stat\", \"brummer\", \"wwmt\", \"evacuates\", \"related\", \"foot\", \"hybrid\", \"accept\", \"virility\", \"defend\", \"mention\", \"andpetrovych\", \"bayonetting\", \"extended\", \"worldwide\", \"blowing\", \"tqlopg\", \"benandjerrys\", \"inflaming\", \"aligning\", \"singhrakeshku\", \"alexkamillakroy\", \"controlled\", \"finland\", \"founding\", \"akshayalladi\", \"contrasted\", \"killed\", \"toward\", \"contradicting\", \"au\", \"criticised\", \"acknowledgement\", \"without\", \"praise\", \"evil\", \"vehemently\", \"mmmmmm\", \"beat\", \"rees\", \"conflit\", \"thousand\", \"basis\", \"lol\", \"cps\", \"sanction\", \"generates\", \"simplistic\", \"headed\", \"rising\", \"bout\", \"chair\", \"ikelly\", \"spzkaz\", \"slam\", \"activity\", \"involvement\", \"atensnut\", \"exerting\", \"following\", \"clemson\", \"fewer\", \"sexton\", \"tuesday\", \"ashmorecj\", \"dergi\", \"embarrassing\", \"repjimbaird\", \"unfair\", \"v\", \"uag\", \"rm\", \"stockpile\"], \"Freq\": [7053.0, 41970.0, 10554.0, 10487.0, 14938.0, 22668.0, 22205.0, 2175.0, 26844.0, 12020.0, 4414.0, 23383.0, 1913.0, 3170.0, 5727.0, 3810.0, 937.0, 906.0, 1350.0, 1824.0, 1845.0, 970.0, 890.0, 3447.0, 2892.0, 2948.0, 1599.0, 2100.0, 2713.0, 732.0, 1057.4508452255204, 818.0926839480265, 710.0000957012746, 358.13603347168186, 351.99567020143866, 351.9475649293841, 346.85314532066616, 345.59095860533665, 310.4847837559087, 276.964719831674, 261.5801966817402, 257.40986383136135, 231.78070018721, 231.43016499642334, 228.3099069054751, 217.76849840336018, 217.67115547708406, 207.139519013669, 192.39938422684136, 189.57857830892692, 188.73296144074843, 182.3197779484345, 176.8465135947566, 176.50912661913046, 170.47060434877093, 169.02243434754243, 165.0942530355465, 164.31779535971154, 162.91759432527678, 159.9456363581167, 12151.74837943284, 760.8701417265595, 647.1131262403188, 2385.720028610955, 1528.3438329697185, 684.1903800116175, 584.5770694308721, 565.771179383786, 926.1302468094816, 811.906857630785, 825.9829551269061, 453.84522586147875, 647.9767144328874, 9331.402124798022, 1593.9557333251216, 593.7783036384199, 4820.327427893133, 4304.762718584808, 709.6380689284975, 11898.363190553126, 738.4148355959246, 1524.0068931505195, 736.0019388985882, 1276.5513605778378, 5074.882912772334, 749.1540964266511, 786.9588847701652, 3763.996718331112, 3208.5241772948743, 1663.948694464154, 1481.2186167105667, 1019.4454994182182, 760.2205737635416, 939.7586758889412, 1074.368970320166, 1027.0817814710622, 764.2820511356138, 1599.0855169558745, 1172.0620681538849, 1073.6244699995252, 1041.647873672444, 899.7899395829616, 644.3815055360325, 570.8998064490985, 530.9003116339587, 495.40420376467114, 422.08451603787876, 416.8739859414219, 416.84013236246653, 409.8569784451401, 391.36640575354454, 379.73092144217355, 376.43710042633643, 358.21295939836335, 307.5012205640543, 286.1748187354048, 281.7705634321976, 266.49472782812563, 240.46682950847458, 237.39324124401605, 228.45385165592722, 223.0542826826151, 213.56402679681963, 211.80537795472864, 211.3540737720606, 193.57167429001157, 183.6294377649295, 4012.9495018170674, 848.8274813273971, 1707.4244721319365, 2839.02053638811, 2429.770923742339, 954.9177102152461, 5198.340348190654, 5513.710819346273, 675.6010239148493, 1539.3130721885461, 1736.554662000292, 1519.0707843351997, 7443.43689318058, 9720.78984155344, 1044.548027684316, 5192.7599500639935, 4788.55473591877, 4560.489477842169, 973.8010582179915, 1641.6401729074282, 1130.5858070444046, 819.3335422864329, 1793.2204489989233, 1163.8124952025576, 760.5310748140422, 1057.3860673752915, 1363.351990217042, 521.9628293173984, 455.15885907604803, 368.9283364878475, 353.0219983081358, 307.58041383945687, 238.79295279521614, 230.9089993086077, 225.71020626684447, 226.12471080760838, 220.69386906887496, 218.62762921826476, 217.43695409369835, 212.3350986283481, 196.38253234623085, 195.10882529666748, 180.43797595754165, 173.45520992298017, 170.63263067452695, 168.54648519656854, 165.65013453187717, 164.39963830732194, 160.9364760205113, 157.09987106296393, 156.17475814857696, 154.57292834573977, 151.360335773417, 141.21915560925535, 140.83219438232405, 137.87139236326442, 954.7025326662681, 877.6315167606801, 359.5672723010914, 1069.513843833609, 1298.6206171209, 258.0091486657741, 858.0933916603913, 963.4592816592594, 614.0995912410827, 593.0043309477543, 546.8460843414291, 395.1914966466135, 459.599555903194, 2516.6472945025234, 1403.6097741396493, 6796.691743744004, 3599.9164777000183, 6908.021758702238, 619.0309461496704, 9009.847332571715, 1353.7486937513365, 2257.9140395602294, 632.3004512341048, 573.6919121381153, 4869.615483787586, 925.8499436885724, 4489.340284627041, 2115.7976865573632, 588.2545534745733, 602.1335250968732, 605.2341578205359, 874.3223290423326, 1169.6150006085707, 760.2971189400519, 753.4536327438169, 992.8270050470134, 736.2751805602608, 696.5844018073835, 1844.3855229196708, 657.0805418696897, 414.7181967196603, 414.36907470720257, 316.02217217363506, 293.61817859724135, 272.6885165221958, 235.18529627208162, 231.30554344288387, 227.76658622680716, 221.59775813297506, 217.68169605566297, 212.48294936643433, 212.22059793498397, 208.29453300209286, 206.73802720393493, 186.42558043542732, 184.2511608072972, 178.70538767591367, 176.23642865648114, 175.1403196538632, 174.33915518613958, 173.79032532381854, 170.0180892216266, 163.31373115166235, 163.2332053701575, 162.95246880191667, 157.740072964782, 144.4105274708958, 140.8558115661415, 348.0479907661139, 223.0273841345287, 9718.446342208576, 1351.09073242713, 459.9683212654154, 536.4722004221982, 8031.824069261236, 570.534885408127, 1725.659562422902, 536.2260407639546, 7417.845440908426, 1340.9378898962982, 1373.1393731620321, 1103.07266655716, 8874.661327437085, 859.8554684282475, 555.2711983770374, 2580.099462487917, 358.6570529223487, 346.5609461382617, 341.17099961459945, 590.7724504644789, 1251.5890309519955, 569.3834393790447, 1743.3506463290837, 459.4907268229232, 469.8145120085943, 456.1157689387489, 406.48227013814227, 412.9421310356366, 359.0868404209982, 969.4854100824402, 731.8098892110623, 638.1144576881314, 298.74344719211945, 263.0556110791518, 253.55371563117674, 241.8969093473755, 240.46744558099488, 167.94838136718005, 159.76607295380074, 159.19653579345538, 155.20274629823652, 152.58416012990895, 136.8658243650538, 121.69526629754651, 90.87614623022846, 85.50062425285705, 82.94470349505563, 80.86745801415104, 80.73149757037008, 79.84608619702497, 78.01398680166356, 77.33956192131562, 77.04797458625322, 72.96465931496286, 68.19698721242823, 66.62667929944023, 65.36067477793063, 65.01514951205615, 64.01319403366048, 330.41816961647413, 234.91463597649062, 254.19712702403396, 592.2200249220408, 1748.2987406733957, 288.9730928885052, 1448.8063888419204, 549.2531284734321, 2466.731496498285, 1530.6445058291577, 201.9132181630219, 565.1954300600898, 402.20407287982914, 173.96012740117357, 400.3522675461088, 515.888091999116, 234.907738239884, 229.8475376034943, 889.7909629136797, 501.80073533517674, 409.7898829593606, 309.6252440759368, 257.1839972520713, 181.18360505357145, 158.2026997547663, 157.60803317486685, 155.0156188081567, 131.61490497381067, 127.89274733233516, 123.64405975241294, 122.4067358770065, 112.64583131083022, 105.11547189678639, 102.35794459687284, 98.3114624208038, 92.8185999940598, 92.57908166750632, 92.45003808133376, 91.99499678603058, 89.73245782349308, 88.67982754546725, 88.56645301272981, 88.03421393143695, 87.18445606603247, 84.40109065527767, 80.05729214710895, 71.92552258146723, 70.35801806058745, 1177.493505448883, 352.4722367785661, 3272.711306161517, 759.08817547248, 134.71492431832513, 322.1135927160592, 760.7145915643918, 292.2018219177538, 246.43355691524397, 339.68025218089656, 184.045841424853, 139.04203630205646, 218.90743907075202, 121.54877041218361, 128.80618757724906, 111.01312950917098, 358.342528089403, 265.8963766588371, 259.3647486452622, 256.89142171552936, 243.46296688113924, 231.22914406139165, 223.41223854360283, 184.58882931583767, 183.26962719759518, 180.74516380194495, 163.20184887511562, 143.82757599241762, 140.78453136959908, 135.372523530264, 129.9900294306882, 128.15695371561378, 124.05532624598254, 120.78522276513502, 120.69956817305494, 113.59127567664295, 99.14508916585187, 93.01789920492847, 86.39337305345506, 78.87914523514418, 74.83274137180835, 74.12801990158351, 73.40269411806698, 70.41883209725651, 68.11412331371218, 66.64768297502086, 120.59071265209647, 174.26301311809442, 241.81416319479018, 109.94824424189967, 122.58253937413001, 82.05085384639672, 936.5931028265649, 905.2405228376915, 480.33586730184993, 383.54573045099664, 203.9520663323933, 182.6545730200231, 164.27167033352785, 138.1791590822269, 133.8761920754604, 131.32169676383714, 127.40719703610938, 120.61936554705052, 115.71616000612951, 112.22416352252391, 93.15400455053272, 88.63716697110942, 87.2824524195019, 85.7973411491459, 78.17052571894682, 76.67318748281353, 74.29618843001748, 72.35446000549774, 71.41535316737637, 60.302735279583814, 59.3643195534252, 53.4553330571332, 53.432417239420566, 51.55789815419679, 51.072379009530195, 50.79626678958045, 963.5150835377743, 64.8081721097868, 74.56579484412227, 400.5487711732734, 357.30549071876345, 306.4031716235029, 202.21075111962983, 168.94224801665666, 126.5637430716839, 123.07646690331705, 117.12977026702099, 117.07216962279853, 99.80083314211974, 93.5991908107011, 90.26813825725262, 89.90164931553626, 86.63909044226597, 80.68127552113172, 78.39088181459988, 78.30198058567089, 66.60447725619821, 65.84655080654433, 63.722485379797966, 63.085598669622335, 62.40562635320992, 62.38314200976284, 61.68219001243818, 61.59429789850261, 61.041406496596, 57.03315218798935, 54.001901392116366, 53.60768431296929, 51.643608662456025, 96.69116420030743, 115.49293168796675, 344.76743986025843, 179.2095130848387, 175.37029549608508, 162.96815405777687, 153.57361657593404, 150.30771869037923, 135.8853154423901, 120.29562847768578, 114.14638457943354, 114.1430558844366, 112.49772035546866, 109.61541455995778, 109.43842560650273, 99.2482340003434, 98.55498525720678, 97.786960901699, 93.30685750264522, 92.06077333321403, 91.9387718605738, 89.5136655235608, 88.70988170184793, 74.94163903579339, 71.51963655722105, 70.21668451436858, 68.18197968913606, 65.77910999490311, 64.49150915722282, 63.87097559626093, 57.70963317196212, 56.68276677292431], \"Total\": [7053.0, 41970.0, 10554.0, 10487.0, 14938.0, 22668.0, 22205.0, 2175.0, 26844.0, 12020.0, 4414.0, 23383.0, 1913.0, 3170.0, 5727.0, 3810.0, 937.0, 906.0, 1350.0, 1824.0, 1845.0, 970.0, 890.0, 3447.0, 2892.0, 2948.0, 1599.0, 2100.0, 2713.0, 732.0, 1058.299243410098, 818.9410856997085, 710.84851722046, 358.9844139699269, 352.84406334970186, 352.796115093788, 347.7015655586028, 346.439345065433, 311.33318206571005, 277.8131140228167, 262.42869564764857, 258.2583095394404, 232.62912452090444, 232.27893447354595, 229.15829358412057, 218.6168711366648, 218.51950584849573, 207.98796242552737, 193.2477616202841, 190.42696053397293, 189.581398132722, 183.1682211240323, 177.69492261348114, 177.35753960975435, 171.31898709924818, 169.87090575972914, 165.9426886259145, 165.1662963329581, 163.76603212259275, 160.7940735745998, 14938.453413419606, 860.6952861887429, 741.2564311807488, 3211.572301675867, 1982.0854932091108, 813.7480197643864, 683.456422311352, 662.8077171944803, 1173.5941051565223, 1048.236172641154, 1082.4339420642912, 536.2918793041302, 821.9484339192707, 22668.242282449653, 2678.7889493862904, 789.3686858153819, 12020.107700967852, 10487.360960110876, 996.6053439031209, 41970.86277301004, 1071.43832780643, 2948.509133739567, 1096.5371231248282, 2680.9080383510377, 26844.747812034984, 1230.957398950575, 1367.005938158913, 23383.319119653093, 22205.42634896024, 7053.107640143699, 5727.440190885968, 2713.893883911049, 1373.8855450340664, 3332.8296883323724, 6226.07300458097, 10554.391412257793, 3447.294835794631, 1599.9417315974265, 1172.918288085727, 1074.48061799507, 1042.5040458123976, 900.6461196348267, 645.2376817440704, 571.7559791071799, 531.7564935667433, 496.26034874234506, 422.94073314641514, 417.7301949392162, 417.6963491137757, 410.71317182182565, 392.2225869366081, 380.5871413264291, 377.2933696244736, 359.0691513045613, 308.35743666665144, 287.0309974106803, 282.62677013383984, 267.35092005855864, 241.32305488720152, 238.2494213042395, 229.3100267858221, 223.9104934030251, 214.42022379336004, 212.66160241242352, 212.21025131936736, 194.42782930157725, 184.48567013169443, 4414.066748880676, 972.5811612335445, 2100.341349566888, 3810.8669603109447, 3447.294835794631, 1261.0337601873953, 10554.391412257793, 12020.107700967852, 911.7733652463471, 2713.893883911049, 3281.215117602456, 2892.9695811101556, 26844.747812034984, 41970.86277301004, 1721.4224962815015, 22668.242282449653, 22205.42634896024, 23383.319119653093, 1939.0710439019542, 6226.07300458097, 3170.8404822435436, 1824.9089620662526, 14938.453413419606, 5727.440190885968, 1561.8914065373763, 10487.360960110876, 1364.1960311881592, 522.8068735220937, 456.0029183497458, 369.7723646795374, 353.86607051959874, 308.4244984917642, 239.63703273254302, 231.75304168882445, 226.55423413546671, 226.97032290563845, 221.5379146330029, 219.47168249653487, 218.28099417166467, 213.17918188273586, 197.22657869192506, 195.95285386264504, 181.28203674525642, 174.2992359108679, 171.47667788389512, 169.39053059425493, 166.4941797271323, 165.24366680276802, 161.7805076607249, 157.94391155214367, 157.01878874827676, 155.41696965970237, 152.20437727045308, 142.0632207156082, 141.67622106266865, 138.7155524297622, 1033.4027256679997, 992.6855233578867, 390.6688894897073, 1287.6588921436417, 1658.2308236100218, 278.74870690566956, 1123.2462623529862, 1308.144185865658, 782.7055821374237, 814.6846674364634, 749.0954298317347, 501.9399081536003, 609.9083890566174, 5727.440190885968, 2680.9080383510377, 23383.319119653093, 10487.360960110876, 26844.747812034984, 940.5158381745113, 41970.86277301004, 2948.509133739567, 6226.07300458097, 997.2506557553136, 890.0166304505368, 22668.242282449653, 1878.6709571116942, 22205.42634896024, 7053.107640143699, 982.139591954709, 1103.2829737365817, 1173.5205992402073, 3170.8404822435436, 12020.107700967852, 2678.7889493862904, 2668.443049594497, 14938.453413419606, 3810.8669603109447, 3281.215117602456, 1845.234275784811, 657.9293009124056, 415.5669180308365, 415.2178365646097, 316.87096347258614, 294.4669453377351, 273.53725206769013, 236.0340637325922, 232.1543317627301, 228.61536475329186, 222.4465158588026, 218.53045147672933, 213.33171515656397, 213.06937439431402, 209.14336361119615, 207.5868185713693, 187.2744629257957, 185.09996276214883, 179.5541218261999, 177.08518489165823, 175.98908093479847, 175.1879347711089, 174.6391430530445, 170.86686892118885, 164.16249024941354, 164.0820419858072, 163.80124215238277, 158.588894061349, 145.2592738987904, 141.7046212079804, 382.08778018681454, 234.63363208122053, 22205.42634896024, 2125.8229471331274, 593.2248814630412, 726.3889483518498, 23383.319119653093, 792.6888824146062, 3332.8296883323724, 746.5613314220521, 26844.747812034984, 2668.443049594497, 2892.9695811101556, 2199.8605630004804, 41970.86277301004, 1676.6428684396947, 893.1439894033515, 10554.391412257793, 484.5025085489203, 484.58218890763294, 474.4170013070455, 1350.6124298421046, 6226.07300458097, 1442.7244891730872, 22668.242282449653, 1026.2162950363654, 1154.0866606234088, 3211.572301675867, 1939.0710439019542, 3281.215117602456, 701.1566489996284, 970.3397205381915, 732.6641844014136, 638.9687534297444, 299.59773579451866, 263.90987572690335, 254.4079865214284, 242.7512094164186, 241.32175004030086, 168.80268795164486, 160.62036583953818, 160.05089972716502, 156.05703850965946, 153.43843860198496, 137.72010324880694, 122.54965285271808, 91.73042369299957, 86.35495184819487, 83.7990280982242, 81.72174784162515, 81.58578851275867, 80.70039452032782, 78.86830757658873, 78.19390709149064, 77.90230192198462, 73.8189803491501, 69.05130863647256, 67.48102355306304, 66.21492810614234, 65.86943472194514, 64.86748780456286, 457.2557886843593, 320.3366506377043, 375.14659367534955, 1824.9089620662526, 10554.391412257793, 642.8394265185192, 10487.360960110876, 2175.7903197797245, 41970.86277301004, 22668.242282449653, 471.56540965863815, 5727.440190885968, 3170.8404822435436, 461.0983296374739, 4414.066748880676, 12020.107700967852, 3810.8669603109447, 23383.319119653093, 890.6394767166153, 502.64925458656415, 410.6384163302543, 310.4737319590189, 258.03253031086035, 182.0320866231469, 159.05125823422753, 158.45660037304117, 155.8641781029391, 132.46344514635544, 128.7412940006293, 124.49261066729193, 123.25529111953017, 113.49437377134599, 105.96398847764897, 103.20648356984537, 99.15999400920714, 93.66719680836495, 93.42766245270703, 93.29856391672836, 92.84351015605387, 90.58097516598725, 89.52839297754086, 89.41499773540627, 88.8828060060199, 88.03299159775705, 85.24965506619105, 80.90585435408586, 72.77408036941571, 71.20658005989534, 1913.9840833773271, 480.3559343051867, 7053.107640143699, 1350.6124298421046, 153.87872479944554, 573.7661809765932, 3170.8404822435436, 643.6630959056488, 520.1205656820745, 1340.408112464051, 522.7400193452097, 266.9617776711261, 1192.1793601710172, 224.98206511708412, 813.7480197643864, 277.80568370542693, 359.1926355662161, 266.74641528435905, 260.2147875633802, 257.7415470068721, 244.3130327150162, 232.0792376812005, 224.26229280593267, 185.43888425308376, 184.11968775366904, 181.59522950821236, 164.0519059553431, 144.6776353594125, 141.63463400454697, 136.22266258890184, 130.84008249623398, 129.00705062402335, 124.90545154013316, 121.63532226654984, 121.54965199648302, 114.44137374237762, 99.99517163780841, 93.86796340526125, 87.24347025885275, 79.7292454825791, 75.68286851229666, 74.97809932307328, 74.25277769711494, 71.2688813827911, 68.9641864113324, 67.49776674255531, 174.85831428352375, 399.9324418673641, 880.5695155416308, 217.85635002294657, 317.6456413866582, 789.3686858153819, 937.4503524801974, 906.09776121589, 481.1931715066351, 384.4030218739036, 204.8093645664239, 183.51183664380687, 165.12894184169164, 139.03644561139123, 134.73344396579117, 132.17898968743177, 128.2645138806989, 121.47667591048344, 116.57347034623236, 113.08144352682561, 94.01137887875997, 89.49447289483336, 88.1397597702467, 86.65465406655765, 79.02781045477352, 77.53047924667418, 75.15350126139633, 73.21181223960684, 72.27263992467509, 61.16005153306741, 60.2215934545545, 54.312642441149166, 54.28969492982874, 52.41518829083996, 51.92969995688056, 51.65358385481832, 2175.7903197797245, 221.79365229062373, 10487.360960110876, 401.4003662425815, 358.157083364946, 307.2547806682972, 203.06238312450563, 169.79385229762275, 127.41537452628685, 123.92809354282502, 117.9814036230579, 117.92379123985683, 100.6524677347422, 94.45084414985254, 91.11977090926139, 90.75328272422148, 87.4907173156101, 81.53289193408766, 79.2425159118502, 79.15360395804868, 67.45609463460262, 66.698203878463, 64.57411827581588, 63.93722304696844, 63.25726601922029, 63.23478933374205, 62.53381382410333, 62.44593265693058, 61.893032726798765, 57.88478380340428, 54.853519322803535, 54.45932041249054, 52.49524411712719, 413.42087804713157, 767.2984453536428, 345.6179640715657, 180.06001858294326, 176.22083086211313, 163.81867900848067, 154.42412725024104, 151.15822241373422, 136.73584268028551, 121.14617263938624, 114.99691427317808, 114.99359018413898, 113.348223803918, 110.46595879430274, 110.28896825966544, 100.09877774386209, 99.40551418828645, 98.63749589023749, 94.15734847769228, 92.91134022811697, 92.78929414311686, 90.3641958982427, 89.56040384482358, 75.79217182164115, 72.37015913820484, 71.06721082642035, 69.03247353789119, 66.62964913806975, 65.34203366969655, 64.7215081099214, 58.56017175013042, 57.53327613761582], \"Category\": [\"Default\", \"Default\", \"Default\", \"Default\", \"Default\", \"Default\", \"Default\", \"Default\", \"Default\", \"Default\", \"Default\", \"Default\", \"Default\", \"Default\", \"Default\", \"Default\", \"Default\", \"Default\", \"Default\", \"Default\", \"Default\", \"Default\", \"Default\", \"Default\", \"Default\", \"Default\", \"Default\", \"Default\", \"Default\", \"Default\", \"Topic1\", \"Topic1\", \"Topic1\", \"Topic1\", \"Topic1\", \"Topic1\", \"Topic1\", \"Topic1\", \"Topic1\", \"Topic1\", \"Topic1\", \"Topic1\", \"Topic1\", \"Topic1\", \"Topic1\", \"Topic1\", \"Topic1\", \"Topic1\", \"Topic1\", \"Topic1\", \"Topic1\", \"Topic1\", \"Topic1\", \"Topic1\", \"Topic1\", \"Topic1\", \"Topic1\", \"Topic1\", \"Topic1\", \"Topic1\", \"Topic1\", \"Topic1\", \"Topic1\", \"Topic1\", \"Topic1\", \"Topic1\", \"Topic1\", \"Topic1\", \"Topic1\", \"Topic1\", \"Topic1\", \"Topic1\", \"Topic1\", \"Topic1\", \"Topic1\", \"Topic1\", \"Topic1\", \"Topic1\", \"Topic1\", \"Topic1\", \"Topic1\", \"Topic1\", \"Topic1\", \"Topic1\", \"Topic1\", \"Topic1\", \"Topic1\", \"Topic1\", \"Topic1\", \"Topic1\", \"Topic1\", \"Topic1\", \"Topic1\", \"Topic1\", \"Topic1\", \"Topic1\", \"Topic1\", \"Topic2\", \"Topic2\", \"Topic2\", \"Topic2\", \"Topic2\", \"Topic2\", \"Topic2\", \"Topic2\", \"Topic2\", \"Topic2\", \"Topic2\", \"Topic2\", \"Topic2\", \"Topic2\", \"Topic2\", \"Topic2\", \"Topic2\", \"Topic2\", \"Topic2\", \"Topic2\", \"Topic2\", \"Topic2\", \"Topic2\", \"Topic2\", \"Topic2\", \"Topic2\", \"Topic2\", \"Topic2\", \"Topic2\", \"Topic2\", \"Topic2\", \"Topic2\", \"Topic2\", \"Topic2\", \"Topic2\", \"Topic2\", \"Topic2\", \"Topic2\", \"Topic2\", \"Topic2\", \"Topic2\", \"Topic2\", \"Topic2\", \"Topic2\", \"Topic2\", \"Topic2\", \"Topic2\", \"Topic2\", \"Topic2\", \"Topic2\", \"Topic2\", \"Topic2\", \"Topic2\", \"Topic2\", \"Topic2\", \"Topic2\", \"Topic3\", \"Topic3\", \"Topic3\", \"Topic3\", \"Topic3\", \"Topic3\", \"Topic3\", \"Topic3\", \"Topic3\", \"Topic3\", \"Topic3\", \"Topic3\", \"Topic3\", \"Topic3\", \"Topic3\", \"Topic3\", \"Topic3\", \"Topic3\", \"Topic3\", \"Topic3\", \"Topic3\", \"Topic3\", \"Topic3\", \"Topic3\", \"Topic3\", \"Topic3\", \"Topic3\", \"Topic3\", \"Topic3\", \"Topic3\", \"Topic3\", \"Topic3\", \"Topic3\", \"Topic3\", \"Topic3\", \"Topic3\", \"Topic3\", \"Topic3\", \"Topic3\", \"Topic3\", \"Topic3\", \"Topic3\", \"Topic3\", \"Topic3\", \"Topic3\", \"Topic3\", \"Topic3\", \"Topic3\", \"Topic3\", \"Topic3\", \"Topic3\", \"Topic3\", \"Topic3\", \"Topic3\", \"Topic3\", \"Topic3\", \"Topic3\", \"Topic3\", \"Topic3\", \"Topic3\", \"Topic3\", \"Topic3\", \"Topic3\", \"Topic3\", \"Topic3\", \"Topic3\", \"Topic3\", \"Topic3\", \"Topic4\", \"Topic4\", \"Topic4\", \"Topic4\", \"Topic4\", \"Topic4\", \"Topic4\", \"Topic4\", \"Topic4\", \"Topic4\", \"Topic4\", \"Topic4\", \"Topic4\", \"Topic4\", \"Topic4\", \"Topic4\", \"Topic4\", \"Topic4\", \"Topic4\", \"Topic4\", \"Topic4\", \"Topic4\", \"Topic4\", \"Topic4\", \"Topic4\", \"Topic4\", \"Topic4\", \"Topic4\", \"Topic4\", \"Topic4\", \"Topic4\", \"Topic4\", \"Topic4\", \"Topic4\", \"Topic4\", \"Topic4\", \"Topic4\", \"Topic4\", \"Topic4\", \"Topic4\", \"Topic4\", \"Topic4\", \"Topic4\", \"Topic4\", \"Topic4\", \"Topic4\", \"Topic4\", \"Topic4\", \"Topic4\", \"Topic4\", \"Topic4\", \"Topic4\", \"Topic4\", \"Topic4\", \"Topic4\", \"Topic4\", \"Topic4\", \"Topic4\", \"Topic4\", \"Topic4\", \"Topic4\", \"Topic5\", \"Topic5\", \"Topic5\", \"Topic5\", \"Topic5\", \"Topic5\", \"Topic5\", \"Topic5\", \"Topic5\", \"Topic5\", \"Topic5\", \"Topic5\", \"Topic5\", \"Topic5\", \"Topic5\", \"Topic5\", \"Topic5\", \"Topic5\", \"Topic5\", \"Topic5\", \"Topic5\", \"Topic5\", \"Topic5\", \"Topic5\", \"Topic5\", \"Topic5\", \"Topic5\", \"Topic5\", \"Topic5\", \"Topic5\", \"Topic5\", \"Topic5\", \"Topic5\", \"Topic5\", \"Topic5\", \"Topic5\", \"Topic5\", \"Topic5\", \"Topic5\", \"Topic5\", \"Topic5\", \"Topic5\", \"Topic5\", \"Topic5\", \"Topic5\", \"Topic5\", \"Topic5\", \"Topic5\", \"Topic6\", \"Topic6\", \"Topic6\", \"Topic6\", \"Topic6\", \"Topic6\", \"Topic6\", \"Topic6\", \"Topic6\", \"Topic6\", \"Topic6\", \"Topic6\", \"Topic6\", \"Topic6\", \"Topic6\", \"Topic6\", \"Topic6\", \"Topic6\", \"Topic6\", \"Topic6\", \"Topic6\", \"Topic6\", \"Topic6\", \"Topic6\", \"Topic6\", \"Topic6\", \"Topic6\", \"Topic6\", \"Topic6\", \"Topic6\", \"Topic6\", \"Topic6\", \"Topic6\", \"Topic6\", \"Topic6\", \"Topic6\", \"Topic6\", \"Topic6\", \"Topic6\", \"Topic6\", \"Topic6\", \"Topic6\", \"Topic6\", \"Topic6\", \"Topic6\", \"Topic6\", \"Topic7\", \"Topic7\", \"Topic7\", \"Topic7\", \"Topic7\", \"Topic7\", \"Topic7\", \"Topic7\", \"Topic7\", \"Topic7\", \"Topic7\", \"Topic7\", \"Topic7\", \"Topic7\", \"Topic7\", \"Topic7\", \"Topic7\", \"Topic7\", \"Topic7\", \"Topic7\", \"Topic7\", \"Topic7\", \"Topic7\", \"Topic7\", \"Topic7\", \"Topic7\", \"Topic7\", \"Topic7\", \"Topic7\", \"Topic7\", \"Topic7\", \"Topic7\", \"Topic7\", \"Topic7\", \"Topic7\", \"Topic7\", \"Topic8\", \"Topic8\", \"Topic8\", \"Topic8\", \"Topic8\", \"Topic8\", \"Topic8\", \"Topic8\", \"Topic8\", \"Topic8\", \"Topic8\", \"Topic8\", \"Topic8\", \"Topic8\", \"Topic8\", \"Topic8\", \"Topic8\", \"Topic8\", \"Topic8\", \"Topic8\", \"Topic8\", \"Topic8\", \"Topic8\", \"Topic8\", \"Topic8\", \"Topic8\", \"Topic8\", \"Topic8\", \"Topic8\", \"Topic8\", \"Topic8\", \"Topic8\", \"Topic8\", \"Topic9\", \"Topic9\", \"Topic9\", \"Topic9\", \"Topic9\", \"Topic9\", \"Topic9\", \"Topic9\", \"Topic9\", \"Topic9\", \"Topic9\", \"Topic9\", \"Topic9\", \"Topic9\", \"Topic9\", \"Topic9\", \"Topic9\", \"Topic9\", \"Topic9\", \"Topic9\", \"Topic9\", \"Topic9\", \"Topic9\", \"Topic9\", \"Topic9\", \"Topic9\", \"Topic9\", \"Topic9\", \"Topic9\", \"Topic9\", \"Topic9\", \"Topic9\", \"Topic10\", \"Topic10\", \"Topic10\", \"Topic10\", \"Topic10\", \"Topic10\", \"Topic10\", \"Topic10\", \"Topic10\", \"Topic10\", \"Topic10\", \"Topic10\", \"Topic10\", \"Topic10\", \"Topic10\", \"Topic10\", \"Topic10\", \"Topic10\", \"Topic10\", \"Topic10\", \"Topic10\", \"Topic10\", \"Topic10\", \"Topic10\", \"Topic10\", \"Topic10\", \"Topic10\", \"Topic10\", \"Topic10\", \"Topic10\"], \"logprob\": [30.0, 29.0, 28.0, 27.0, 26.0, 25.0, 24.0, 23.0, 22.0, 21.0, 20.0, 19.0, 18.0, 17.0, 16.0, 15.0, 14.0, 13.0, 12.0, 11.0, 10.0, 9.0, 8.0, 7.0, 6.0, 5.0, 4.0, 3.0, 2.0, 1.0, -5.1378, -5.3945, -5.5362, -6.2205, -6.2378, -6.238, -6.2525, -6.2562, -6.3633, -6.4776, -6.5347, -6.5508, -6.6556, -6.6572, -6.6707, -6.718, -6.7185, -6.768, -6.8419, -6.8566, -6.8611, -6.8957, -6.9262, -6.9281, -6.9629, -6.9714, -6.9949, -6.9996, -7.0082, -7.0266, -2.6962, -5.467, -5.6289, -4.3242, -4.7695, -5.5732, -5.7306, -5.7633, -5.2704, -5.4021, -5.3849, -5.9837, -5.6276, -2.9603, -4.7275, -5.7149, -3.6208, -3.734, -5.5367, -2.7173, -5.4969, -4.7723, -5.5002, -4.9495, -3.5694, -5.4825, -5.4333, -3.8682, -4.0279, -4.6845, -4.8008, -5.1744, -5.4678, -5.2558, -5.122, -5.167, -5.4625, -4.4138, -4.7245, -4.8122, -4.8425, -4.9889, -5.3227, -5.4438, -5.5165, -5.5857, -5.7458, -5.7582, -5.7583, -5.7752, -5.8214, -5.8516, -5.8603, -5.9099, -6.0625, -6.1344, -6.1499, -6.2057, -6.3084, -6.3213, -6.3597, -6.3836, -6.4271, -6.4354, -6.4375, -6.5254, -6.5781, -3.4937, -5.0472, -4.3483, -3.8398, -3.9955, -4.9294, -3.2349, -3.176, -5.2754, -4.4519, -4.3314, -4.4652, -2.8759, -2.609, -4.8397, -3.236, -3.317, -3.3658, -4.9098, -4.3876, -4.7605, -5.0825, -4.2993, -4.7316, -5.157, -4.8275, -4.5412, -5.5013, -5.6383, -5.8483, -5.8924, -6.0302, -6.2833, -6.3169, -6.3397, -6.3378, -6.3621, -6.3716, -6.377, -6.4008, -6.4789, -6.4854, -6.5635, -6.603, -6.6194, -6.6317, -6.649, -6.6566, -6.6779, -6.702, -6.7079, -6.7183, -6.7393, -6.8086, -6.8114, -6.8326, -4.8975, -4.9817, -5.874, -4.784, -4.5899, -6.2059, -5.0042, -4.8884, -5.3388, -5.3737, -5.4548, -5.7796, -5.6286, -3.9282, -4.5121, -2.9347, -3.5703, -2.9185, -5.3308, -2.6528, -4.5483, -4.0367, -5.3096, -5.4068, -3.2682, -4.9282, -3.3495, -4.1017, -5.3818, -5.3584, -5.3533, -4.9855, -4.6945, -5.1252, -5.1343, -4.8584, -5.1573, -5.2127, -4.1754, -5.2075, -5.6677, -5.6685, -5.9395, -6.013, -6.087, -6.2349, -6.2516, -6.267, -6.2944, -6.3123, -6.3364, -6.3377, -6.3563, -6.3638, -6.4673, -6.479, -6.5096, -6.5235, -6.5297, -6.5343, -6.5374, -6.5594, -6.5996, -6.6001, -6.6018, -6.6343, -6.7226, -6.7476, -5.843, -6.288, -2.5135, -4.4866, -5.5641, -5.4103, -2.7041, -5.3487, -4.2419, -5.4107, -2.7836, -4.4942, -4.4704, -4.6894, -2.6043, -4.9385, -5.3758, -3.8397, -5.8129, -5.8472, -5.8629, -5.3139, -4.5631, -5.3507, -4.2317, -5.5652, -5.543, -5.5725, -5.6878, -5.672, -5.8117, -3.3727, -3.654, -3.791, -4.5499, -4.6771, -4.7139, -4.761, -4.7669, -5.1259, -5.1758, -5.1794, -5.2048, -5.2218, -5.3305, -5.448, -5.74, -5.801, -5.8313, -5.8567, -5.8584, -5.8694, -5.8926, -5.9013, -5.9051, -5.9595, -6.0271, -6.0504, -6.0696, -6.0749, -6.0904, -4.4491, -4.7903, -4.7114, -3.8656, -2.7831, -4.5832, -2.971, -3.9409, -2.4389, -2.9161, -4.9417, -3.9123, -4.2525, -5.0907, -4.2572, -4.0036, -4.7903, -4.8121, -3.3063, -3.8791, -4.0817, -4.362, -4.5475, -4.8978, -5.0334, -5.0372, -5.0538, -5.2174, -5.2461, -5.2799, -5.29, -5.3731, -5.4423, -5.4688, -5.5092, -5.5667, -5.5693, -5.5706, -5.5756, -5.6005, -5.6123, -5.6136, -5.6196, -5.6293, -5.6617, -5.7146, -5.8217, -5.8437, -3.0262, -4.2323, -2.0039, -3.4652, -5.1942, -4.3224, -3.4631, -4.4199, -4.5902, -4.2693, -4.8821, -5.1625, -4.7087, -5.297, -5.239, -5.3877, -3.6993, -3.9977, -4.0225, -4.0321, -4.0858, -4.1374, -4.1718, -4.3626, -4.3698, -4.3837, -4.4858, -4.6122, -4.6335, -4.6727, -4.7133, -4.7275, -4.76, -4.7868, -4.7875, -4.8482, -4.9842, -5.048, -5.1219, -5.2129, -5.2655, -5.275, -5.2848, -5.3263, -5.3596, -5.3814, -4.7884, -4.4202, -4.0926, -4.8808, -4.772, -5.1734, -2.4778, -2.5118, -3.1455, -3.3705, -4.0021, -4.1124, -4.2185, -4.3915, -4.4231, -4.4424, -4.4726, -4.5274, -4.5689, -4.5995, -4.7858, -4.8355, -4.8509, -4.868, -4.9611, -4.9805, -5.0119, -5.0384, -5.0515, -5.2206, -5.2363, -5.3412, -5.3416, -5.3773, -5.3868, -5.3922, -2.4494, -5.1486, -5.0083, -3.1844, -3.2986, -3.4523, -3.8679, -4.0477, -4.3365, -4.3644, -4.414, -4.4144, -4.5741, -4.6382, -4.6745, -4.6785, -4.7155, -4.7867, -4.8155, -4.8167, -4.9785, -4.9899, -5.0227, -5.0327, -5.0436, -5.0439, -5.0552, -5.0567, -5.0657, -5.1336, -5.1882, -5.1955, -5.2329, -4.6057, -4.428, -3.2157, -3.87, -3.8917, -3.965, -4.0244, -4.0459, -4.1467, -4.2686, -4.3211, -4.3211, -4.3356, -4.3616, -4.3632, -4.4609, -4.4679, -4.4758, -4.5227, -4.5361, -4.5374, -4.5642, -4.5732, -4.7418, -4.7886, -4.807, -4.8364, -4.8723, -4.892, -4.9017, -5.0031, -5.0211], \"loglift\": [30.0, 29.0, 28.0, 27.0, 26.0, 25.0, 24.0, 23.0, 22.0, 21.0, 20.0, 19.0, 18.0, 17.0, 16.0, 15.0, 14.0, 13.0, 12.0, 11.0, 10.0, 9.0, 8.0, 7.0, 6.0, 5.0, 4.0, 3.0, 2.0, 1.0, 1.2925, 1.2923, 1.2921, 1.2909, 1.2909, 1.2909, 1.2909, 1.2909, 1.2906, 1.2902, 1.2901, 1.29, 1.2896, 1.2896, 1.2896, 1.2894, 1.2894, 1.2892, 1.2889, 1.2888, 1.2888, 1.2887, 1.2885, 1.2885, 1.2883, 1.2883, 1.2882, 1.2882, 1.2881, 1.288, 1.0868, 1.17, 1.1575, 0.996, 1.0333, 1.1199, 1.137, 1.135, 1.0565, 1.0378, 1.0229, 1.1264, 1.0555, 0.4057, 0.7742, 1.0086, 0.3796, 0.4029, 0.9537, 0.0327, 0.9211, 0.6333, 0.8946, 0.5513, -0.3725, 0.7967, 0.7411, -0.5332, -0.6412, -0.151, -0.0591, 0.3142, 0.7015, 0.0273, -0.4637, -1.0365, -0.2131, 1.6032, 1.603, 1.6029, 1.6029, 1.6028, 1.6024, 1.6022, 1.6021, 1.602, 1.6017, 1.6017, 1.6017, 1.6016, 1.6015, 1.6015, 1.6014, 1.6013, 1.6009, 1.6007, 1.6007, 1.6005, 1.6002, 1.6001, 1.6, 1.5999, 1.5997, 1.5997, 1.5997, 1.5993, 1.5991, 1.5084, 1.4676, 1.3966, 1.3093, 1.2539, 1.3257, 0.8955, 0.8244, 1.3039, 1.0367, 0.9674, 0.9595, 0.321, 0.141, 1.1042, 0.13, 0.0696, -0.0309, 0.915, 0.2707, 0.5725, 0.8029, -0.5162, 0.0102, 0.8841, -0.6907, 1.6352, 1.6342, 1.634, 1.6335, 1.6334, 1.6331, 1.6323, 1.6322, 1.6321, 1.6321, 1.632, 1.632, 1.6319, 1.6319, 1.6315, 1.6315, 1.6312, 1.631, 1.6309, 1.6308, 1.6307, 1.6307, 1.6306, 1.6305, 1.6304, 1.6304, 1.6303, 1.6299, 1.6298, 1.6297, 1.5566, 1.5126, 1.5529, 1.4502, 1.3914, 1.5585, 1.3666, 1.33, 1.3932, 1.3182, 1.3211, 1.3967, 1.3529, 0.8135, 0.9887, 0.4002, 0.5666, 0.2784, 1.2175, 0.0972, 0.8574, 0.6215, 1.1802, 1.1967, 0.0979, 0.9282, 0.0372, 0.4318, 1.1232, 1.0303, 0.9737, 0.3475, -0.6941, 0.3764, 0.3712, -1.0753, -0.0082, 0.086, 1.699, 1.6982, 1.6974, 1.6974, 1.6968, 1.6966, 1.6963, 1.6958, 1.6958, 1.6957, 1.6956, 1.6956, 1.6955, 1.6955, 1.6954, 1.6954, 1.6949, 1.6949, 1.6947, 1.6946, 1.6946, 1.6946, 1.6946, 1.6945, 1.6943, 1.6943, 1.6943, 1.6941, 1.6936, 1.6934, 1.6061, 1.6487, 0.8731, 1.2462, 1.445, 1.3964, 0.6308, 1.3706, 1.0412, 1.3685, 0.4133, 1.0113, 0.9543, 1.0092, 0.1457, 1.0317, 1.2242, 0.2907, 1.3987, 1.3642, 1.3697, 0.8726, 0.0951, 0.7697, -0.8657, 0.8959, 0.8007, -0.2523, 0.137, -0.3732, 1.0303, 3.1444, 3.1441, 3.1439, 3.1424, 3.142, 3.1419, 3.1417, 3.1417, 3.1402, 3.1399, 3.1399, 3.1397, 3.1397, 3.139, 3.1382, 3.1359, 3.1353, 3.135, 3.1347, 3.1347, 3.1346, 3.1343, 3.1342, 3.1342, 3.1336, 3.1328, 3.1325, 3.1322, 3.1322, 3.132, 2.8204, 2.8351, 2.756, 2.0198, 1.3473, 2.3457, 1.1658, 1.7686, 0.3112, 0.45, 2.297, 0.8294, 1.0804, 2.1704, 0.745, -0.0032, 0.3588, -1.4771, 3.2965, 3.2957, 3.2954, 3.2947, 3.2941, 3.2928, 3.2921, 3.2921, 3.292, 3.291, 3.2908, 3.2906, 3.2905, 3.2899, 3.2894, 3.2892, 3.2888, 3.2883, 3.2883, 3.2883, 3.2882, 3.288, 3.2879, 3.2879, 3.2878, 3.2877, 3.2874, 3.2869, 3.2857, 3.2854, 2.8116, 2.9879, 2.5296, 2.7212, 3.1644, 2.7201, 1.8699, 2.5077, 2.5505, 1.9247, 2.2535, 2.6451, 1.6025, 2.6817, 1.4541, 2.3802, 3.8116, 3.8108, 3.8107, 3.8107, 3.8105, 3.8103, 3.8102, 3.8094, 3.8093, 3.8093, 3.8088, 3.8081, 3.808, 3.8077, 3.8075, 3.8074, 3.8071, 3.807, 3.807, 3.8065, 3.8054, 3.8049, 3.8042, 3.8033, 3.8027, 3.8026, 3.8025, 3.802, 3.8016, 3.8013, 3.4424, 2.9832, 2.5216, 3.1301, 2.8618, 1.5501, 4.0738, 4.0738, 4.073, 4.0725, 4.0705, 4.0701, 4.0695, 4.0686, 4.0684, 4.0682, 4.068, 4.0677, 4.0674, 4.0671, 4.0656, 4.0651, 4.065, 4.0648, 4.0638, 4.0636, 4.0633, 4.063, 4.0628, 4.0606, 4.0604, 4.0588, 4.0588, 4.0582, 4.0581, 4.058, 3.2602, 2.8444, -0.8715, 4.2154, 4.2151, 4.2147, 4.2133, 4.2125, 4.2108, 4.2106, 4.2103, 4.2103, 4.209, 4.2085, 4.2081, 4.2081, 4.2077, 4.207, 4.2067, 4.2067, 4.2048, 4.2047, 4.2042, 4.2041, 4.204, 4.2039, 4.2038, 4.2038, 4.2037, 4.2027, 4.2019, 4.2017, 4.2012, 2.7646, 2.3238, 4.3337, 4.3315, 4.3313, 4.331, 4.3307, 4.3305, 4.3299, 4.3291, 4.3288, 4.3288, 4.3287, 4.3285, 4.3284, 4.3277, 4.3276, 4.3275, 4.3271, 4.327, 4.327, 4.3267, 4.3266, 4.3249, 4.3244, 4.3241, 4.3238, 4.3233, 4.3231, 4.323, 4.3216, 4.3213]}, \"token.table\": {\"Topic\": [1, 2, 3, 4, 5, 1, 3, 1, 3, 4, 9, 2, 8, 1, 2, 3, 4, 7, 9, 10, 2, 2, 1, 4, 7, 1, 1, 1, 2, 3, 6, 9, 4, 9, 9, 4, 1, 3, 2, 6, 2, 7, 5, 3, 1, 3, 6, 1, 2, 3, 4, 9, 4, 1, 2, 3, 5, 8, 1, 1, 4, 7, 10, 10, 9, 8, 1, 6, 1, 2, 3, 4, 3, 4, 9, 9, 7, 4, 9, 4, 9, 6, 3, 2, 3, 5, 9, 7, 3, 4, 10, 7, 8, 3, 5, 2, 4, 6, 5, 7, 5, 8, 10, 1, 2, 4, 10, 5, 1, 3, 4, 6, 7, 1, 7, 1, 3, 8, 1, 3, 1, 2, 5, 1, 5, 10, 6, 1, 3, 2, 1, 4, 5, 9, 8, 9, 9, 9, 1, 10, 9, 1, 2, 8, 1, 4, 6, 1, 1, 2, 3, 4, 5, 5, 6, 1, 2, 3, 4, 4, 8, 1, 3, 4, 6, 7, 8, 5, 10, 2, 4, 1, 3, 5, 7, 7, 5, 7, 7, 1, 2, 3, 4, 1, 6, 3, 10, 5, 1, 3, 2, 5, 4, 5, 7, 1, 1, 5, 6, 8, 9, 1, 2, 4, 6, 10, 6, 3, 9, 4, 7, 7, 6, 1, 6, 8, 4, 5, 8, 10, 3, 1, 3, 9, 6, 8, 10, 8, 1, 8, 9, 3, 1, 2, 3, 4, 1, 2, 3, 4, 7, 3, 10, 1, 3, 4, 6, 1, 2, 2, 1, 2, 4, 8, 1, 4, 7, 2, 1, 2, 1, 3, 4, 7, 4, 6, 6, 10, 4, 2, 6, 5, 8, 3, 10, 1, 2, 1, 1, 6, 5, 9, 7, 2, 1, 2, 3, 5, 8, 1, 2, 3, 4, 6, 4, 10, 2, 7, 8, 1, 1, 3, 4, 2, 4, 3, 4, 1, 3, 4, 1, 2, 3, 4, 5, 4, 1, 3, 4, 9, 3, 7, 3, 6, 2, 2, 1, 2, 3, 6, 4, 6, 4, 6, 6, 10, 4, 4, 7, 5, 3, 4, 1, 2, 4, 7, 1, 2, 3, 4, 1, 3, 6, 6, 1, 2, 3, 4, 4, 6, 6, 1, 2, 3, 4, 5, 8, 5, 3, 4, 1, 2, 3, 4, 3, 1, 3, 7, 6, 4, 5, 1, 2, 3, 6, 2, 3, 5, 9, 5, 8, 1, 3, 5, 5, 1, 6, 2, 3, 4, 5, 8, 7, 1, 1, 3, 5, 5, 1, 3, 3, 1, 2, 3, 4, 5, 2, 3, 4, 6, 2, 4, 4, 4, 1, 3, 1, 2, 1, 3, 4, 2, 8, 1, 5, 2, 1, 2, 4, 5, 1, 2, 2, 1, 2, 4, 2, 5, 6, 2, 9, 1, 1, 8, 1, 2, 3, 5, 7, 2, 1, 3, 4, 2, 1, 2, 1, 7, 3, 5, 8, 9, 1, 6, 8, 1, 4, 8, 2, 10, 7, 7, 3, 3, 8, 10, 1, 10, 1, 1, 2, 5, 10, 2, 1, 2, 3, 4, 6, 8, 1, 4, 3, 6, 5, 1, 10, 5, 4, 1, 2, 4, 10, 3, 9, 2, 10, 2, 3, 4, 1, 2, 3, 5, 6, 3, 10, 1, 4, 8, 2, 10, 4, 5, 2, 5, 2, 3, 6, 2, 6, 6, 5, 8, 2, 1, 2, 3, 4, 7, 4, 1, 4, 9, 3, 7, 7, 1, 3, 1, 1, 2, 4, 5, 9, 6, 9, 1, 6, 4, 10, 7, 1, 10, 1, 2, 3, 6, 1, 2, 3, 10, 1, 3, 5, 7, 1, 2, 3, 4, 10, 1, 9, 4, 1, 5, 2, 4, 2, 5, 8, 1, 4, 1, 2, 4, 1, 1, 6, 1, 3, 4, 3, 5, 3, 2, 6, 9, 3, 4, 9, 4, 8, 1, 3, 5, 4, 4, 5, 5], \"Freq\": [0.16096944923599202, 0.1950108099139542, 0.2906772971458655, 0.34349272483089477, 0.009836071552677513, 0.47633114666083515, 0.5237031557649277, 0.20980110342748584, 0.14347384875646452, 0.6355185890819134, 0.01128974547591852, 0.9992170911690483, 0.9873467859141132, 0.12966362540605053, 0.08506833227506784, 0.28218702292126024, 0.5025402360390572, 0.990753358507269, 0.9801245596223164, 0.9883128087966996, 0.9977757329273615, 0.9995526973804639, 0.7525000809810755, 0.1431523723078477, 0.10388048255967708, 0.9948731317123782, 0.9944939713261359, 0.1855606925245619, 0.3022534991637194, 0.1587787369024602, 0.3519914167476226, 0.9934640864386552, 0.9949266412695331, 0.995226679508155, 0.9921662013225319, 0.9949810976009391, 0.168522891678826, 0.8309654105822295, 0.5453163343257001, 0.4536534747096993, 0.9995165046942289, 0.9967222183654035, 0.9868006348374586, 0.9957248908438049, 0.23592437332575542, 0.3000095997339534, 0.46405076556201774, 0.2544351889778967, 0.08197284331087049, 0.49290164224588356, 0.1703331809057049, 0.9990025762897795, 0.9940574663239545, 0.2585797407988134, 0.20323215279528617, 0.4394633407093946, 0.0986479092176432, 0.9892419525080652, 0.9952499057445158, 0.2782362344442391, 0.718776938980951, 0.9821958566183209, 0.9895481050007996, 0.9959206067027796, 0.9911091581093893, 0.9931577974000859, 0.5248783032487745, 0.47296726226812646, 0.07901716568583396, 0.2571523549951263, 0.2689356165447682, 0.3943926953968379, 0.5838666853984302, 0.2645645918211637, 0.1498764929036149, 0.996769341111238, 0.98601902724435, 0.9931946785168425, 0.9844400262127081, 0.9979927046414787, 0.9925110318710397, 0.9909147106282812, 0.998456650891642, 0.9980401858279702, 0.9940237547438981, 0.988990411950383, 0.9953246110687727, 0.9869548663956025, 0.9937808651346074, 0.9975726427454629, 0.9905389281855562, 0.9935879687028479, 0.9810325285216576, 0.9241314893791096, 0.07547880227389586, 0.20446074213098228, 0.25335352829273894, 0.5422654465213008, 0.9983963297418179, 0.9831282042777557, 0.9911682280336945, 0.9925455113094008, 0.9913309476216912, 0.10462714248673696, 0.11839387176130761, 0.737896689116987, 0.03717016904134076, 0.9866267704527655, 0.40094638103064567, 0.2071835901978441, 0.2071835901978441, 0.18369719130901968, 0.9857471251984434, 0.6107434660620796, 0.3872239501321433, 0.7890291847337622, 0.2104645881525262, 0.9960759881935303, 0.9972955900418741, 0.9972201590923176, 0.22631265919828727, 0.44878951061355277, 0.3243997439355595, 0.5704404828902243, 0.42836051131533576, 0.9901912917639608, 0.9893632407927887, 0.9953223992016897, 0.9975719071207562, 0.9947558264888963, 0.8841688948591725, 0.11502328592780299, 0.9971425764887881, 0.9905659241050064, 0.9995195985803346, 0.989531893846268, 0.9843200850256649, 0.9877109995110009, 0.9976078289607914, 0.9941129708233648, 0.9853415115279568, 0.9970731618423531, 0.9970224362057368, 0.9989515642412515, 0.282717778606002, 0.7160807969071729, 0.9830552168229336, 0.9949454433177851, 0.6084694731422412, 0.18440930627942423, 0.05686630590114404, 0.04711779631809077, 0.10235935062205927, 0.9952448153439666, 0.9883100021615514, 0.027098081473103268, 0.22248951104232156, 0.23675165918606011, 0.5120111183602144, 0.7033564684510805, 0.2930651951879502, 0.3413020674091391, 0.6581494695522028, 0.9963402073448655, 0.9942419873407077, 0.9910245287702851, 0.9945563332740356, 0.9932265886899165, 0.9948851965697912, 0.9942870933112503, 0.9945331107262781, 0.21118065783994722, 0.7869467910073505, 0.9961376887899887, 0.9921938326692059, 0.9908534756830423, 0.9816517492219456, 0.9953315967368522, 0.9976332673977656, 0.5531756286009657, 0.1637691005726543, 0.14848398451920658, 0.13392673113497064, 0.264387282284125, 0.732789947748126, 0.9986236550798006, 0.9849830770898413, 0.9990934668084583, 0.26965856679351813, 0.7302140397824476, 0.9091389478914476, 0.09061938179830029, 0.339673367300084, 0.15606614173247105, 0.5049198703109358, 0.9987318268791034, 0.41223358286404943, 0.4495679450856992, 0.13689266147938245, 0.9758317330523646, 0.992858899884153, 0.1406448413287033, 0.09912112626975281, 0.7179584281160473, 0.04018424037962951, 0.9935369822146856, 0.9992820027257575, 0.997552547159079, 0.9959161557533198, 0.30882146051369214, 0.6919888281880879, 0.99462561329445, 0.9928769427174171, 0.9923009870558944, 0.8773142627478184, 0.11697523503304245, 0.6202581567034948, 0.37735985757485346, 0.987068721616468, 0.9914936938533074, 0.9951373310270186, 0.7746345920824986, 0.2251401031175735, 0.9916996641707106, 0.9909026784335104, 0.9950806101548739, 0.9877083573783253, 0.9920788553017081, 0.9987723288869493, 0.984651396913841, 0.9943912070826908, 0.9973416765961461, 0.5950450110544113, 0.057115361788786026, 0.28371029385279334, 0.06383481611687851, 0.0423465255102737, 0.28509350977339193, 0.15924679311609968, 0.5129297456173998, 0.9943713551210992, 0.992927943836719, 0.9950025295440315, 0.13541863202489982, 0.5986928994785045, 0.2647281528306312, 0.9888035994265462, 0.8539429842424796, 0.14483838601992588, 0.9949470154871255, 0.35785874154104486, 0.23481772144702945, 0.40724844679005107, 0.9987884737576032, 0.7883706243105326, 0.21047549074957123, 0.9935793185069403, 0.998081820422011, 0.7630950655748558, 0.23650403969390207, 0.17375118863374575, 0.2805002849185307, 0.2702796267636045, 0.27482214149912726, 0.998587536820268, 0.9933904437732936, 0.9984453078307685, 0.9923376817004101, 0.9962866626642771, 0.9984572749242584, 0.997118451538363, 0.9884175191268645, 0.9820969511155941, 0.9925158622319522, 0.9913596037609753, 0.9943191915611321, 0.9977995469932772, 0.9950615494903089, 0.8559433797133892, 0.1433888054904481, 0.9847749643383694, 0.9916817092107718, 0.9966796770085888, 0.998677794138051, 0.3182039403762522, 0.4872297759081045, 0.1043606484533785, 0.09027516215905747, 0.9931632709015119, 0.688793727876916, 0.0942658082866782, 0.19226491591144268, 0.02333312086303916, 0.9959984490730047, 0.9970669936178905, 0.9890230653297916, 0.9959336724724809, 0.9947768275307596, 0.9960482052754897, 0.9971783004053737, 0.7429382794075458, 0.11489699291759613, 0.14198652783312693, 0.25799660021239856, 0.7409662358100086, 0.9978006317297807, 0.9913308536867133, 0.21464009435223802, 0.7844584400730603, 0.9950277397196712, 0.2834823783429865, 0.23161306100791493, 0.21467273733991496, 0.21145622018776308, 0.05877887269895341, 0.9938719611563093, 0.08592281504482745, 0.7278889903083239, 0.18534778673955635, 0.9854257557412031, 0.9973170905299765, 0.9909772379704964, 0.9941314443040458, 0.9953587457818394, 0.9982635769418785, 0.9945174948667049, 0.1866363294141852, 0.8127250365051382, 0.9952269967564314, 0.9860816301750651, 0.4375792691831599, 0.5619672847885252, 0.9943798732879063, 0.9987083347271684, 0.9960430529599188, 0.9982120024541382, 0.9950275354326925, 0.9971731414575943, 0.9927509045524548, 0.9934339655137431, 0.9214964633355702, 0.07679137194463086, 0.11895002714099369, 0.7573151727976598, 0.12291502804569349, 0.992625433898371, 0.1325728379301901, 0.529377056286759, 0.21242130583297125, 0.1258680047475138, 0.7124184155177663, 0.2679094604834417, 0.019064718161743044, 0.9956440680280594, 0.14451422591803825, 0.2156680049615099, 0.20215779375072415, 0.43764077515471983, 0.9929186609703144, 0.9944555694999504, 0.9965013355507748, 0.41049411919492906, 0.10078798698932405, 0.343270343577641, 0.0001907057464320228, 0.1381663132900005, 0.007151465491200855, 0.9969054349174016, 0.8844694309936664, 0.11483999445703641, 0.1890500158740469, 0.2772609395370505, 0.2573315289966337, 0.2763296586706759, 0.997694495714224, 0.5168713851217157, 0.4592151282511831, 0.023740811652572243, 0.9935861237426222, 0.2755569270375645, 0.7216967136698118, 0.25813033865033364, 0.2864799134153992, 0.20143118912020255, 0.25365409000321804, 0.7449748389454021, 0.19313190611617329, 0.061665758066984676, 0.9847147428863292, 0.9947712553808794, 0.997210879400655, 0.07174921176143118, 0.9255648317224623, 0.9928717211486161, 0.9928199687293938, 0.5975399703341534, 0.3995598596812712, 0.7414123133738999, 0.17657896812603238, 0.05922524396773757, 0.021935275543606508, 0.9869943194824851, 0.9953162397371985, 0.9988063318697239, 0.9969332532703711, 0.9924737399814999, 0.9847314562489669, 0.9904649479074193, 0.3650035203279038, 0.6337423759539429, 0.9935116761732888, 0.4116331510725163, 0.22908701677414822, 0.21483800725786673, 0.07689171389126524, 0.06753942281556344, 0.05424574628701476, 0.22455215904857273, 0.7203330495322192, 0.9954225286014888, 0.5250660117266408, 0.4745988374593007, 0.9986357960505546, 0.9972513623115187, 0.24593857486042156, 0.7542116295719594, 0.5757107398230716, 0.42355339054327634, 0.9979822766760463, 0.783365006550798, 0.21649579472804964, 0.9988408365612474, 0.9901413583348935, 0.872842342790055, 0.12546265514602029, 0.9992826043206752, 0.097305468395577, 0.4924964213439233, 0.24444801213299772, 0.16561826558468218, 0.7709051931589892, 0.22854715477815585, 0.9977823398203113, 0.2877455101684378, 0.2104678850047183, 0.5013954150328387, 0.26534584734774436, 0.7336032250202345, 0.9883017942790574, 0.9982519938753233, 0.9914635971891166, 0.9977434130940576, 0.9936221408011533, 0.991080354826287, 0.40099474313461403, 0.4587313306315896, 0.09733689822977146, 0.04292806793723254, 0.9961432327492746, 0.9964080624741545, 0.420103405359217, 0.5155427185442724, 0.06305811764012588, 0.9965719789198498, 0.12646759458511062, 0.8729348601850317, 0.5625950196723983, 0.435073481879988, 0.9951755148255453, 0.9980048721231705, 0.9904365960223256, 0.9915658071196718, 0.9979840743701054, 0.9900677527444384, 0.9762442037757678, 0.8465539336323558, 0.1529018118014387, 0.9924452520916553, 0.9994113963159856, 0.9850436543125681, 0.9953497017140197, 0.9939186962169573, 0.9948415846873081, 0.9925459460331065, 0.9944748219768339, 0.9946185091936278, 0.9972577807514246, 0.9904342536336709, 0.9960892376480969, 0.37547525569846446, 0.5670818631206446, 0.05674503373656872, 0.9930721535238454, 0.9942969233962878, 0.22162305123051404, 0.7049005425263731, 0.07339087953052363, 0.99375753785326, 0.9943301939658385, 0.9834478589924692, 0.9983664299874273, 0.9973082966057162, 0.47572353281394864, 0.5206737878829831, 0.9984838798070413, 0.9988508505481754, 0.9959696880537419, 0.9945228723060391, 0.9932190834222632, 0.2820426148059015, 0.2001302383782301, 0.5178782480372192, 0.9972534910328245, 0.9978508275365214, 0.9935176181028993, 0.997367437094991, 0.9957818788757323, 0.9985773684460925, 0.9991232702919408, 0.9993311007707756, 0.0009461213885718198, 0.35668776349157605, 0.27563669787059014, 0.12678026606862383, 0.2399994589010516, 0.992087104904263, 0.9881054703931638, 0.22419828324123672, 0.7754226337666834, 0.9823911244144191, 0.9983328819721476, 0.9907309965046965, 0.31987495561227874, 0.67706865604599, 0.9968829257229755, 0.9955148558978077, 0.9974603073859535, 0.9967506718214488, 0.9940980401862746, 0.4374604295651917, 0.5612042164143097, 0.9898155194139875, 0.9920372798511852, 0.9975203897783935, 0.9968889427855413, 0.17250038655341512, 0.2637296412669531, 0.36266841046332526, 0.20108983609392528, 0.9954779632236304, 0.9951084488624489, 0.5974541033504386, 0.16690013413433305, 0.23462772479754065, 0.9975536359424856, 0.9900478030938032, 0.9972017795119633, 0.2629679539280753, 0.736157382653304, 0.9929386541997226, 0.09744534410892039, 0.33716089061686455, 0.4472741294599446, 0.11693441293070447, 0.9932386445276264, 0.985341230234647, 0.9967399968188206, 0.9976226110960734, 0.9984741641232263, 0.9934054819606597, 0.9937427275808787, 0.9955192173933489, 0.9935432027267883, 0.9888521122113532, 0.8134710912632722, 0.12002581193507629, 0.06647274470247114, 0.9882658582991588, 0.6712039058947709, 0.32830625831809446, 0.9944685880097593, 0.9905500157029944, 0.3157244374835496, 0.6449317690945107, 0.0393251078716165, 0.99712290464815, 0.11444023789949641, 0.6070560842892069, 0.18647368713572765, 0.0923654711980707, 0.9794614034132988, 0.9951277093787054, 0.9855713529058967, 0.9969139008307687, 0.9957178285434777, 0.9958896179014859, 0.37731877950063425, 0.6214003638660297, 0.3042572595262858, 0.2523221079757264, 0.4430573990684887, 0.04688159963441325, 0.9504178834976503, 0.2877666611312743, 0.502302379824124, 0.2093786100704254, 0.9977578777039989, 0.8405550408565617, 0.1585257313896147, 0.22078862695744692, 0.7638574271350381, 0.015134704267244345, 0.9979112428258212, 0.9913210520903786, 0.9970318498343774, 0.38453820300390834, 0.6149476425755436, 0.9804729430310102, 0.08636758805493669, 0.9107854740338779, 0.9947681933593076, 0.9984142690881669, 0.9797150260483167, 0.4531928905841878, 0.5456442402633621, 0.9965523240674596, 0.9980359089534278, 0.9956190063576429, 0.998619328354972, 0.9889055586344261], \"Term\": [\"aaditharkawat\", \"aaditharkawat\", \"aaditharkawat\", \"aaditharkawat\", \"aaditharkawat\", \"aaronjmate\", \"aaronjmate\", \"abnheel\", \"abnheel\", \"abnheel\", \"abnheel\", \"ac\", \"accept\", \"acceptable\", \"acceptable\", \"acceptable\", \"acceptable\", \"accord\", \"acknowledgement\", \"activity\", \"adamparsons\", \"adamum\", \"affecting\", \"affecting\", \"affecting\", \"age\", \"ahimsa\", \"ahmedbhutta\", \"ahmedbhutta\", \"ahmedbhutta\", \"ahmedbhutta\", \"akshayalladi\", \"alainlenain\", \"alexkamillakroy\", \"aligning\", \"allocate\", \"ally\", \"ally\", \"almost\", \"almost\", \"amasses\", \"amberinvancity\", \"americanewsroom\", \"amitabhjha\", \"amp\", \"amp\", \"amp\", \"amplifying\", \"amplifying\", \"amplifying\", \"amplifying\", \"andpetrovych\", \"anilkum\", \"anti\", \"anti\", \"anti\", \"anti\", \"aqdazo\", \"arielelysegold\", \"arming\", \"arming\", \"aruizucwik\", \"ashmorecj\", \"atensnut\", \"au\", \"aye\", \"back\", \"back\", \"base\", \"base\", \"base\", \"base\", \"basis\", \"basis\", \"basis\", \"bayonetting\", \"baz\", \"bbcpolitics\", \"beat\", \"belfold\", \"benandjerrys\", \"bg\", \"biden\", \"blaming\", \"blatantly\", \"bleating\", \"blowing\", \"bluff\", \"bolstering\", \"bouncy\", \"bout\", \"brigitte\", \"brummer\", \"bullsh\", \"bullsh\", \"called\", \"called\", \"called\", \"canad\", \"canceled\", \"capacity\", \"castle\", \"chair\", \"change\", \"change\", \"change\", \"change\", \"chechnya\", \"checked\", \"checked\", \"checked\", \"checked\", \"chicken\", \"china\", \"china\", \"choice\", \"choice\", \"circling\", \"citing\", \"civil\", \"civilian\", \"civilian\", \"civilian\", \"claimed\", \"claimed\", \"clemson\", \"coincide\", \"colonel\", \"committed\", \"common\", \"completely\", \"completely\", \"completing\", \"conflit\", \"consistently\", \"contradicting\", \"contrasted\", \"controlled\", \"country\", \"cps\", \"criticised\", \"cryptoupdate\", \"daily\", \"darkest\", \"davincij\", \"davincij\", \"davld\", \"debated\", \"decade\", \"decade\", \"decade\", \"decade\", \"decade\", \"decides\", \"declare\", \"decline\", \"decline\", \"decline\", \"decline\", \"defend\", \"defend\", \"defense\", \"defense\", \"deliberately\", \"democracynow\", \"demonise\", \"demonstrate\", \"dems\", \"dergi\", \"dictatorial\", \"difference\", \"diplomatic\", \"diplomatic\", \"direct\", \"director\", \"disagreement\", \"distracted\", \"dombroskimike\", \"echoing\", \"economy\", \"economy\", \"economy\", \"economy\", \"eight\", \"eight\", \"ellwood\", \"embarrassing\", \"encircling\", \"end\", \"end\", \"energy\", \"energy\", \"england\", \"england\", \"england\", \"entire\", \"escalated\", \"escalated\", \"escalated\", \"evacuates\", \"evil\", \"exactly\", \"exactly\", \"exactly\", \"exactly\", \"exerting\", \"existential\", \"expected\", \"extended\", \"f\", \"f\", \"faced\", \"facepalming\", \"fallback\", \"fascistic\", \"fascistic\", \"fatum\", \"fatum\", \"fault\", \"fewer\", \"fight\", \"filed\", \"filed\", \"finland\", \"floor\", \"follow\", \"following\", \"foot\", \"forget\", \"forgot\", \"founding\", \"french\", \"frightening\", \"frightening\", \"frightening\", \"frightening\", \"frothing\", \"frothing\", \"frothing\", \"frothing\", \"funded\", \"garigurman\", \"generates\", \"geopolitical\", \"geopolitical\", \"geopolitical\", \"german\", \"ggreenwald\", \"ggreenwald\", \"gladios\", \"global\", \"global\", \"global\", \"globaltimes\", \"govt\", \"govt\", \"grand\", \"greatest\", \"greece\", \"greece\", \"group\", \"group\", \"group\", \"group\", \"gun\", \"hand\", \"happening\", \"headed\", \"help\", \"hfkg\", \"hospital\", \"hq\", \"hybrid\", \"ii\", \"ikelly\", \"illegal\", \"illegally\", \"including\", \"indeed\", \"indeed\", \"indegen\", \"inflaming\", \"insanity\", \"inside\", \"intellectually\", \"intellectually\", \"intellectually\", \"intellectually\", \"intend\", \"intending\", \"intending\", \"intending\", \"intending\", \"interest\", \"invited\", \"involvement\", \"iroelsanchez\", \"javelin\", \"jeopardizes\", \"jilianneparker\", \"join\", \"join\", \"join\", \"joining\", \"joining\", \"julie\", \"justintrudeau\", \"k\", \"k\", \"kalibr\", \"keep\", \"keep\", \"keep\", \"keep\", \"keep\", \"kerri\", \"kill\", \"kill\", \"kill\", \"killed\", \"know\", \"krasnaya\", \"kyiv\", \"latvia\", \"launch\", \"laurie\", \"least\", \"least\", \"leon\", \"listened\", \"living\", \"living\", \"lmao\", \"lo\", \"logistics\", \"lol\", \"looking\", \"loss\", \"loud\", \"lured\", \"made\", \"made\", \"mass\", \"mass\", \"mass\", \"massive\", \"mat\", \"mat\", \"mat\", \"mat\", \"maxblumenthal\", \"maxblumenthal\", \"maxblumenthal\", \"mdrisette\", \"mean\", \"mean\", \"mean\", \"mean\", \"meantime\", \"melanie\", \"memorandum\", \"mention\", \"mention\", \"mention\", \"mention\", \"mention\", \"mention\", \"merit\", \"mexico\", \"mexico\", \"might\", \"might\", \"might\", \"might\", \"mil\", \"military\", \"military\", \"military\", \"ministry\", \"minorincursion\", \"minorincursion\", \"missile\", \"missile\", \"missile\", \"missile\", \"missing\", \"missing\", \"missing\", \"mmmmmm\", \"monkey\", \"msn\", \"mxahf\", \"mxahf\", \"nagorno\", \"nazi\", \"nephew\", \"nephew\", \"new\", \"new\", \"new\", \"new\", \"newsaus\", \"nice\", \"nobody\", \"nord\", \"norm\", \"noted\", \"november\", \"nuclear\", \"nuclear\", \"nytimes\", \"occupation\", \"occupation\", \"occupation\", \"occupation\", \"occupation\", \"occupy\", \"occupy\", \"occupy\", \"opportunity\", \"overdoses\", \"overdoses\", \"owned\", \"paratrooper\", \"part\", \"part\", \"past\", \"past\", \"people\", \"per\", \"per\", \"ph\", \"picking\", \"place\", \"place\", \"plan\", \"please\", \"please\", \"please\", \"please\", \"plenary\", \"plenary\", \"plus\", \"point\", \"point\", \"point\", \"political\", \"political\", \"possible\", \"prabhat\", \"praise\", \"preferably\", \"presence\", \"pripyat\", \"pro\", \"pro\", \"pro\", \"pro\", \"probably\", \"problem\", \"propaganda\", \"propaganda\", \"propaganda\", \"protection\", \"protesting\", \"protesting\", \"provokes\", \"provokes\", \"q\", \"read\", \"realised\", \"rees\", \"refugee\", \"reinforcing\", \"related\", \"remember\", \"remember\", \"remind\", \"repadamschiff\", \"repjimbaird\", \"repjimbanks\", \"reptrey\", \"request\", \"responsibility\", \"rf\", \"rising\", \"river\", \"rm\", \"rokhanna\", \"said\", \"said\", \"said\", \"sanction\", \"satellite\", \"scenario\", \"scenario\", \"scenario\", \"scharap\", \"scott\", \"sealed\", \"seem\", \"selling\", \"senior\", \"senior\", \"separatist\", \"seriously\", \"sexton\", \"shelled\", \"shjckp\", \"side\", \"side\", \"side\", \"simplistic\", \"simply\", \"singhrakeshku\", \"skynews\", \"slam\", \"slamming\", \"soldier\", \"something\", \"soon\", \"soon\", \"soon\", \"soon\", \"soon\", \"spy\", \"spzkaz\", \"starting\", \"starting\", \"stat\", \"stationing\", \"stockpile\", \"stolen\", \"stolen\", \"story\", \"sundriedcorn\", \"supervision\", \"surrounded\", \"swirl\", \"system\", \"system\", \"talking\", \"taste\", \"ten\", \"terminating\", \"territory\", \"territory\", \"territory\", \"territory\", \"thelastaesir\", \"third\", \"thousand\", \"thousand\", \"thousand\", \"threatened\", \"tiny\", \"tiwaritkt\", \"token\", \"token\", \"tommylundn\", \"top\", \"top\", \"top\", \"top\", \"toward\", \"towards\", \"tqlopg\", \"trainer\", \"travel\", \"troop\", \"tuesday\", \"turned\", \"ua\", \"uag\", \"ukraine\", \"ukraine\", \"ukraine\", \"ulyanov\", \"unacceptable\", \"unacceptable\", \"undead\", \"unfair\", \"unprotected\", \"unprotected\", \"unprotected\", \"useless\", \"using\", \"using\", \"using\", \"using\", \"v\", \"vaushv\", \"vehemently\", \"venezuela\", \"vietcong\", \"vietnam\", \"violates\", \"violates\", \"virility\", \"virility\", \"virility\", \"visible\", \"visible\", \"w\", \"w\", \"w\", \"wa\", \"walking\", \"walking\", \"war\", \"war\", \"war\", \"weapon\", \"welle\", \"whatever\", \"wing\", \"wing\", \"without\", \"woman\", \"woman\", \"worldwide\", \"writing\", \"wwmt\", \"xi\", \"xi\", \"xl\", \"yeeeees\", \"youtube\", \"zany\", \"zn\"]}, \"R\": 30, \"lambda.step\": 0.01, \"plot.opts\": {\"xlab\": \"PC1\", \"ylab\": \"PC2\"}, \"topic.order\": [3, 4, 9, 8, 2, 6, 1, 5, 10, 7]};\n",
       "\n",
       "function LDAvis_load_lib(url, callback){\n",
       "  var s = document.createElement('script');\n",
       "  s.src = url;\n",
       "  s.async = true;\n",
       "  s.onreadystatechange = s.onload = callback;\n",
       "  s.onerror = function(){console.warn(\"failed to load library \" + url);};\n",
       "  document.getElementsByTagName(\"head\")[0].appendChild(s);\n",
       "}\n",
       "\n",
       "if(typeof(LDAvis) !== \"undefined\"){\n",
       "   // already loaded: just create the visualization\n",
       "   !function(LDAvis){\n",
       "       new LDAvis(\"#\" + \"ldavis_el1427901400868510606723645831018\", ldavis_el1427901400868510606723645831018_data);\n",
       "   }(LDAvis);\n",
       "}else if(typeof define === \"function\" && define.amd){\n",
       "   // require.js is available: use it to load d3/LDAvis\n",
       "   require.config({paths: {d3: \"https://d3js.org/d3.v5\"}});\n",
       "   require([\"d3\"], function(d3){\n",
       "      window.d3 = d3;\n",
       "      LDAvis_load_lib(\"https://cdn.jsdelivr.net/gh/bmabey/pyLDAvis@3.4.0/pyLDAvis/js/ldavis.v3.0.0.js\", function(){\n",
       "        new LDAvis(\"#\" + \"ldavis_el1427901400868510606723645831018\", ldavis_el1427901400868510606723645831018_data);\n",
       "      });\n",
       "    });\n",
       "}else{\n",
       "    // require.js not available: dynamically load d3 & LDAvis\n",
       "    LDAvis_load_lib(\"https://d3js.org/d3.v5.js\", function(){\n",
       "         LDAvis_load_lib(\"https://cdn.jsdelivr.net/gh/bmabey/pyLDAvis@3.4.0/pyLDAvis/js/ldavis.v3.0.0.js\", function(){\n",
       "                 new LDAvis(\"#\" + \"ldavis_el1427901400868510606723645831018\", ldavis_el1427901400868510606723645831018_data);\n",
       "            })\n",
       "         });\n",
       "}\n",
       "</script>"
      ],
      "text/plain": [
       "PreparedData(topic_coordinates=              x         y  topics  cluster       Freq\n",
       "topic                                                \n",
       "2      0.262562 -0.030267       1        1  27.436326\n",
       "3      0.278812  0.040294       2        1  20.114719\n",
       "8      0.258497 -0.030364       3        1  19.479201\n",
       "7      0.244826  0.017790       4        1  18.278378\n",
       "1      0.076679  0.110003       5        1   4.305683\n",
       "5     -0.146633 -0.359194       6        1   3.697824\n",
       "0     -0.225532  0.044496       7        1   2.206041\n",
       "4     -0.234310  0.106823       8        1   1.699666\n",
       "9     -0.252027  0.051907       9        1   1.473531\n",
       "6     -0.262873  0.048510      10        1   1.308632, topic_info=           Term          Freq         Total Category  logprob  loglift\n",
       "40          amp   7053.000000   7053.000000  Default  30.0000  30.0000\n",
       "58         keep  41970.000000  41970.000000  Default  29.0000  29.0000\n",
       "348      please  10554.000000  10554.000000  Default  28.0000  28.0000\n",
       "156     mention  10487.000000  10487.000000  Default  27.0000  27.0000\n",
       "17      ukraine  14938.000000  14938.000000  Default  26.0000  26.0000\n",
       "...         ...           ...           ...      ...      ...      ...\n",
       "4698     unfair     65.779110     66.629649  Topic10  -4.8723   4.3233\n",
       "1894          v     64.491509     65.342034  Topic10  -4.8920   4.3231\n",
       "3617        uag     63.870976     64.721508  Topic10  -4.9017   4.3230\n",
       "3565         rm     57.709633     58.560172  Topic10  -5.0031   4.3216\n",
       "3931  stockpile     56.682767     57.533276  Topic10  -5.0211   4.3213\n",
       "\n",
       "[507 rows x 6 columns], token_table=      Topic      Freq           Term\n",
       "term                                \n",
       "0         1  0.160969  aaditharkawat\n",
       "0         2  0.195011  aaditharkawat\n",
       "0         3  0.290677  aaditharkawat\n",
       "0         4  0.343493  aaditharkawat\n",
       "0         5  0.009836  aaditharkawat\n",
       "...     ...       ...            ...\n",
       "1284      5  0.996552             xl\n",
       "1493      4  0.998036        yeeeees\n",
       "852       4  0.995619        youtube\n",
       "2229      5  0.998619           zany\n",
       "4033      5  0.988906             zn\n",
       "\n",
       "[630 rows x 3 columns], R=30, lambda_step=0.01, plot_opts={'xlab': 'PC1', 'ylab': 'PC2'}, topic_order=[3, 4, 9, 8, 2, 6, 1, 5, 10, 7])"
      ]
     },
     "execution_count": 25,
     "metadata": {},
     "output_type": "execute_result"
    }
   ],
   "source": [
    "import pyLDAvis\n",
    "import pyLDAvis.gensim\n",
    "\n",
    "\n",
    "pyLDAvis.enable_notebook()\n",
    "vis = pyLDAvis.gensim.prepare(topic_model=before_war_lda_model, corpus=before_war_corpora, dictionary=before_war_dict)\n",
    "vis\n"
   ]
  },
  {
   "cell_type": "code",
   "execution_count": 100,
   "id": "f429f6b1-b7ee-4407-811e-48db07fd0938",
   "metadata": {},
   "outputs": [
    {
     "name": "stdout",
     "output_type": "stream",
     "text": [
      "2.1.2\n"
     ]
    }
   ],
   "source": [
    "\n",
    "print(pyLDAvis.__version__)"
   ]
  },
  {
   "cell_type": "code",
   "execution_count": 16,
   "id": "443fccfc-d3be-4cb4-887b-1d13cd91541f",
   "metadata": {},
   "outputs": [
    {
     "name": "stdout",
     "output_type": "stream",
     "text": [
      "Examples of n-grams:\n",
      "Example 1:\n",
      "Before War Sample N-grams: ['aaditharkawat', 'love', 'russia_massing', 'troop_ukraine', 'border', 'ha_already', 'taken', 'piece', 'territory', 'may_invade', 'soon', 'somehow_u', 'fault']\n",
      "War and After Sample N-grams: []\n",
      "\n",
      "Example 2:\n",
      "Before War Sample N-grams: ['aaprpsouthwest', 'sankofabrown', 'u_ha', 'funding', 'right_wing', 'nazi_group', 'since', 'russian_troop', 'amassing', 'near_border', 'similar', 'fashion', 'invaded_crimea', 'ha', 'biden', 'really', 'increased', 'rate', 'ukraine_join', 'nato']\n",
      "War and After Sample N-grams: []\n",
      "\n",
      "Example 3:\n",
      "Before War Sample N-grams: ['aaron_mat', 'amp', 'andrew', 'cockburn', 'ukraine_yemen', 'u_arm', 'industry_reaps', 'spoil_war', 'zerohedge_com', 'geopolitical']\n",
      "War and After Sample N-grams: []\n",
      "\n",
      "Example 4:\n",
      "Before War Sample N-grams: ['aaron', 'schwa', 'melindaharing', 'last', 'pro_russian', 'president', 'lose_power', 'without', 'invasion_occupation', 'maybe', 'putin', 'learn_something', 'american', 'keep_troop', 'border', 'year_let', 'fear_invasion', 'dominate_ukraine', 'economy']\n",
      "War and After Sample N-grams: []\n",
      "\n",
      "Example 5:\n",
      "Before War Sample N-grams: ['aaronbastani', 'bullsh', 'putin_annex', 'crimea', 'start_war', 'eastern_ukraine', 'ha_killed', 'massing_troop', 'border_threatening', 'invasion', 'clown', 'lay', 'west', 'reveals', 'politically', 'motivated', 'organisation', 'anti_war', 'one']\n",
      "War and After Sample N-grams: []\n",
      "\n"
     ]
    }
   ],
   "source": [
    "print(\"Examples of n-grams:\")\n",
    "for i in range(5):  # Print 5 examples\n",
    "    print(f\"Example {i+1}:\")\n",
    "    print(\"Before War Sample N-grams:\", before_war_sample_ngrams[i])\n",
    "    print(\"War and After Sample N-grams:\", war_and_after_sample_ngrams[i])\n",
    "    print()"
   ]
  },
  {
   "cell_type": "code",
   "execution_count": null,
   "id": "055dcf17-3928-47da-b47c-bb6b85b4adc2",
   "metadata": {},
   "outputs": [],
   "source": []
  }
 ],
 "metadata": {
  "kernelspec": {
   "display_name": "Python 3 (ipykernel)",
   "language": "python",
   "name": "python3"
  },
  "language_info": {
   "codemirror_mode": {
    "name": "ipython",
    "version": 3
   },
   "file_extension": ".py",
   "mimetype": "text/x-python",
   "name": "python",
   "nbconvert_exporter": "python",
   "pygments_lexer": "ipython3",
   "version": "3.9.7"
  }
 },
 "nbformat": 4,
 "nbformat_minor": 5
}
