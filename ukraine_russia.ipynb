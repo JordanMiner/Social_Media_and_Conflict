{
 "cells": [
  {
   "cell_type": "code",
   "execution_count": null,
   "id": "f8159c58",
   "metadata": {
    "scrolled": true
   },
   "outputs": [],
   "source": [
    "!pip install contractions\n",
    "!pip install textblob\n",
    "!pip install emoji\n",
    "!pip install regex\n",
    "!pip install demoji\n",
    "!pip install pyLDAvis==2.1.2\n",
    "!pip install tdqm\n",
    "!pip install ipython==7.10.0\n",
    "!pip install gensim"
   ]
  },
  {
   "cell_type": "code",
   "execution_count": null,
   "id": "cfaefa3c-e358-4e53-b4b3-d2adaf79b0d6",
   "metadata": {},
   "outputs": [],
   "source": [
    "#try 2.1.2 for pyLDAvis\n",
    "# 2.0.0\n",
    "# 1.5.1"
   ]
  },
  {
   "cell_type": "code",
   "execution_count": null,
   "id": "7ea55474",
   "metadata": {},
   "outputs": [],
   "source": [
    "import pickle\n",
    "import numpy as np\n",
    "import pandas as pd\n",
    "from collections import Counter\n",
    "import os\n",
    "\n",
    "import seaborn as sns\n",
    "import matplotlib.pyplot as plt\n",
    "# import plotly.express as px\n",
    "# import plotly.figure_factory as ff\n",
    "\n",
    "import re\n",
    "import emoji \n",
    "import demoji\n",
    "import contractions\n",
    "from tqdm import tqdm\n",
    "\n",
    "#nltk\n",
    "import nltk\n",
    "nltk.download('stopwords')\n",
    "nltk.download('punkt')\n",
    "nltk.download('wordnet')\n",
    "nltk.download('vader_lexicon')\n",
    "from nltk.tokenize import word_tokenize\n",
    "from nltk.corpus import stopwords\n",
    "from nltk.stem import WordNetLemmatizer\n",
    "from nltk.sentiment import SentimentIntensityAnalyzer\n",
    "\n",
    "import sklearn\n",
    "from sklearn.model_selection import train_test_split\n",
    "from sklearn import metrics\n",
    "from sklearn.feature_extraction.text import TfidfVectorizer\n",
    "from sklearn.metrics import confusion_matrix, classification_report\n",
    "from sklearn.feature_extraction.text import CountVectorizer\n",
    "from sklearn.decomposition import LatentDirichletAllocation\n",
    "\n",
    "\n",
    "import pyLDAvis\n",
    "import pyLDAvis.sklearn\n",
    "pyLDAvis.enable_notebook()\n"
   ]
  },
  {
   "cell_type": "code",
   "execution_count": 35,
   "id": "b7e0221a",
   "metadata": {},
   "outputs": [],
   "source": [
    "#Read and convert csv files to data frames\n",
    "# before_war = pd.read_csv(\"before_war.csv\")\n",
    "war_and_after = pd.read_csv(\"war_and_afterwards.csv\")"
   ]
  },
  {
   "cell_type": "code",
   "execution_count": 24,
   "id": "2f0134f0",
   "metadata": {},
   "outputs": [
    {
     "name": "stderr",
     "output_type": "stream",
     "text": [
      "100%|██████████| 8268526/8268526 [2:56:03<00:00, 782.77it/s]   \n",
      "100%|██████████| 8268526/8268526 [55:47<00:00, 2470.09it/s]  \n"
     ]
    }
   ],
   "source": [
    "'''\n",
    "This function removes stopwords, tokenizes the text, and performs other basic text processing.\n",
    "I used the emoji and demoji libraries to extract the meaning of the emojis to achieve a more accurate sentiment score.\n",
    "The cleaned text will be stored in another column called cleaned_text.\n",
    "I also used Vader to calculate the sentiment score of each tweet (-1 = negative, 1 = positive)\n",
    "# '''\n",
    "\n",
    "from tqdm import tqdm  # Import tqdm library\n",
    "\n",
    "# Initialize VADER SentimentIntensityAnalyzer\n",
    "sia = SentimentIntensityAnalyzer()\n",
    "\n",
    "# Set up stopwords\n",
    "stop_words = set(stopwords.words('english'))\n",
    "\n",
    "# Clean the text data\n",
    "def clean_text(text):\n",
    "    #Remove any links via re\n",
    "    text = re.sub(r'http\\S+', ' ', text)\n",
    "\n",
    "    #Account for contractions like I've\n",
    "#     text = contractions.fix(text)\n",
    "\n",
    "    #Convert emojis to text\n",
    "    text = emoji.demojize(text, delimiters=(\" \",\" \")) \n",
    "\n",
    "    #Only accept alphabetical chars after processing emojis\n",
    "    text = re.sub(r'[^a-zA-Z\\s]', ' ', text)\n",
    "\n",
    "    #Tokenize text and make everything lowercase\n",
    "    tokens = word_tokenize(text.lower())\n",
    "\n",
    "    #Lemmatize the tokens\n",
    "    lemmatizer = WordNetLemmatizer()\n",
    "    tokens = [lemmatizer.lemmatize(word) for word in tokens]\n",
    "\n",
    "    #Remove stopwords\n",
    "    tokens = [word for word in tokens if word not in stop_words]\n",
    "\n",
    "    #Rejoin the tokens into a cleaned text\n",
    "    cleaned_text = ' '.join(tokens)\n",
    "\n",
    "    return cleaned_text\n",
    "\n",
    "tqdm.pandas()\n",
    "\n",
    "#Clean the 'text' column and save cleaned text as 'cleaned_text'\n",
    "# before_war['cleaned_text'] = before_war.apply(clean_text, axis=1)\n",
    "# war_and_after['cleaned_text'] = war_and_after.apply(clean_text, axis=1)\n",
    "# Clean the 'text' column and save cleaned text as 'cleaned_text'\n",
    "war_and_after['cleaned_text'] = war_and_after['text'].progress_apply(clean_text)\n",
    "\n",
    "                                            \n",
    "#Apply VADER sentiment analysis to the 'text' columns in both datasets\n",
    "# before_war['sentiment_score'] = before_war['cleaned_text'].apply(lambda x: sia.polarity_scores(x)['compound'])\n",
    "war_and_after['sentiment_score'] = war_and_after['cleaned_text'].progress_apply(lambda x: sia.polarity_scores(x)['compound'])\n"
   ]
  },
  {
   "cell_type": "code",
   "execution_count": null,
   "id": "32e81c0c",
   "metadata": {},
   "outputs": [],
   "source": [
    "#change 'date' column to 'datetime' type\n",
    "# before_war['date'] = pd.to_datetime(before_war['date'], format='%Y-%m-%d') \n",
    "# war_and_after['date'] = pd.to_datetime(before_war['date'], format='%Y-%m-%d') \n",
    "\n",
    "\n",
    "#pickle files\n",
    "# before_war_cleaned = before_war\n",
    "# war_and_after_cleaned = war_and_after\n",
    "# with open('before_war_cleaned.pkl', 'wb') as f:\n",
    "#     pickle.dump(before_war_cleaned, f)\n",
    "    \n",
    "# with open('war_and_after_cleaned.pkl', 'wb') as f:\n",
    "#     pickle.dump(war_and_after_cleaned, f)\n",
    "\n",
    "with open('before_war_cleaned.pkl', 'rb') as f:\n",
    "    before_war = pickle.load(f)\n",
    "    print(before_war.shape)\n",
    "\n",
    "with open('war_and_after_cleaned.pkl', 'rb') as f:\n",
    "    war_and_after = pickle.load(f)\n",
    "    print(war_and_after.shape)\n",
    "\n"
   ]
  },
  {
   "cell_type": "code",
   "execution_count": null,
   "id": "244537d8",
   "metadata": {
    "scrolled": true
   },
   "outputs": [],
   "source": [
    "#Frequency of Posts by Year-Month\n",
    "\n",
    "ym2 = before_war['date'].value_counts().sort_index() # get the counts for each year-month and sort them\n",
    "plt.figure(figsize=(20,6))\n",
    "sns.lineplot(x=ym2.index, y = ym2.values, color='green') # plot the line chart using seaborn\n",
    "plt.title('Distribution of Tweets Before War', fontsize=15)\n",
    "\n",
    "ym = war_and_after['date'].value_counts().sort_index() # get the counts for each year-month and sort them\n",
    "plt.figure(figsize=(20,6))\n",
    "sns.lineplot(x=ym.index, y = ym.values, color='green') # plot the line chart using seaborn\n",
    "plt.title('Year-Month distribution of tweets', fontsize=15)"
   ]
  },
  {
   "cell_type": "code",
   "execution_count": 16,
   "id": "322fd661",
   "metadata": {
    "scrolled": true
   },
   "outputs": [
    {
     "name": "stdout",
     "output_type": "stream",
     "text": [
      "(835142, 5000)\n"
     ]
    }
   ],
   "source": [
    "#Get TF-IDF of before_war\n",
    "#Convert text into matrix of token counts.\n",
    "before_war_vect = CountVectorizer(strip_accents = 'unicode',\n",
    "                                stop_words = 'english',\n",
    "                                lowercase = True,\n",
    "                                max_features=5000,\n",
    "                                token_pattern = r'\\b[a-zA-Z]{3,}\\b',\n",
    "                                max_df = 0.85,\n",
    "                                min_df = 5,\n",
    "                                ngram_range=(2,4))\n",
    "\n",
    "#Tokenize the text data and conver tot sparse matrix representation \n",
    "#(doc index, token index in vocab)  count of token in doc  \n",
    "before_war_tfidf = before_war_vect.fit_transform(before_war['cleaned_text'])\n",
    "print(before_war_tfidf.shape)"
   ]
  },
  {
   "cell_type": "code",
   "execution_count": 17,
   "id": "9355eaa3",
   "metadata": {
    "scrolled": true
   },
   "outputs": [
    {
     "name": "stdout",
     "output_type": "stream",
     "text": [
      "(8268526, 10000)\n"
     ]
    }
   ],
   "source": [
    "#Convert text into matrix of token counts.\n",
    "war_and_after_vect = CountVectorizer(strip_accents = 'unicode',\n",
    "                                stop_words = 'english',\n",
    "                                lowercase = True,\n",
    "                                max_features=10000,\n",
    "                                token_pattern = r'\\b[a-zA-Z]{3,}\\b',\n",
    "                                max_df = 0.95,\n",
    "                                min_df = 10,\n",
    "                                ngram_range=(2,4))\n",
    "#Tokenize the text data and convert to sparse matrix representation \n",
    "#(doc index, token index in vocab)  count of token in doc  \n",
    "war_and_after_tfidf = war_and_after_vect.fit_transform(war_and_after['cleaned_text'])\n",
    "print(war_and_after_tfidf.shape)"
   ]
  },
  {
   "cell_type": "code",
   "execution_count": 30,
   "id": "de5fad2a-d137-4500-a8f2-e0e27a80c108",
   "metadata": {
    "scrolled": true
   },
   "outputs": [
    {
     "name": "stdout",
     "output_type": "stream",
     "text": [
      "(835142, 5000)\n",
      "(8268526, 10000)\n"
     ]
    }
   ],
   "source": [
    "#pickle \n",
    "# with open('before_war_tfidf.pkl', 'wb') as f:\n",
    "#     pickle.dump(before_war_tfidf, f)\n",
    "    \n",
    "# with open('war_and_after_tfidf.pkl', 'wb') as f:\n",
    "#     pickle.dump(war_and_after_tfidf, f)\n"
   ]
  },
  {
   "cell_type": "code",
   "execution_count": 166,
   "id": "75b710cb-6de7-4599-bda1-792876866608",
   "metadata": {},
   "outputs": [
    {
     "data": {
      "image/png": "[encoded data removed]",
      "text/plain": [
       "<Figure size 720x432 with 1 Axes>"
      ]
     },
     "metadata": {
      "needs_background": "light"
     },
     "output_type": "display_data"
    }
   ],
   "source": [
    "#Most frequent words in before_war\n",
    "\n",
    "# Combine the counts of each token across all tweets\n",
    "token_counts_before_war = np.array(before_war_tfidf.sum(axis=0))[0]\n",
    "\n",
    "# Get indices of sorted token counts \n",
    "sorted_indices = np.argsort(token_counts)[::-1]\n",
    "\n",
    "# Get unique terms/token from extracted text (vocab)from CountVectorizer\n",
    "vocab_before_war = before_war_vect.get_feature_names()\n",
    "\n",
    "# Get the most frequent terms and their counts\n",
    "term_freq_before_war = [(vocab[i], token_counts[i]) for i in sorted_indices]\n",
    "\n",
    "# Convert the most frequent terms to a DataFrame for visualization\n",
    "most_frequent_df = pd.DataFrame(most_frequent_terms, columns=['Term', 'Count'])\n",
    "\n",
    "\n",
    "# Plot the most frequent terms\n",
    "plt.figure(figsize=(10, 6))\n",
    "sns.barplot(x='Count', y='Term', data=most_frequent_df.head(20))  # Adjust the number to display more or fewer terms\n",
    "plt.title('Top 20 Most Frequent Terms Before War')\n",
    "plt.xlabel('Count')\n",
    "plt.ylabel('Term')\n",
    "plt.show()\n"
   ]
  },
  {
   "cell_type": "code",
   "execution_count": null,
   "id": "a313d933",
   "metadata": {
    "scrolled": true
   },
   "outputs": [],
   "source": [
    "#Most frequent words in before_war\n",
    "\n",
    "# Combine the counts of each token across all tweets\n",
    "token_counts_before_war = np.array(war_and_after_tfidf.sum(axis=0))[0]\n",
    "\n",
    "# Get indices of sorted token counts \n",
    "sorted_indices = np.argsort(token_counts)[::-1]\n",
    "\n",
    "# Get unique terms/token from extracted text (vocab)from CountVectorizer\n",
    "vocab = war_and_after_vect.get_feature_names()\n",
    "\n",
    "# Get the most frequent terms and their counts\n",
    "term_freq_war_and_after = [(vocab[i], token_counts[i]) for i in sorted_indices]\n",
    "\n",
    "# Convert the most frequent terms to a DataFrame for visualization\n",
    "most_frequent_df = pd.DataFrame(most_frequent_terms, columns=['Term', 'Count'])\n",
    "\n",
    "\n",
    "# Plot the most frequent terms\n",
    "plt.figure(figsize=(10, 6))\n",
    "sns.barplot(x='Count', y='Term', data=most_frequent_df.head(20))  # Adjust the number to display more or fewer terms\n",
    "plt.title('Top 20 Most Frequent Terms During War')\n",
    "plt.xlabel('Count')\n",
    "plt.ylabel('Term')\n",
    "plt.show()\n"
   ]
  },
  {
   "cell_type": "code",
   "execution_count": null,
   "id": "8ce7e7c1",
   "metadata": {
    "scrolled": true
   },
   "outputs": [],
   "source": [
    "#LDA topic modeling on before_war\n",
    "\n",
    "\n",
    "#elbow method for optimal number of clusters--> research\n",
    "before_war_lda = LatentDirichletAllocation(n_components=10,\n",
    "                                   max_iter=200,\n",
    "                                   learning_method='online',\n",
    "                                   random_state = 0)\n",
    "\n",
    "\n",
    "before_war_lda.fit(before_war_tfidf)\n",
    "\n",
    "#LDA topic modeling on before_war\n",
    "before_war_lda2 = LatentDirichletAllocation(n_components=6,\n",
    "                                   max_iter=200,\n",
    "                                   learning_method='online',\n",
    "                                   random_state = 0)\n",
    "before_war_lda2.fit(before_war_tfidf)"
   ]
  },
  {
   "cell_type": "code",
   "execution_count": 50,
   "id": "ad6089f8-9d22-4a7c-b6be-268bc5b798a4",
   "metadata": {},
   "outputs": [
    {
     "data": {
      "text/plain": [
       "LatentDirichletAllocation(learning_method='online', max_iter=200,\n",
       "                          n_components=6, random_state=0)"
      ]
     },
     "execution_count": 50,
     "metadata": {},
     "output_type": "execute_result"
    }
   ],
   "source": []
  },
  {
   "cell_type": "code",
   "execution_count": 119,
   "id": "d5b01179-16ac-4248-a36c-1a6d993a690d",
   "metadata": {},
   "outputs": [],
   "source": [
    "#Pickle before_war LDAs\n",
    "# with open('before_war_lda.pkl', 'wb') as f:\n",
    "#     pickle.dump(before_war_lda, f)\n",
    "# with open('before_war_lda2.pkl', 'wb') as f:\n",
    "#     pickle.dump(before_war_lda2, f)\n",
    "\n",
    "#Pickle war_and_after LDA\n",
    "# with open('before_war_lda.pkl', 'wb') as f:\n",
    "#     pickle.dump(before_war_lda, f)\n",
    "# with open('before_war_lda2.pkl', 'wb') as f:\n",
    "#     pickle.dump(before_war_lda2, f)\n",
    "\n",
    "\n",
    "#Pickle war_and_after LDAs\n",
    "# with open('war_and_after_lda2.pkl', 'wb') as f:\n",
    "#     pickle.dump(war_and_after_lda2, f)\n",
    "# with open('war_and_after_lda.pkl', 'wb') as f:\n",
    "#     pickle.dump(war_and_after_lda, f)\n",
    "\n",
    "# #Read pickled after_war_LDAs\n",
    "# # with open('war_and_after_lda.pkl', 'rb') as f:\n",
    "# #     war_and_after_lda = pickle.load(f)\n",
    "with open('war_and_after_lda2.pkl', 'rb') as f:\n",
    "    war_and_after_lda2 = pickle.load(f)\n",
    "\n",
    "\n",
    "#Read pickled vects\n",
    "# with open('before_war_tfidf.pkl', 'rb') as f:\n",
    "#     before_war_tfidf = pickle.load(f)\n",
    "#     print(before_war_tfidf.shape)\n",
    "# with open('war_and_after_tfidf.pkl', 'rb') as f:\n",
    "#     war_and_after_tfidf = pickle.load(f)\n",
    "#     print(war_and_after_tfidf.shape)"
   ]
  },
  {
   "cell_type": "code",
   "execution_count": 161,
   "id": "1abe137a",
   "metadata": {},
   "outputs": [
    {
     "name": "stdout",
     "output_type": "stream",
     "text": [
      "Topic #0:\n",
      "twitter com | eastern ukraine | russian troop | troop eastern ukraine | troop ukrainian | separatist region | russian border | ukrainian border | russian army | border russia\n",
      "Topic #1:\n",
      "vladimir putin | russian president | president vladimir | president vladimir putin | russian president vladimir | russian president vladimir putin | russian military | com news | putin order | region ukraine\n",
      "Topic #2:\n",
      "russian troop | ukraine border | russian soldier | border russian | troop near ukraine | president putin | ukraine nato | russian tank | russian troop near ukraine | military force\n",
      "Topic #3:\n",
      "russian troop | troop border | russian troop border | border ukraine | sending troop | president biden | troop border ukraine | com world | say russian | russian aggression\n",
      "Topic #4:\n",
      "russian troop | troop enter | russian troop enter | thousand russian | troop enter ukraine | russian troop enter ukraine | thousand russian troop | border ukraine | putin order russian troop | send russian troop\n",
      "Topic #5:\n",
      "russian invasion | troop eastern | invasion ukraine | ukrainian border | russian invasion ukraine | invade ukraine | troop donbas | enter ukraine | eastern europe | troop entered\n",
      "Topic #6:\n",
      "russian troop | troop ukraine | russian troop ukraine | ukraine border | ukraine russian | troop ukraine border | russian troop ukraine border | sanction russian | send troop | troop russian\n",
      "Topic #7:\n",
      "joe biden | russian troop | ukraine border | southern border | president joe | president joe biden | sanction russia | united state | buildup ukraine | buildup ukraine border\n",
      "Topic #8:\n",
      "russian troop | russian border | ukraine russia | com article | border ukraine | nato troop | wsj com | russia border | troop moved | wsj com article\n",
      "Topic #9:\n",
      "near ukraine | russian troop | ukraine border | near border | russian force | near ukraine border | donetsk luhansk | near border ukraine | troop near | border ukraine\n"
     ]
    }
   ],
   "source": [
    "#get top 10 words from the 10 clusters\n",
    "n_top_words = 10\n",
    "tf_feature_names = before_war_vect.get_feature_names()\n",
    "\n",
    "topics = dict()\n",
    "for topic_idx, topic in enumerate(before_war_lda.components_):\n",
    "    topics[topic_idx] = [tf_feature_names[i] for i in topic.argsort()[:-n_top_words - 1:-1]]\n",
    "    print(\"Topic #%d:\" % topic_idx)\n",
    "    print(\" | \".join([tf_feature_names[i] for i in topic.argsort()[:-n_top_words - 1:-1]]))\n"
   ]
  },
  {
   "cell_type": "code",
   "execution_count": 201,
   "id": "eee7a707-5f66-4561-a10d-84744c4f84f2",
   "metadata": {
    "scrolled": true
   },
   "outputs": [],
   "source": [
    "#get topic-term distribution matrix from LDA:\n",
    "before_war_topic_term = before_war_lda.components_\n",
    "#get topic-document distribution matrix. Each row=document, column = topic, entry= prob of document belonging to topic\n",
    "before_war_doc_topic_dist = before_war_lda.transform(before_war_tfidf)\n",
    "#get document lengths (list or array containing lengths of each document in corpus)\n",
    "before_war_doc_lengths = np.array(before_war_tfidf.sum(axis=1)).squeeze()\n",
    "#combine the counts of each token across all tweets\n",
    "before_war_token_counts = np.array(before_war_tfidf.sum(axis=0))[0]\n",
    "#get unique terms/token from extracted text (vocab)from CountVectorizer\n",
    "before_war_vocab = before_war_vect.get_feature_names()\n",
    "\n",
    "\n",
    "#tokenize each document in 'cleaned_text'\n",
    "# tokenized_documents = [document.split() for document in before_war['cleaned_text']]\n",
    "# dictionary = Dictionary(tokenized_documents)\n",
    "# dictionary.filter_extremes(no_below=10, no_above=0.95)\n",
    "# #convert prepcoressed content into bag of words format\n",
    "# corpora = [dictionary.doc2bow(doc) for doc in tokenized_documents]\n",
    "\n",
    "#Pickle each object\n",
    "# with open('before_war_topic_term.pkl', 'wb') as f:\n",
    "#     pickle.dump(before_war_topic_term, f)\n",
    "# with open('before_war_doc_topic_dist.pkl', 'wb') as f:\n",
    "#     pickle.dump(before_war_doc_topic_dist, f)\n",
    "    \n",
    "# with open('before_war_doc_lengths.pkl', 'wb') as f:\n",
    "#     pickle.dump(before_war_doc_lengths, f)\n",
    "    \n",
    "# with open('before_war_token_counts.pkl', 'wb') as f:\n",
    "#     pickle.dump(before_war_token_counts, f)\n",
    "    \n",
    "# with open('before_war_vocab.pkl', 'wb') as f:\n",
    "#     pickle.dump(before_war_vocab, f)\n",
    "\n",
    "\n",
    "# with open('before_war_topic_term.pkl', 'rb') as f:\n",
    "#     before_war_topic_term=pickle.load(f)\n",
    "    \n",
    "# with open('before_war_doc_topic_dist.pkl', 'rb') as f:\n",
    "#     before_war_doc_topic_dist=pickle.load(f)\n",
    "\n",
    "# with open('before_war_doc_lengths.pkl', 'rb') as f:\n",
    "#     before_war_doc_lengths=pickle.load(f)\n",
    "    \n",
    "# with open('before_war_token_counts.pkl', 'rb') as f:\n",
    "#     before_war_token_counts=pickle.load(f)\n",
    "    \n",
    "# with open('before_war_vocab.pkl', 'rb') as f:\n",
    "#    before_war_vocab=pickle.load(f)"
   ]
  },
  {
   "cell_type": "code",
   "execution_count": 227,
   "id": "7c659d6b-2b6f-4cf0-b56c-b81411e87647",
   "metadata": {
    "scrolled": true
   },
   "outputs": [
    {
     "name": "stdout",
     "output_type": "stream",
     "text": [
      "Topic-term distribution matrix valid:  False\n",
      "Topic-term distribution matrix valid:  True\n",
      "before_war_topic_term:  (10, 5000)\n",
      "before_war_doc_topic_dist:  (835142, 10)\n"
     ]
    }
   ],
   "source": [
    "# before_war_topic_term = before_war_lda.components_\n",
    "# before_war_doc_topic_dist = before_war_lda.transform(before_war_tfidf)\n",
    "# before_war_doc_lengths = np.array(before_war_tfidf.sum(axis=1)).squeeze()\n",
    "# before_war_token_counts = np.array(before_war_tfidf.sum(axis=0))[0]\n",
    "# before_war_vocab = before_war_vect.get_feature_names()\n",
    "\n",
    "\n",
    "pyLDAvis.sklearn.prepare(before_war_topic_term, before_war_doc_topic_dist, before_war_doc_lengths, before_war_vocab, before_war_token_counts)\n",
    "# doc_topic_sum = np.sum(before_war_doc_topic_dist, axis=1)\n",
    "# doc_topic_valid = np.allclose(doc_topic_sum, 1.0)\n",
    "# print(\"Topic-term distribution matrix valid: \",doc_topic_valid )\n",
    "\n",
    "# print(\"before_war_topic_term: \", before_war_topic_term.shape)\n",
    "\n",
    "\n"
   ]
  },
  {
   "cell_type": "code",
   "execution_count": null,
   "id": "4f871eeb-7701-4b6c-8b67-33c75cbac286",
   "metadata": {
    "scrolled": true
   },
   "outputs": [],
   "source": [
    "\n",
    "\n",
    "#visualize intertopic distance map\n",
    "# pyLDAvis.sklearn.prepare(topic_term_before_war, before_war_tfidf, before_war_vect, vocab_before_war, term_freq_before_war)\n"
   ]
  },
  {
   "cell_type": "code",
   "execution_count": null,
   "id": "77817189-d184-4e78-bf22-17306497dc46",
   "metadata": {},
   "outputs": [],
   "source": [
    "pip show joblib"
   ]
  },
  {
   "cell_type": "code",
   "execution_count": 142,
   "id": "7fa41b3c-4808-4af4-8ccb-fcb0a9fe59b5",
   "metadata": {},
   "outputs": [
    {
     "name": "stdout",
     "output_type": "stream",
     "text": [
      "Topic #0:\n",
      "russia invade | twitter com | invasion ukraine | russian invasion | sending troop\n",
      "Topic #1:\n",
      "ukraine border | troop ukraine | russian troop | troop ukraine border | near ukraine\n",
      "Topic #2:\n",
      "united state | russian troop | world war | russia ukraine | ukraine nato\n",
      "Topic #3:\n",
      "war ukraine | ukraine russia | border ukraine | troop border | russian troop\n",
      "Topic #4:\n",
      "invade ukraine | russia invade ukraine | ukraine nato | join nato | ukraine join\n",
      "Topic #5:\n",
      "russia ukraine | war russia | com news | ukraine war | ukraine crisis\n"
     ]
    }
   ],
   "source": [
    "n_top_words = 5\n",
    "tf_feature_names = before_war_vect.get_feature_names()\n",
    "\n",
    "topics = dict()\n",
    "for topic_idx, topic in enumerate(before_war_lda2.components_):\n",
    "    topics[topic_idx] = [tf_feature_names[i] for i in topic.argsort()[:-n_top_words - 1:-1]]\n",
    "    print(\"Topic #%d:\" % topic_idx)\n",
    "    print(\" | \".join([tf_feature_names[i] for i in topic.argsort()[:-n_top_words - 1:-1]]))"
   ]
  },
  {
   "cell_type": "code",
   "execution_count": null,
   "id": "59d42cd4",
   "metadata": {
    "scrolled": true
   },
   "outputs": [],
   "source": [
    "#LDA topic modeling on war_and_after\n",
    "\n",
    "#10 topics\n",
    "# war_and_after_lda = LatentDirichletAllocation(n_components=10,\n",
    "#                                    max_iter=200,\n",
    "#                                    learning_method='online',\n",
    "#                                    random_state = 0)\n",
    "# war_and_after_lda.fit(war_and_after_tfidf)\n",
    "\n",
    "from tqdm import tqdm\n",
    "\n",
    "# # Initialize LDA model\n",
    "# war_and_after_lda = LatentDirichletAllocation(n_components=10,\n",
    "#                                                max_iter=200,\n",
    "#                                                learning_method='online',\n",
    "#                                                random_state=0)\n",
    "\n",
    "# # Initialize progress bar\n",
    "# progress_bar = tqdm(total=war_and_after_lda.max_iter)\n",
    "\n",
    "# # Fit LDA model with progress bar\n",
    "# for iteration in range(war_and_after_lda.max_iter):\n",
    "#     war_and_after_lda.partial_fit(war_and_after_tfidf)\n",
    "#     progress_bar.update(1)\n",
    "\n",
    "# # Close the progress bar\n",
    "# progress_bar.close()\n",
    "\n",
    "\n",
    "#For 6 topics\n",
    "# war_and_after_lda = LatentDirichletAllocation(n_components=6,\n",
    "#                                    max_iter=200,\n",
    "#                                    learning_method='online',\n",
    "#                                    random_state = 0)\n",
    "# war_and_after_lda.fit(war_and_after_tfidf)\n",
    "\n",
    "# Initialize LDA model\n",
    "war_and_after_lda2 = LatentDirichletAllocation(n_components=6,\n",
    "                                               max_iter=200,\n",
    "                                               learning_method='online',\n",
    "                                               random_state=0)\n",
    "\n",
    "# Initialize progress bar\n",
    "progress_bar = tqdm(total=war_and_after_lda2.max_iter)\n",
    "\n",
    "# Fit LDA model with progress bar\n",
    "for iteration in range(war_and_after_lda2.max_iter):\n",
    "    war_and_after_lda2.partial_fit(war_and_after_tfidf)\n",
    "    progress_bar.update(1)\n",
    "\n",
    "# Close the progress bar\n",
    "progress_bar.close()"
   ]
  },
  {
   "cell_type": "code",
   "execution_count": 121,
   "id": "bf5bb23a",
   "metadata": {},
   "outputs": [
    {
     "name": "stdout",
     "output_type": "stream",
     "text": [
      "After War 10 Clusters: \n",
      "Topic #0:\n",
      "war ukraine | ukraine russian | ukraine ukraineunderattack | people ukraine | ukrainerussianwar ukraine\n",
      "Topic #1:\n",
      "blue heart | support ukraine | yellow heart | russian soldier | heart yellow\n",
      "Topic #2:\n",
      "ukraine russia | russia ukraine | ukraine ukraine | folded hand | ukraine ukrainerussiawar\n",
      "Topic #3:\n",
      "ukraine need | russian troop | innocent civilian | ukrainian force | putin stop\n",
      "Topic #4:\n",
      "ukraine ukraine | exclamation mark | red exclamation | red exclamation mark | high voltage\n",
      "Topic #5:\n",
      "invasion ukraine | index pointing | backhand index pointing | backhand index | standwithukraine ukraine\n"
     ]
    }
   ],
   "source": [
    "n_top_words = 5\n",
    "tf_feature_names = war_and_after_vect.get_feature_names()\n",
    "print(\"After War 10 Clusters: \")\n",
    "topics = dict()\n",
    "for topic_idx, topic in enumerate(war_and_after_lda2.components_):\n",
    "    topics[topic_idx] = [tf_feature_names[i] for i in topic.argsort()[:-n_top_words - 1:-1]]\n",
    "    print(\"Topic #%d:\" % topic_idx)\n",
    "    print(\" | \".join([tf_feature_names[i] for i in topic.argsort()[:-n_top_words - 1:-1]]))"
   ]
  },
  {
   "cell_type": "code",
   "execution_count": 98,
   "id": "05c30a47-d95f-4694-bbf3-0922d835ea75",
   "metadata": {},
   "outputs": [],
   "source": [
    "#"
   ]
  },
  {
   "cell_type": "code",
   "execution_count": 106,
   "id": "eb6032b1-6ecb-4409-a26f-e9690e7ea480",
   "metadata": {},
   "outputs": [
    {
     "data": {
      "text/plain": [
       "LatentDirichletAllocation(learning_method='online', max_iter=200,\n",
       "                          n_components=5, random_state=0)"
      ]
     },
     "execution_count": 106,
     "metadata": {},
     "output_type": "execute_result"
    }
   ],
   "source": []
  },
  {
   "cell_type": "code",
   "execution_count": null,
   "id": "3121db28-59bd-419b-8d31-6c2d2582ef16",
   "metadata": {},
   "outputs": [],
   "source": []
  },
  {
   "cell_type": "code",
   "execution_count": null,
   "id": "4757997e-909a-4ebf-a382-e22af2c1dc85",
   "metadata": {},
   "outputs": [],
   "source": []
  }
 ],
 "metadata": {
  "kernelspec": {
   "display_name": "Python 3 (ipykernel)",
   "language": "python",
   "name": "python3"
  },
  "language_info": {
   "codemirror_mode": {
    "name": "ipython",
    "version": 3
   },
   "file_extension": ".py",
   "mimetype": "text/x-python",
   "name": "python",
   "nbconvert_exporter": "python",
   "pygments_lexer": "ipython3",
   "version": "3.9.7"
  }
 },
 "nbformat": 4,
 "nbformat_minor": 5
}
