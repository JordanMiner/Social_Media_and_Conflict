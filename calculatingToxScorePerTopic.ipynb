{
 "cells": [
  {
   "cell_type": "code",
   "execution_count": null,
   "id": "ec231f29-18bb-4309-b1ae-d3245f234eec",
   "metadata": {},
   "outputs": [],
   "source": [
    "!pip install pyLDAvis==3.4.1\n",
    "!pip install tdqm\n",
    "!pip install detoxify"
   ]
  },
  {
   "cell_type": "code",
   "execution_count": null,
   "id": "48cdfe17-c76d-458b-8568-4124aacc12cd",
   "metadata": {
    "scrolled": true
   },
   "outputs": [],
   "source": [
    "import pickle\n",
    "import numpy as np\n",
    "import pandas as pd\n",
    "from collections import Counter\n",
    "import os\n",
    "\n",
    "import seaborn as sns\n",
    "import matplotlib.pyplot as plt\n",
    "# import plotly.express as px\n",
    "# import plotly.figure_factory as ff\n",
    "\n",
    "import re\n",
    "\n",
    "from tqdm import tqdm\n",
    "\n",
    "#nltk\n",
    "import nltk\n",
    "nltk.download('stopwords')\n",
    "nltk.download('punkt')\n",
    "nltk.download('wordnet')\n",
    "from nltk.tokenize import word_tokenize\n",
    "from nltk.corpus import stopwords\n",
    "from nltk.stem import WordNetLemmatizer\n",
    "\n",
    "import sklearn\n",
    "from sklearn.model_selection import train_test_split\n",
    "from sklearn import metrics\n",
    "from sklearn.feature_extraction.text import TfidfVectorizer\n",
    "from sklearn.feature_extraction.text import CountVectorizer\n",
    "from sklearn.decomposition import LatentDirichletAllocation\n",
    "\n",
    "\n",
    "import pyLDAvis\n",
    "pyLDAvis.enable_notebook()\n",
    "\n",
    "from detoxify import Detoxify\n",
    "toxicity_model = Detoxify('original')"
   ]
  },
  {
   "cell_type": "code",
   "execution_count": 3,
   "id": "ee35802e-1798-40ba-9bcf-a16b197caa74",
   "metadata": {},
   "outputs": [],
   "source": [
    "with open('before_war_vect.pkl', 'rb') as f:\n",
    "    before_war_vect = pickle.load(f)\n",
    "with open('war_and_after_vect.pkl', 'rb') as f:\n",
    "    war_and_after_vect = pickle.load(f)\n",
    "\n",
    "with open('before_war_sample.pkl', 'rb') as f:\n",
    "    before_war_sample = pickle.load(f)\n",
    "with open('war_and_after_sample.pkl', 'rb') as f:\n",
    "    war_and_after_sample = pickle.load(f)\n",
    "\n",
    "with open('before_war_tfidf.pkl', 'rb') as f:\n",
    "    before_war_tfidf = pickle.load(f)\n",
    "with open('war_and_after_tfidf.pkl', 'rb') as f:\n",
    "    war_and_after_tfidf = pickle.load(f)\n",
    "\n",
    "#get the LDA models for before and after\n",
    "with open('before_war_lda.pkl', 'rb') as f:\n",
    "    before_war_lda = pickle.load(f)\n",
    "with open('war_and_after_lda.pkl', 'rb') as f:\n",
    "    war_and_after_lda = pickle.load(f)\n",
    "\n",
    "\n",
    "#get the LDA models for before and after\n",
    "with open('before_war_lda.pkl', 'rb') as f:\n",
    "    before_war_lda = pickle.load(f)\n",
    "with open('war_and_after_lda.pkl', 'rb') as f:\n",
    "    war_and_after_lda = pickle.load(f)\n",
    "\n",
    "\n",
    "with open('before_war_ngrams.pkl', 'rb') as f:\n",
    "    before_war_ngrams = pickle.load(f)\n",
    "\n",
    "with open('war_and_after_ngrams.pkl', 'rb') as f:\n",
    "    war_and_after_ngrams = pickle.load(f)\n",
    "\n",
    "with open('before_war_ngram_tox_dict.pkl', 'rb') as f:\n",
    "    before_war_ngram_tox_dict = pickle.load(f)\n",
    "\n",
    "with open('war_and_after_ngram_tox_dict.pkl', 'rb') as f:\n",
    "    war_and_after_ngram_tox_dict = pickle.load(f)"
   ]
  },
  {
   "cell_type": "code",
   "execution_count": 25,
   "id": "fc09036f-0f7f-454f-ac79-738a14d5e78b",
   "metadata": {
    "scrolled": true
   },
   "outputs": [],
   "source": [
    "#Below we get the sum of toxicity scores for each ngram in topic.\n",
    "before_war_topics_all_ngrams = dict()\n",
    "before_feature_names = before_war_vect.get_feature_names_out()\n",
    "for topic_idx, topic in enumerate(before_war_lda.components_):\n",
    "    before_war_topics_all_ngrams[topic_idx] = [before_feature_names[i] for i in topic.argsort()]\n",
    "\n",
    "after_war_topics_all_ngrams = dict()\n",
    "after_war_feature_names = war_and_after_vect.get_feature_names_out()\n",
    "for topic_idx, topic in enumerate(war_and_after_lda.components_):\n",
    "    after_war_topics_all_ngrams[topic_idx] = [after_war_feature_names[i] for i in topic.argsort()[::-1]]\n",
    "\n",
    "n_top_words = 20\n",
    "tf_feature_names = war_and_after_vect.get_feature_names_out()\n",
    "top_20_words = dict()\n",
    "for topic_idx, topic in enumerate(war_and_after_lda.components_):\n",
    "    top_20_words[topic_idx] = [tf_feature_names[i] for i in topic.argsort()[:-n_top_words - 1:-1]]\n",
    "\n",
    "\n",
    "#each toxicity_score in the values is no longer in list form\n",
    "# before_war_ngram_tox_dict = {ngram: scores[0] for ngram, scores in before_war_ngram_tox_dict.items()}\n",
    "# war_and_after_ngram_tox_dict = {ngram: scores[0] for ngram, scores in war_and_after_ngram_tox_dict.items()}\n",
    "\n"
   ]
  },
  {
   "cell_type": "code",
   "execution_count": 26,
   "id": "09519712-4e87-4177-9d09-286e4c1a4847",
   "metadata": {
    "scrolled": true
   },
   "outputs": [
    {
     "name": "stdout",
     "output_type": "stream",
     "text": [
      "152.05053390050307\n",
      "152.05053390050307\n",
      "152.05053390050307\n",
      "152.05053390050307\n",
      "152.05053390050307\n",
      "152.05053390050307\n",
      "152.05053390050307\n",
      "152.05053390050307\n",
      "152.05053390050307\n",
      "{0: 0.030410106780100615, 1: 0.030410106780100615, 2: 0.030410106780100615, 3: 0.030410106780100615, 4: 0.030410106780100615, 5: 0.030410106780100615, 6: 0.030410106780100615, 7: 0.030410106780100615, 8: 0.030410106780100615}\n"
     ]
    }
   ],
   "source": [
    "#simply extracting the avg alone.\n",
    "topic_toxicity_totals = {}\n",
    "topic_ngram_counts = {}\n",
    "# Calculate total toxicity scores and ngram counts for each topic\n",
    "for topic, ngrams in before_war_topics_all_ngrams.items():\n",
    "    total_toxicity = sum(before_war_ngram_tox_dict.get(ngram, 0) for ngram in ngrams)\n",
    "    print(total_toxicity)\n",
    "    ngram_count = len(ngrams)\n",
    "    topic_toxicity_totals[topic] = total_toxicity\n",
    "    topic_ngram_counts[topic] = ngram_count\n",
    "\n",
    "#calc avg\n",
    "average_toxicity_scores = {}\n",
    "for topic in before_war_topics_all_ngrams:\n",
    "    average_toxicity_scores[topic] = topic_toxicity_totals[topic] / topic_ngram_counts[topic]\n",
    "\n",
    "print(average_toxicity_scores)\n",
    "\n",
    "\n",
    "\n"
   ]
  },
  {
   "cell_type": "code",
   "execution_count": 13,
   "id": "7e794f39-1c17-4a92-9567-8cdda3a81c01",
   "metadata": {},
   "outputs": [
    {
     "data": {
      "text/plain": [
       "{0: {'Min': 0.00061138545,\n",
       "  'Max': 0.914878,\n",
       "  'Average': 0.038146144982564745,\n",
       "  'Total': 152.05053390050307},\n",
       " 1: {'Min': 0.00061138545,\n",
       "  'Max': 0.914878,\n",
       "  'Average': 0.038146144982564745,\n",
       "  'Total': 152.05053390050307},\n",
       " 2: {'Min': 0.00061138545,\n",
       "  'Max': 0.914878,\n",
       "  'Average': 0.038146144982564745,\n",
       "  'Total': 152.05053390050307},\n",
       " 3: {'Min': 0.00061138545,\n",
       "  'Max': 0.914878,\n",
       "  'Average': 0.038146144982564745,\n",
       "  'Total': 152.05053390050307},\n",
       " 4: {'Min': 0.00061138545,\n",
       "  'Max': 0.914878,\n",
       "  'Average': 0.038146144982564745,\n",
       "  'Total': 152.05053390050307},\n",
       " 5: {'Min': 0.00061138545,\n",
       "  'Max': 0.914878,\n",
       "  'Average': 0.038146144982564745,\n",
       "  'Total': 152.05053390050307},\n",
       " 6: {'Min': 0.00061138545,\n",
       "  'Max': 0.914878,\n",
       "  'Average': 0.038146144982564745,\n",
       "  'Total': 152.05053390050307},\n",
       " 7: {'Min': 0.00061138545,\n",
       "  'Max': 0.914878,\n",
       "  'Average': 0.038146144982564745,\n",
       "  'Total': 152.05053390050307},\n",
       " 8: {'Min': 0.00061138545,\n",
       "  'Max': 0.914878,\n",
       "  'Average': 0.038146144982564745,\n",
       "  'Total': 152.05053390050307}}"
      ]
     },
     "execution_count": 13,
     "metadata": {},
     "output_type": "execute_result"
    }
   ],
   "source": [
    "topic_toxicity_stats = {}\n",
    "\n",
    "#get each topic and its ngrams\n",
    "for topic_idx, ngram_per_topic in before_war_topics_all_ngrams.items():\n",
    "    # Initialize variables to store the statistics for the current topic\n",
    "    total_toxicity = 0\n",
    "    min_toxicity = float('inf')\n",
    "    max_toxicity = float('-inf')\n",
    "    ngram_toxicity_scores = []\n",
    "\n",
    "    for ngram in ngram_per_topic:\n",
    "        if ngram in before_war_ngram_tox_dict:\n",
    "            toxicity_score = before_war_ngram_tox_dict[ngram][0]\n",
    "            \n",
    "            #\n",
    "            total_toxicity += toxicity_score\n",
    "            \n",
    "            #update the min and max toxicity scores\n",
    "            min_toxicity = min(min_toxicity, toxicity_score)\n",
    "            max_toxicity = max(max_toxicity, toxicity_score)\n",
    "            \n",
    "            #append the score to the list for calculating the average later\n",
    "            ngram_toxicity_scores.append(toxicity_score)\n",
    "    \n",
    "    #calc avg\n",
    "    avg_toxicity = sum(ngram_toxicity_scores) / len(ngram_toxicity_scores) if ngram_toxicity_scores else 0\n",
    "    \n",
    "    #store in dict\n",
    "    topic_toxicity_stats[topic_idx] = {\n",
    "        'Min': min_toxicity,\n",
    "        'Max': max_toxicity,\n",
    "        'Average': avg_toxicity,\n",
    "        'Total': total_toxicity\n",
    "    }\n",
    "\n",
    "topic_toxicity_stats"
   ]
  },
  {
   "cell_type": "code",
   "execution_count": 17,
   "id": "db814d52-d44d-47d2-b4b9-247b82f12565",
   "metadata": {},
   "outputs": [
    {
     "data": {
      "text/plain": [
       "{0: {'min_toxicity': 0.00061138545,\n",
       "  'max_toxicity': 0.914878,\n",
       "  'average_toxicity': 0.038146144982564745,\n",
       "  'total_toxicity': 152.05053390050307,\n",
       "  'ngram_count': 3986},\n",
       " 1: {'min_toxicity': 0.00061138545,\n",
       "  'max_toxicity': 0.914878,\n",
       "  'average_toxicity': 0.038146144982564745,\n",
       "  'total_toxicity': 152.05053390050307,\n",
       "  'ngram_count': 3986},\n",
       " 2: {'min_toxicity': 0.00061138545,\n",
       "  'max_toxicity': 0.914878,\n",
       "  'average_toxicity': 0.038146144982564745,\n",
       "  'total_toxicity': 152.05053390050307,\n",
       "  'ngram_count': 3986},\n",
       " 3: {'min_toxicity': 0.00061138545,\n",
       "  'max_toxicity': 0.914878,\n",
       "  'average_toxicity': 0.038146144982564745,\n",
       "  'total_toxicity': 152.05053390050307,\n",
       "  'ngram_count': 3986},\n",
       " 4: {'min_toxicity': 0.00061138545,\n",
       "  'max_toxicity': 0.914878,\n",
       "  'average_toxicity': 0.038146144982564745,\n",
       "  'total_toxicity': 152.05053390050307,\n",
       "  'ngram_count': 3986},\n",
       " 5: {'min_toxicity': 0.00061138545,\n",
       "  'max_toxicity': 0.914878,\n",
       "  'average_toxicity': 0.038146144982564745,\n",
       "  'total_toxicity': 152.05053390050307,\n",
       "  'ngram_count': 3986},\n",
       " 6: {'min_toxicity': 0.00061138545,\n",
       "  'max_toxicity': 0.914878,\n",
       "  'average_toxicity': 0.038146144982564745,\n",
       "  'total_toxicity': 152.05053390050307,\n",
       "  'ngram_count': 3986},\n",
       " 7: {'min_toxicity': 0.00061138545,\n",
       "  'max_toxicity': 0.914878,\n",
       "  'average_toxicity': 0.038146144982564745,\n",
       "  'total_toxicity': 152.05053390050307,\n",
       "  'ngram_count': 3986},\n",
       " 8: {'min_toxicity': 0.00061138545,\n",
       "  'max_toxicity': 0.914878,\n",
       "  'average_toxicity': 0.038146144982564745,\n",
       "  'total_toxicity': 152.05053390050307,\n",
       "  'ngram_count': 3986}}"
      ]
     },
     "execution_count": 17,
     "metadata": {},
     "output_type": "execute_result"
    }
   ],
   "source": [
    "def calculate_cluster_toxicity_stats(topic_ngrams, ngram_toxicity_scores):\n",
    "    \n",
    "    total_toxicity = 0\n",
    "    total_ngram_count = 0\n",
    "    min_toxicity = float('inf')  # Use 'inf' for comparison in min calculation\n",
    "    max_toxicity = float('-inf') # Use '-inf' for comparison in max calculation\n",
    "\n",
    "\n",
    "    #see each ngram in the list of ngrams for each topic\n",
    "    for ngram in topic_ngrams:\n",
    "        #print(ngram)\n",
    "        if ngram in ngram_toxicity_scores:\n",
    "            # Retrieve the list of toxicity scores for this ngram\n",
    "            score = ngram_toxicity_scores[ngram]\n",
    "            # print(score)\n",
    "            \n",
    "            #update vals\n",
    "            min_toxicity = min(min_toxicity, score)\n",
    "            max_toxicity = max(max_toxicity, score)\n",
    "            total_toxicity += score\n",
    "            total_ngram_count += 1\n",
    "            \n",
    "    # Calculate average toxicity, guard against division by zero\n",
    "    average_toxicity = (total_toxicity / total_ngram_count) if total_ngram_count > 0 else 0\n",
    "\n",
    "    # Return the calculated statistics\n",
    "    return min_toxicity, max_toxicity, average_toxicity, total_toxicity, total_ngram_count\n",
    "\n",
    "\n",
    "before_war_ngram_tox_dict = {ngram: scores[0] for ngram, scores in before_war_ngram_tox_dict.items()}\n",
    "war_and_after_ngram_tox_dict = {ngram: scores[0] for ngram, scores in war_and_after_ngram_tox_dict.items()}\n",
    "\n",
    "before_war_cluster_stats = {}\n",
    "for topic_idx, ngrams in before_war_topics_all_ngrams.items():\n",
    "    min_toxicity, max_toxicity, average_toxicity, total_toxicity, ngram_count = calculate_cluster_toxicity_stats(ngrams, before_war_ngram_tox_dict)\n",
    "    before_war_cluster_stats[topic_idx] = {\n",
    "        'min_toxicity': min_toxicity,\n",
    "        'max_toxicity': max_toxicity,\n",
    "        'average_toxicity': average_toxicity,\n",
    "        'total_toxicity': total_toxicity,\n",
    "        'ngram_count': ngram_count\n",
    "    }\n",
    "\n",
    "# #iterate over each cluster in war_and_after to get ngrams per topic\n",
    "# war_and_after_cluster_stats = {}\n",
    "# for topic_idx, ngrams in after_war_topics_all_ngrams.items():\n",
    "#     min_toxicity, max_toxicity, average_toxicity, total_toxicity, ngram_count = calculate_cluster_toxicity_stats(ngrams, war_and_after_ngram_tox_dict)\n",
    "#     war_and_after_cluster_stats[topic_idx] = {\n",
    "#         'min_toxicity': min_toxicity,\n",
    "#         'max_toxicity': max_toxicity,\n",
    "#         'average_toxicity': average_toxicity,\n",
    "#         'total_toxicity': total_toxicity,\n",
    "#         'ngram_count': ngram_count\n",
    "#     }\n",
    "\n",
    "before_war_cluster_stats"
   ]
  },
  {
   "cell_type": "code",
   "execution_count": 23,
   "id": "48161d26-b595-4f27-b9c4-eff293180702",
   "metadata": {
    "scrolled": true
   },
   "outputs": [
    {
     "data": {
      "text/plain": [
       "{0: {'min_toxicity': 0.0008313717,\n",
       "  'max_toxicity': 0.26673582,\n",
       "  'average_toxicity': 0.019712115448783152,\n",
       "  'total_toxicity': 0.39424230897566304,\n",
       "  'ngram_count': 20},\n",
       " 1: {'min_toxicity': 0.0021828453,\n",
       "  'max_toxicity': 0.46398565,\n",
       "  'average_toxicity': 0.11278403794858605,\n",
       "  'total_toxicity': 2.255680758971721,\n",
       "  'ngram_count': 20},\n",
       " 2: {'min_toxicity': 0.0028399767,\n",
       "  'max_toxicity': 0.47167248,\n",
       "  'average_toxicity': 0.1967137756046692,\n",
       "  'total_toxicity': 3.737561736488715,\n",
       "  'ngram_count': 19},\n",
       " 3: {'min_toxicity': 0.00092927157,\n",
       "  'max_toxicity': 0.70130354,\n",
       "  'average_toxicity': 0.1755162662768271,\n",
       "  'total_toxicity': 3.5103253255365416,\n",
       "  'ngram_count': 20},\n",
       " 4: {'min_toxicity': 0.00076355354,\n",
       "  'max_toxicity': 0.26673582,\n",
       "  'average_toxicity': 0.037319722899701445,\n",
       "  'total_toxicity': 0.7463944579940289,\n",
       "  'ngram_count': 20},\n",
       " 5: {'min_toxicity': 0.00077666633,\n",
       "  'max_toxicity': 0.46807468,\n",
       "  'average_toxicity': 0.14356589554809035,\n",
       "  'total_toxicity': 2.8713179109618068,\n",
       "  'ngram_count': 20},\n",
       " 6: {'min_toxicity': 0.00065157894,\n",
       "  'max_toxicity': 0.7897261,\n",
       "  'average_toxicity': 0.07249186504923273,\n",
       "  'total_toxicity': 1.4498373009846546,\n",
       "  'ngram_count': 20},\n",
       " 7: {'min_toxicity': 0.000792384,\n",
       "  'max_toxicity': 0.37555477,\n",
       "  'average_toxicity': 0.05467246184998657,\n",
       "  'total_toxicity': 1.0934492369997315,\n",
       "  'ngram_count': 20},\n",
       " 8: {'min_toxicity': 0.023844322,\n",
       "  'max_toxicity': 0.66613716,\n",
       "  'average_toxicity': 0.20547226928174495,\n",
       "  'total_toxicity': 4.109445385634899,\n",
       "  'ngram_count': 20}}"
      ]
     },
     "execution_count": 23,
     "metadata": {},
     "output_type": "execute_result"
    }
   ],
   "source": [
    "top_20_stats = {}\n",
    "for topic, ngrams in top_20_words.items():\n",
    "    min_toxicity, max_toxicity, average_toxicity, total_toxicity, ngram_count = calculate_cluster_toxicity_stats(ngrams, war_and_after_ngram_tox_dict)\n",
    "    top_20_stats[topic] = {\n",
    "        'min_toxicity': min_toxicity,\n",
    "        'max_toxicity': max_toxicity,\n",
    "        'average_toxicity': average_toxicity,\n",
    "        'total_toxicity': total_toxicity,\n",
    "        'ngram_count': ngram_count\n",
    "    }\n",
    "    \n",
    "top_20_stats\n"
   ]
  },
  {
   "cell_type": "code",
   "execution_count": null,
   "id": "5581dcee-d658-41fb-b0d0-b2d462d23132",
   "metadata": {
    "scrolled": true
   },
   "outputs": [],
   "source": [
    "# with open('before_war_cluster_stats.pkl', 'wb') as f:\n",
    "#      pickle.dump(before_war_cluster_stats, f)\n",
    "# with open('war_and_after_cluster_stats.pkl', 'wb') as f:\n",
    "#      pickle.dump(after_war_cluster_stats, f)"
   ]
  },
  {
   "cell_type": "markdown",
   "id": "a680aafd-a15c-4f73-b5bf-bd00ec17b2af",
   "metadata": {},
   "source": [
    "# Experiment with obtaining toxicity scores for each document."
   ]
  },
  {
   "cell_type": "code",
   "execution_count": null,
   "id": "a79e5b4e-e714-4d4a-97fd-055fc51f469f",
   "metadata": {},
   "outputs": [],
   "source": [
    "!pip install detoxify\n"
   ]
  },
  {
   "cell_type": "code",
   "execution_count": 63,
   "id": "077cbcc3-6830-4064-81ff-cbe737830a78",
   "metadata": {},
   "outputs": [],
   "source": [
    "with open('before_war_vect.pkl', 'rb') as f:\n",
    "    brfore_war_vect = pickle.load(f)\n",
    "with open('war_and_after_vect.pkl', 'rb') as f:\n",
    "    war_and_after_vect = pickle.load(f)\n",
    "\n",
    "with open('before_war_sample.pkl', 'rb') as f:\n",
    "    before_war_sample = pickle.load(f)\n",
    "with open('war_and_after_sample.pkl', 'rb') as f:\n",
    "    war_and_after_sample = pickle.load(f)\n",
    "\n",
    "with open('before_war_ngram_tox_dict.pkl', 'rb') as f:\n",
    "    before_war_ngram_tox_dict = pickle.load(f)\n",
    "with open('war_and_after_ngram_tox_dict.pkl', 'rb') as f:\n",
    "    war_and_after_ngram_tox_dict = pickle.load(f)\n",
    "\n",
    "\n",
    "with open('before_war_tfidf.pkl', 'rb') as f:\n",
    "    before_war_tfidf = pickle.load(f)\n",
    "with open('war_and_after_tfidf.pkl', 'rb') as f:\n",
    "    war_and_after_tfidf = pickle.load(f)\n",
    "\n",
    "with open('before_war_ngrams.pkl', 'rb') as f:\n",
    "    before_war_ngrams = pickle.load(f)\n",
    "with open('war_and_after_ngrams.pkl', 'rb') as f:\n",
    "    war_and_after_ngrams = pickle.load(f)"
   ]
  },
  {
   "cell_type": "code",
   "execution_count": 47,
   "id": "4bbb7dbf-23c3-42ab-98ab-33df4d63a8ac",
   "metadata": {},
   "outputs": [],
   "source": [
    "import detoxify\n",
    "detox = detoxify.Detoxify('original')"
   ]
  },
  {
   "cell_type": "code",
   "execution_count": 64,
   "id": "56d3c5a0-73c0-40b3-a1f7-248476b9b4ed",
   "metadata": {
    "scrolled": true
   },
   "outputs": [],
   "source": [
    "before_war_ngrams_matrix = before_war_vect.fit_transform(before_war_sample['cleaned_text'])\n",
    "\n",
    "war_and_after_ngrams_matrix = war_and_after_vect.fit_transform(war_and_after_sample['cleaned_text'])\n"
   ]
  },
  {
   "cell_type": "code",
   "execution_count": 68,
   "id": "5c5403bb-e3ef-4c8d-9e6e-8b195c76dfc7",
   "metadata": {},
   "outputs": [],
   "source": [
    "before_war_ngram_tox_dict = {ngram: scores[0] for ngram, scores in before_war_ngram_tox_dict.items()}\n",
    "war_and_after_ngram_tox_dict = {ngram: scores[0] for ngram, scores in war_and_after_ngram_tox_dict.items()}"
   ]
  },
  {
   "cell_type": "code",
   "execution_count": 69,
   "id": "d5391b05-004a-4dbf-82a4-740cbf696b76",
   "metadata": {},
   "outputs": [],
   "source": [
    "''''\n",
    "Function calculates the document-level toxicity score for each document. This is done by taking into account the tf-idf representation of the documents, the dictionary mapping ngrams to toxicity scores, and the names of the features as extracted by the tf-idf vectorizer. \n",
    "\n",
    "It uses the pre-existing TF-IDF matrix (before_war_tfidf and war_and_after_tfidf matrix) and the feature names to identify the ngrams in each document and their TF-IDF score. \n",
    "\n",
    "Overall it assess the weighted average toxicity of each document by considering both the presence and importance (as indicated by the TF-IDF tmatrix) of toxic ngrams within each document. \n",
    "'''\n",
    "def calculate_doc_level_toxicity(tfidf_matrix, feature_names, ngram_toxicity_dict):\n",
    "    #contains the doc scores\n",
    "    doc_toxicity_scores = []\n",
    "\n",
    "    #convert tfidf matrix to dense format so we can carry out operations on individual elements. \n",
    "    #https://en.ittrip.xyz/python/python-matrix-operations\n",
    "    dense_tfidf = tfidf_matrix.todense()\n",
    "\n",
    "    #iterates over each document (row in dense TF-IDF matrix)\n",
    "    for doc_idx in range(dense_tfidf.shape[0]):\n",
    "        #for each doc in row, initialize\n",
    "        doc_row = dense_tfidf[doc_idx]\n",
    "        weighted_toxicity_scores = [] #stores the weighted toxicity scores of ngrams\n",
    "        weights = [] #corresponding tf-idf scores\n",
    "\n",
    "        #for each feature in the document\n",
    "        for feat_idx in range(dense_tfidf.shape[1]):\n",
    "            #retrieve ngram's name \"feature\"\n",
    "            feature = feature_names[feat_idx]\n",
    "            #retrieve the tf-idf score\n",
    "            tfidf_score = doc_row[0, feat_idx] \n",
    "            \n",
    "            #if ngram is present in document and ngram has a known toxicity score\n",
    "            if tfidf_score > 0 and feature in ngram_toxicity_dict:\n",
    "                #get score\n",
    "                toxicity_score = ngram_toxicity_dict[feature]\n",
    "                #calculate the weighted toxicity score by multplying tox_score * tfidf score in document\n",
    "                weighted_toxicity_scores.append(toxicity_score * tfidf_score)\n",
    "                #append the tf-idf score\n",
    "                weights.append(tfidf_score)\n",
    "\n",
    "        #after processign all ngrams the document\n",
    "        if weighted_toxicity_scores:\n",
    "            #calculates the sum of weighted toxicity scores/sum of tf-idf scores\n",
    "            #gives weighted avg \n",
    "            doc_toxicity = sum(weighted_toxicity_scores) / sum(weights)\n",
    "        else:\n",
    "            #if no ngrams are in document, set tox_score to 0\n",
    "            doc_toxicity = 0 \n",
    "\n",
    "        #store the calculated toxicity score for the doc in list\n",
    "        doc_toxicity_scores.append(doc_toxicity)\n",
    "\n",
    "    return np.array(doc_toxicity_scores)\n",
    "\n",
    "\n",
    "before_war_feature_names = before_war_vect.get_feature_names_out()\n",
    "before_war_doc_toxicity_scores = calculate_doc_level_toxicity(before_war_tfidf, before_war_feature_names, before_war_ngram_tox_dict)\n"
   ]
  },
  {
   "cell_type": "code",
   "execution_count": 72,
   "id": "141fb54d-27b2-42fc-800f-55bd0df2b688",
   "metadata": {},
   "outputs": [],
   "source": [
    "war_and_after_feature_names = war_and_after_vect.get_feature_names_out()\n",
    "war_and_after_doc_toxicity_scores = calculate_doc_level_toxicity(war_and_after_tfidf, war_and_after_feature_names, war_and_after_ngram_tox_dict)"
   ]
  },
  {
   "cell_type": "code",
   "execution_count": 73,
   "id": "114ebd0f-c95b-434c-b681-489839dd430e",
   "metadata": {},
   "outputs": [],
   "source": [
    "# with open('before_war_doc_toxicity_scores.pkl', 'wb') as f:\n",
    "#      pickle.dump(before_war_doc_toxicity_scores, f)\n",
    "with open('war_and_after_doc_toxicity_scores.pkl', 'wb') as f:\n",
    "     pickle.dump(war_and_after_doc_toxicity_scores, f)"
   ]
  },
  {
   "cell_type": "code",
   "execution_count": 77,
   "id": "dccbbfdf-549c-4ceb-b84c-9cfc3acf0a87",
   "metadata": {
    "scrolled": true
   },
   "outputs": [],
   "source": [
    "from sklearn.linear_model import LinearRegression\n",
    "\n",
    "x_train = before_war_tfidf\n",
    "y_train = before_war_doc_toxicity_scores\n",
    "\n",
    "model = LinearRegression()\n",
    "model.fit(x_train, y_train)\n",
    "\n",
    "x_test = war_and_after_tfidf\n",
    "predicted_tox_scores = model.predict(x_test)\n",
    "\n"
   ]
  },
  {
   "cell_type": "code",
   "execution_count": null,
   "id": "8f6059de-dc41-4e21-8de5-28242bb75da7",
   "metadata": {},
   "outputs": [],
   "source": [
    "print(len(predicted_tox"
   ]
  },
  {
   "cell_type": "code",
   "execution_count": 79,
   "id": "7f8bc5c7-f7d6-427a-af40-7d67a135776d",
   "metadata": {},
   "outputs": [
    {
     "name": "stdout",
     "output_type": "stream",
     "text": [
      "Mean Squared Error (MSE): 0.015069968252463206\n",
      "Mean Absolute Error (MAE): 0.0854973880676543\n",
      "R-squared (R2): -0.5485925739038491\n"
     ]
    }
   ],
   "source": [
    "from sklearn.metrics import mean_squared_error, mean_absolute_error, r2_score\n",
    "# after_war_toxicity_scores = list(war_and_after_ngram_tox_dict.values())\n",
    "\n",
    "# Calculate evaluation metrics\n",
    "mse = mean_squared_error(war_and_after_doc_toxicity_scores, predicted_tox_scores)\n",
    "mae = mean_absolute_error(war_and_after_doc_toxicity_scores, predicted_tox_scores)\n",
    "r2 = r2_score(war_and_after_doc_toxicity_scores, predicted_tox_scores)\n",
    "\n",
    "# Print evaluation metrics\n",
    "print(\"Mean Squared Error (MSE):\", mse)\n",
    "print(\"Mean Absolute Error (MAE):\", mae)\n",
    "print(\"R-squared (R2):\", r2)"
   ]
  },
  {
   "cell_type": "code",
   "execution_count": 87,
   "id": "ddcc6b7b-057f-413b-9f88-6185bcf73fdc",
   "metadata": {},
   "outputs": [
    {
     "data": {
      "image/png": "[encoded data removed]",
      "text/plain": [
       "<Figure size 720x576 with 1 Axes>"
      ]
     },
     "metadata": {
      "needs_background": "light"
     },
     "output_type": "display_data"
    }
   ],
   "source": [
    "# Assuming 'after_war_doc_toxicity_scores_predicted' are your model's predictions\n",
    "# and you have actual toxicity scores for 'after_war_documents' in 'after_war_doc_toxicity_scores_actual'\n",
    "plt.figure(figsize=(10, 8))\n",
    "plt.scatter(war_and_after_doc_toxicity_scores, predicted_tox_scores, alpha=0.5)\n",
    "plt.title('Predicted vs. Actual Toxicity Scores')\n",
    "plt.xlabel('Actual Scores')\n",
    "plt.ylabel('Predicted Scores')\n",
    "plt.plot([war_and_after_doc_toxicity_scores.min(), war_and_after_doc_toxicity_scores.max()], [war_and_after_doc_toxicity_scores.min(), war_and_after_doc_toxicity_scores.max()], 'k--', lw=4)\n",
    "plt.show()\n"
   ]
  },
  {
   "cell_type": "code",
   "execution_count": 85,
   "id": "b451a703-ec64-4156-af93-ad6f69f7cee4",
   "metadata": {},
   "outputs": [
    {
     "data": {
      "image/png": "[encoded data removed]",
      "text/plain": [
       "<Figure size 720x576 with 1 Axes>"
      ]
     },
     "metadata": {
      "needs_background": "light"
     },
     "output_type": "display_data"
    }
   ],
   "source": [
    "import matplotlib.pyplot as plt\n",
    "\n",
    "# Assuming 'model' is your trained LinearRegression model\n",
    "coefficients = model.coef_\n",
    "feature_importance = pd.Series(coefficients, index=before_war_feature_names)\n",
    "\n",
    "# Sort the features by absolute value of their coefficient\n",
    "sorted_features = feature_importance.abs().sort_values(ascending=False).head(20)\n",
    "\n",
    "# Plot\n",
    "plt.figure(figsize=(10, 8))\n",
    "sorted_features.plot(kind='bar')\n",
    "plt.title('Top 20 Features by Absolute Coefficient Value')\n",
    "plt.ylabel('Absolute Coefficient Value')\n",
    "plt.xlabel('Features (Ngrams)')\n",
    "plt.xticks(rotation=45, ha='right')\n",
    "plt.show()\n"
   ]
  },
  {
   "cell_type": "markdown",
   "id": "3f1047d9-004a-46f1-9701-ddcb1ac677a8",
   "metadata": {
    "jp-MarkdownHeadingCollapsed": true
   },
   "source": [
    "# Test Detoxify library Examples"
   ]
  },
  {
   "cell_type": "code",
   "execution_count": null,
   "id": "b4741ae8-4f4e-48b1-b8e5-c719d9f1abd3",
   "metadata": {
    "scrolled": true
   },
   "outputs": [],
   "source": [
    "pip install detoxify"
   ]
  },
  {
   "cell_type": "code",
   "execution_count": 10,
   "id": "84f14db4-9a93-4831-abc6-8d09a7b41fb6",
   "metadata": {},
   "outputs": [],
   "source": []
  },
  {
   "cell_type": "code",
   "execution_count": 6,
   "id": "b09b0340-9bb2-4ea7-8a34-a3bc8b4564e1",
   "metadata": {
    "scrolled": true
   },
   "outputs": [],
   "source": []
  },
  {
   "cell_type": "code",
   "execution_count": 7,
   "id": "f2c55b1b-329e-4bd6-93f5-036aa2afb4e0",
   "metadata": {},
   "outputs": [
    {
     "name": "stdout",
     "output_type": "stream",
     "text": [
      "test scores:  {'toxicity': 0.9841488, 'severe_toxicity': 0.012881926, 'obscene': 0.28888622, 'threat': 0.0023240657, 'insult': 0.83928835, 'identity_attack': 0.00809011}\n"
     ]
    }
   ],
   "source": [
    "test = \"shut up you are a liar\"\n",
    "test_scores = detox.predict(test)\n",
    "print(\"test scores: \", test_scores)"
   ]
  },
  {
   "cell_type": "code",
   "execution_count": 128,
   "id": "48ce369a-68f4-450f-9dd6-9d2b8942d7ff",
   "metadata": {},
   "outputs": [
    {
     "name": "stdout",
     "output_type": "stream",
     "text": [
      "  {'toxicity': 0.9015587, 'severe_toxicity': 0.10870536, 'obscene': 0.05740284, 'threat': 0.8577902, 'insult': 0.09809947, 'identity_attack': 0.11734569}\n"
     ]
    }
   ],
   "source": [
    "insult2 = \"they deserved to get attacked\"\n",
    "insult_score2 = detox.predict(insult2)\n",
    "print(\" \", insult_score2)"
   ]
  },
  {
   "cell_type": "code",
   "execution_count": 20,
   "id": "e908fbd0-3380-414a-b9c0-15601425a2d5",
   "metadata": {
    "collapsed": true,
    "jupyter": {
     "outputs_hidden": true
    },
    "scrolled": true
   },
   "outputs": [
    {
     "name": "stdout",
     "output_type": "stream",
     "text": [
      "Topic #1:\n",
      "border ukraine | troop border | twitter com | russian troop | troop border ukraine | ukraine crisis | news world | russia nato | nato ukraine | bbc news | want ukraine | nuclear war | russia troop | com news world | world eur | news world eur | russia invaded | weapon ukraine | nato troop | military build | cross border | surrounding ukraine | troop deployed | bbc news world | putin ukraine | foreign minister | com story | soviet union | ukraine need | russia troop border | bbc news world eur | news sky | russia putin | british troop | troop surrounding | threat russia | sky com | avoid war | news sky com | east ukraine | russia invaded ukraine | ukraine like | news sky com story | sky com story | annexed crimea | ukraine troop | ukrainian troop | russia china | baltic state | national security | border say | nord stream | military base | troop defend | ukraine country | troop surrounding ukraine | news ukraine | russian military build | like russia | country russia | ukraine georgia | bbc com | soldier border | bbc com news | troop cross | withdrawal russian | troop build | russian troop deployed | thousand troop border | crisis russia | russian troop surrounding | think ukraine | russian claim | separatist region | war twitter | war twitter com | withdrawal russian troop | build border | world new | russian troop surrounding ukraine | com news world eur | news world new | ukraine ukrainian | anti tank | war nato | military alliance | russian government | bbc com news world | invade taiwan | ukraine ukrainecrisis | story ukraine | ukraine threat | make ukraine | russia twitter | nato twitter | russia want ukraine | border attack | nato twitter com | russia buildup | russia twitter com\n",
      "Topic #2:\n",
      "invade ukraine | russia invade | russia invade ukraine | sending troop | say russia | russia russia | ukraine troop | troop russian | war russia | russian army | invade russia | russia doe | false flag | invaded ukraine | sending troop ukraine | american troop | troop invade | want invade | war europe | face tear | tear joy | face tear joy | think russia | white house | nato ally | combat troop | border amp | doe want | ukraine right | fear russia | troop invade ukraine | want invade ukraine | plan invade ukraine | moved troop | said russia | want russia | build ukraine | invade ukraine nato | build troop | border belarus | ukraine day | troop russian border | massed troop | troop poland | russian troop invade | number troop | make sense | ukraine think | build ukraine border | invade ukraine russia | pretext invade | know russia | ukraine time | doe invade | pro russian | russian people | nato say russia | russia massed | russia sending | russia want invade | russia threatening | combat troop ukraine | like ukraine | net news | state department | fight ukraine | ukraine world | fear russia invade | defense secretary | pretext invade ukraine | military build ukraine | believe russia | right russia | russia doe invade | western medium | foreign policy | saying russia | invade ukraine day | demand nato | say russia invade | fear russia invade ukraine | russia want invade ukraine | say plan | invade ukraine ukraine | russian troop invade ukraine | ukraine doe | invade ukraine troop | troop fight | ukraine sending | flag operation | military build ukraine border | ukraine western | ukraine face | army border | false flag operation | fear war | ukraine send | ally eastern | think russian | amid fear russia\n",
      "Topic #3:\n",
      "eastern europe | ukraine border | vladimir putin | want war | troop eastern | thousand troop | russia say | russian president | president vladimir | president vladimir putin | invading ukraine | war ukraine | going invade | say russian | russian president vladimir | russian president vladimir putin | troop mass | troop eastern europe | russia going | amassing troop | russian troop mass | buildup ukraine | member nato | nato say | say russian troop | nato membership | going invade ukraine | satellite image | buildup ukraine border | russian troop | massing troop | russia going invade | ukraine member | russia invading | putin say | troop equipment | military buildup | live update | say troop | russia going invade ukraine | planning invade | russian buildup | nato russian | added troop | threatening invade | russia invading ukraine | eastern flank | official say | ukraine member nato | skin tone | ukraine border despite | invade country | apnews com | russia continues | threat russian | apnews com article | stop war | europe nato | russia massing | russian military buildup | europe russia | nato eastern | russia added | possible russian | russia amassing | com nato | russia added troop | mass ukraine | border invade | arm ukraine | thousand troop ukraine | want war russia | military ukraine | russia massing troop | russia planning | border war | military buildup ukraine | mass ukraine border | ukraine youtu | protect border | eastern europe amid | europe ukraine | attack ukraine | ordered troop | russia amassing troop | amassing troop ukraine | troop high | europe russian | possible deployment | troop ukraine border despite | massing troop ukraine | light skin | troop high alert | light skin tone | troop mass ukraine | nato eastern flank | want war ukraine | territory ukraine | amassing troop ukraine border | border despite claim\n",
      "Topic #4:\n",
      "war ukraine | russian invasion | com news | invasion ukraine | united state | near border | russian invasion ukraine | ukraine war | ukraine nato | nato ally | ukraine putin | ukraine tension | near border ukraine | attack ukraine | troop nato | border ukraine | amid fear | troop belarus | fear russian | tension ukraine | com ukraine | military exercise | troop europe | heightened alert | civil war | biden administration | nato nato | amid ukraine | fear russian invasion | crisis ukraine | nato ukraine | news article | ukraine amid | russia attack | cyber attack | state nato | news russia | high alert | russia preparing | close ukraine | news com | new york | troop heightened | european country | amid fear russian | troop heightened alert | russia ukraine tension | nato stop | russia invasion | fear russian invasion ukraine | country nato | amid fear russian invasion | support nato | amid russia | united kingdom | ukraine eastern | united state nato | nato military | war ukraine nato | military presence | preparing invade | russian troop belarus | possible russian invasion | russia ukraine war | dailymail news | dailymail news article | additional troop | new york time | york time | putin know | prevent war | europe amid | poland ukraine | invasion russia | nato said | pulled troop | state russia | troop deployment | amid ukraine tension | ukraine china | nato doe | amid tension | crimea ukraine | economic sanction | news nation | response russian | org article | lloyd austin | neo nazi | com news nation | troop deployed | border region | state united | com event | twitter com event | close ukraine border | state ukraine | northern border | elite troop | russia usa\n",
      "Topic #5:\n",
      "russia ukraine | ukraine nato | war russia | russian military | border russia | russian troop border | world war | nato member | troop border | com article | joining nato | russia invades | com russia | russia ukraine border | ukraine joining | russian troop border ukraine | invades ukraine | war russia ukraine | ukraine joining nato | msn com | ukraine border russia | russia invades ukraine | russia amp | tension russia | wsj com | putin invade | ukraine biden | russia border | war nato | troop sent | wsj com article | ukraine invasion | nato putin | black sea | usa nato | amp ukraine | deploying troop | apple news | ukraine nato member | russia ukraine nato | ready invade | secretary general | nato want | nato usa | russian territory | ukraine conflict | nato secretary | russia said | ukraine stop | russia ukraine crisis | russia need | border biden | nuclear weapon | putin invade ukraine | buildup russian | nato secretary general | military troop | ukraine usa | sent ukraine | border country | threat war | russia right | response russia | russian troop buildup | troop ready | troop russia | nato border | buildup russian troop | fighter jet | attack russian | ukraine said | sovereign nation | russian ukrainian | conflict russia | eastern european | nato alliance | risk war | putin nato | border russia ukraine | businessinsider com | going ukraine | russia deployed | ukraine make | brink war | video russian | proxy war | ukraine sovereign | ukraine russia invades | ukraine crimea | amid rising | troop sent ukraine | putin war | russia border ukraine | troop going | pushing war | border youtu | rising tension | doe russia | war drum | border nato\n",
      "Topic #6:\n",
      "twitter com | troop ukraine | send troop | ukraine ukraine | nato troop | joe biden | ukraine border | nato russia | ukraine amp | russian aggression | ukraine twitter | ukraine twitter com | president joe | president joe biden | russian soldier | russia war | send troop ukraine | president biden | sending troop | pull troop | plan invade | nato troop ukraine | belarus ukraine | moving troop | support ukraine | border twitter | sanction russia | stand ukraine | border twitter com | putin troop | yahoo com | com politics | thinking face | news yahoo | news yahoo com | sends troop | biden say | biden said | troop weapon | putin russia | nato ally | belarus ukraine border | face rolling | help ukraine | warns russia | war putin | aggression ukraine | rolling eye | military force | face rolling eye | putting troop | russia claim | biden sending | pulling troop | russia plan | amp russia | nbcnews com | away ukraine | ukraine border twitter | nato send | ukraine border twitter com | pull troop ukraine | troop alert | think putin | nato need | troop amp | troop mass belarus | russian troop mass belarus | mass belarus | russian threat | crossing border | biden sending troop | troop away | biden putin | nato nation | russia pull troop | ukraine news | russia moving | ukraine president | ukraine nato russia | fight russia | ukraine fight | biden warns | poland romania | away border | security council | com biden | need war | white house | border largely | ukraine west | largely undefended | ukraine border largely | belarus ukraine border largely | mass belarus ukraine | troop mass belarus ukraine | mass belarus ukraine border | border largely undefended | ukraine border largely undefended | pull troop ukraine border\n",
      "Topic #7:\n",
      "russian troop | ukrainian border | eastern ukraine | russia troop | start war | troop ukrainian | nytimes com | troop ukrainian border | troop russia | putin order | ukraine say | thousand russian | reuters com | amassed troop | reuters com world | mfa russia | thousand russian troop | world europe | com world europe | look like | russia troop ukraine | reuters com world europe | floor laughing | rolling floor | rolling floor laughing | troop stationed | index pointing | backhand index pointing | backhand index | president putin | russia amassed | russia russian | region ukraine | order troop | russia troop ukraine border | belarus border | ukraine belarus | nato troop | russian federation | order russian | russia building | building troop | near ukrainian | news news | russia amassed troop | order russian troop | com live | near ukrainian border | putin order russian | attack russia | russia border | russian troop russia | putin order russian troop | people ukraine | putin ordered | russia belarus | russia building troop | russian troop ukrainian | putin russian | com putin | russia moved | com wor | border russian troop | donbas region | nytimes com wor | massing troop border | force near | say nato | report russian | ukraine attack | mfa ukraine | troop moving | military action | nytimes com live | troop russia border | russian troop ukrainian border | russian troop eastern | floor laughing rolling floor | laughing rolling floor laughing | floor laughing rolling | rolling floor laughing rolling | laughing rolling floor | laughing rolling | ordered russian | russian troop stationed | start war ukraine | ukraine leave | pentagon say | belarus border ukraine | putin order troop | massing troop | invasion russian | russia trying | russian troop eastern ukraine | ordered russian troop | ukraine invasion | amassed troop ukraine | ukraine ready | exercise near | building troop near\n",
      "Topic #8:\n",
      "russian troop | ukraine border | near ukraine | troop near | near ukraine border | border ukraine | ukraine russian | troop near ukraine | russian force | southern border | com world | ukraine russian troop | troop near ukraine border | russian troop near | defend ukraine | world news | troop near border | war game | russia military | russian troop near ukraine | sent troop | border crisis | military equipment | washingtonpost com | ukraine president | troop amassed | protect ukraine | troop tank | invasion ukraine | secretary state | ukraine military | military drill | war russian | troop buildup | troop massing | outside ukraine | high voltage | police car | situation ukraine | car light | police car light | buildup border | russian attack | putin said | washingtonpost com world | said russian | talk russia | russian troop amassed | number russian | troop near border ukraine | russia crisis | russian troop massing | troop staged | border tension | breakaway region | russian troop staged | troop protect | donetsk luhansk | ukraine invaded | troop poised | staged outside | breaking news | staged outside ukraine | russian troop staged outside | troop staged outside | troop staged outside ukraine | ukraine russia crisis | area ukraine | closer ukraine | antony blinken | russian backed | border invasion | border guard | attack position | russian propaganda | state antony | number russian troop | state antony blinken | western border | massing ukraine | buildup near | secretary state antony | scale invasion | potential russian | troop moved | secretary state antony blinken | com world news | russia demand | amassed ukraine | military buildup | russian troop poised | think nato | official said | troop military | large scale | troop inside | president biden | massing ukraine border | border area | ukraine mean\n",
      "Topic #9:\n",
      "ukraine border | troop ukraine | troop ukraine border | ukraine russia | russian troop | russian border | russian troop ukraine | russian troop ukraine border | nato country | russia border | russia want | border russian | ukraine russian | border nato | amp nato | russian ukraine | deploy troop | ukraine russia border | nato force | russian tank | going war | ukraine russian border | boris johnson | border putin | withdrawing troop | armed force | ukraine border nato | border despite | russian border ukraine | border troop | ukraine border russian | com russian | threat ukraine | troop ukraine russia | border ukraine russia | country ukraine | near russian | russian ukraine border | deployed troop | near russian border | ukraine year | ukraine russia nato | russia pull | soldier ukraine | deployment troop | troop remain | war ukraine russia | war break | prime minister | year ago | nato invade | russia threat | minsk agreement | pulling troop | troop arrive | withdrawing troop ukraine | deployed ukraine | ukraine border putin | pulling troop ukraine | poised invade | ukraine border say | military aid | troop separatist | war fear | troop ukraine border russia | american ukraine | withdrawing troop ukraine border | russian official | org ukraine | clown face | non nato | border like | sound like | border think | exclamation mark | russian troop remain | border right | like russian | tension russian | pulling troop ukraine border | withdrawal troop | aid ukraine | troop nato country | going war russia | ukraine border ukraine | border threat | withdraws troop | crisis live | troop withdrawal | ukraine new | world leader | ukraine let | russia sent | putin biden | russia border crisis | buildup troop | tank ukraine | soldier ukraine border | going war ukraine | pentagon said\n",
      "Topic #10:\n",
      "join nato | ukraine join | com world | ukraine join nato | russian troop | cold war | ukraine border | force ukraine | theguardian com | ukraine want | cnn com | putin want | troop massed | theguardian com world | nato expansion | force ukraine border | nato war | russian troop massed | nato russia | nato amp | want nato | withdraw troop | nato chief | mass troop | com pol | cnn com pol | build russian | leave ukraine | country border | force border | eastern border | troop eastern ukraine | youtube com | say ukraine | com watch | foxnews com | troop country | youtube com watch | want join | massed ukraine | troop enter | ukraine going | build russian troop | world feb | com world feb | theguardian com world feb | russian force ukraine | tank troop | massed ukraine border | enter ukraine | want join nato | russia mass | massed border | troop massed ukraine | world jan | com world jan | theguardian com world jan | despite claim | let ukraine | amid russian | say putin | russian force ukraine border | jens stoltenberg | chief say | troop massed ukraine border | thehill com | join nato russia | russia tension | nato chief say | ukraine know | russia mass troop | invasion imminent | news wor | troop massed border | troop positioned | inside ukraine | msn com news | ukraine want join | russian troop enter | ukraine donbas | mass troop border | russian troop massed ukraine | troop enter ukraine | close border | com news wor | msn com news wor | com eur | border cnn | troop movement | force border ukraine | com policy | com ukr | world russia | cnn com eur | massed near | missile ukraine | ukraine want join nato | thehill com policy | fight war | ukraine force\n"
     ]
    }
   ],
   "source": [
    "n_top_words = 100\n",
    "tf_feature_names = before_war_vect.get_feature_names_out()\n",
    "\n",
    "topics = dict()\n",
    "for topic_idx, topic in enumerate(before_war_lda.components_):\n",
    "    topics[topic_idx] = [tf_feature_names[i] for i in topic.argsort()[:-n_top_words - 1:-1]]\n",
    "    print(\"Topic #%d:\" % (topic_idx+1))\n",
    "    print(\" | \".join([tf_feature_names[i] for i in topic.argsort()[:-n_top_words - 1:-1]]))"
   ]
  },
  {
   "cell_type": "code",
   "execution_count": 16,
   "id": "edc9fad6-5671-4ee3-ac2a-2f6eebbf6d2b",
   "metadata": {},
   "outputs": [
    {
     "name": "stdout",
     "output_type": "stream",
     "text": [
      "Topic #1:\n",
      "ukraine russia | ukraine ukraine | invasion ukraine | people ukraine | year old | ukraine ukraineunderattack | russia invasion | russian pow | ukraine incredible | seen russian | incredible video | video seen | lion lion | pow heart | russian pow heart lion | ukraine incredible video seen | seen russian pow | video seen russian pow | ukraine incredible video | pow heart lion\n",
      "Topic #2:\n",
      "standwithukraine ukraine | ukraine standwithukraine | russian army | index pointing | backhand index pointing | backhand index | ukraine ukrainian | russian force | blue heart | ukraine russian | yellow heart | russian soldier | united state | situation ukraine | folded hand | ukrainian people | help ukraine | ukraine standwithukraine ukraine | heart yellow | heart yellow heart\n",
      "Topic #3:\n",
      "russian invasion | stopputin russianukrainianwar | putinisawarcriminal stopputin russianukrainianwar | standwithukraine ukraineunderattack | terrorussia putinisawarcriminal | terrorussia putinisawarcriminal stopputin | russianukrainianwar russiagohome | russiainvadedukraine terrorussia putinisawarcriminal | russiainvadedukraine terrorussia | stopputin russianukrainianwar russiagohome | russiainvadedukraine terrorussia putinisawarcriminal stopputin | putinisawarcriminal stopputin russianukrainianwar russiagohome | ukraineunderattack russiainvadedukraine terrorussia | ukraineunderattack russiainvadedukraine terrorussia putinisawarcriminal | terrorussia putinisawarcriminal stopputin russianukrainianwar | attack ukraine | odessa ukraine | russian invasion ukraine | standwithukraine ukraineunderattack russiainvadedukraine | putin regime\n",
      "Topic #4:\n",
      "ukrainian army | vladimir putin | russian government | sign stop | mariupol city | killed russian | dropped bomb | president zelensky | central bank | russian fascist | anonymous collective | humanitarian corridor | red heart | want leave | building ukraine | siege leningrad | yelena osipova | international community | love red | love red heart\n",
      "Topic #5:\n",
      "russia ukraine | high voltage | ukrainian force | ukraine ukrainerussiawar | anti war | war crime | freeukraine weareallukrainians | weareallukrainians standwithukraine | standwithukraine stopthewar | freeukraine weareallukrainians standwithukraine | weareallukrainians standwithukraine stopthewar | freeukraine weareallukrainians standwithukraine stopthewar | red heart | russian tank | near kyiv | war protest | child killed | anti war protest | stopwar ukraine | anti tank\n",
      "Topic #6:\n",
      "ukraine need | putin stop | innocent civilian | humanitarian assistance | provide safeairliftukraine | need weapon | ukraine need weapon | russian troop | civilian death | support ukraine | weapon humanitarian | potus provide | defend putin | need weapon humanitarian | ukraine need weapon humanitarian | need weapon humanitarian assistance | weapon humanitarian assistance | humanitarian assistance defend | weapon humanitarian assistance defend | assistance defend\n",
      "Topic #7:\n",
      "war ukraine | exclamation mark | red exclamation | red exclamation mark | armed force | ukraine war | russian aggression | look like | close sky | force ukraine | russia war | sky ukraine | aggression ukraine | close sky ukraine | stopputin stoprussia | security council | skin tone | ukraine nato | stop war | double exclamation\n"
     ]
    }
   ],
   "source": [
    "n_top_words = 20\n",
    "tf_feature_names = war_and_after_vect.get_feature_names_out()\n",
    "\n",
    "topics = dict()\n",
    "for topic_idx, topic in enumerate(war_and_after_lda.components_):\n",
    "    topics[topic_idx] = [tf_feature_names[i] for i in topic.argsort()[:-n_top_words - 1:-1]]\n",
    "    print(\"Topic #%d:\" % (topic_idx+1))\n",
    "    print(\" | \".join([tf_feature_names[i] for i in topic.argsort()[:-n_top_words - 1:-1]]))"
   ]
  },
  {
   "cell_type": "code",
   "execution_count": 15,
   "id": "dbf2cc89-ddc5-4e30-ba57-1f52846ba50a",
   "metadata": {},
   "outputs": [
    {
     "name": "stdout",
     "output_type": "stream",
     "text": [
      "troop ukraine invasion: {'toxicity': 0.0038996928, 'severe_toxicity': 0.000112767804, 'obscene': 0.00025157433, 'threat': 0.00014708242, 'insult': 0.00023992649, 'identity_attack': 0.0003356948}\n"
     ]
    }
   ],
   "source": [
    "before_war_ngram = \"troop ukraine invasion\"\n",
    "before_war_ngram_tox_score = detox.predict(before_war_ngram)\n",
    "\n",
    "print(f\"{before_war_ngram}: {before_war_ngram_tox_score}\")"
   ]
  },
  {
   "cell_type": "code",
   "execution_count": 17,
   "id": "0c6e0266-d907-4d99-bc03-25f94e2bf892",
   "metadata": {},
   "outputs": [
    {
     "name": "stdout",
     "output_type": "stream",
     "text": [
      "putinisawarcriminal stopputin russianukrainianwar : {'toxicity': 0.0038996928, 'severe_toxicity': 0.000112767804, 'obscene': 0.00025157433, 'threat': 0.00014708242, 'insult': 0.00023992649, 'identity_attack': 0.0003356948}\n"
     ]
    }
   ],
   "source": [
    "after_war_ngram = \"putinisawarcriminal stopputin russianukrainianwar \"\n",
    "after_war_ngram_tox_score = detox.predict(before_war_ngram)\n",
    "\n",
    "print(f\"{after_war_ngram}: {after_war_ngram_tox_score}\")"
   ]
  },
  {
   "cell_type": "code",
   "execution_count": 19,
   "id": "babf58df-7b8e-427c-9efb-123d327fa23d",
   "metadata": {},
   "outputs": [
    {
     "name": "stdout",
     "output_type": "stream",
     "text": [
      "putinisawarcriminal stopputin russianukrainianwar \n"
     ]
    }
   ],
   "source": [
    "\n",
    "def preprocess_hashtags(text):\n",
    "    hashtag_pattern = r'#\\w+'\n",
    "    hashtags = re.findall(hashtag_pattern, text)\n",
    "\n",
    "    for hashtag in hashtags:\n",
    "        words = re.sub(r'#', '', hashtag).split()\n",
    "        for word in words:\n",
    "            text = text.replace(hashtag, word)\n",
    "    return text\n",
    "\n",
    "hashtags = \"#putinisawarcriminal #stopputin #russianukrainianwar \"\n",
    "sep_hashtags = preprocess_hashtags(hashtags)\n",
    "print(sep_hashtags)"
   ]
  },
  {
   "cell_type": "code",
   "execution_count": 22,
   "id": "f2d2d11d-70d0-4a59-beb7-9c395f04f755",
   "metadata": {},
   "outputs": [],
   "source": [
    "first_5 = before_war_sample[:5]"
   ]
  },
  {
   "cell_type": "code",
   "execution_count": 23,
   "id": "653de975-2ccc-4031-ab46-708766463edc",
   "metadata": {},
   "outputs": [
    {
     "data": {
      "text/html": [
       "<div>\n",
       "<style scoped>\n",
       "    .dataframe tbody tr th:only-of-type {\n",
       "        vertical-align: middle;\n",
       "    }\n",
       "\n",
       "    .dataframe tbody tr th {\n",
       "        vertical-align: top;\n",
       "    }\n",
       "\n",
       "    .dataframe thead th {\n",
       "        text-align: right;\n",
       "    }\n",
       "</style>\n",
       "<table border=\"1\" class=\"dataframe\">\n",
       "  <thead>\n",
       "    <tr style=\"text-align: right;\">\n",
       "      <th></th>\n",
       "      <th></th>\n",
       "      <th>date</th>\n",
       "      <th>text</th>\n",
       "      <th>retweetCount</th>\n",
       "      <th>hashtags</th>\n",
       "      <th>cleaned_text</th>\n",
       "      <th>sentiment_score</th>\n",
       "    </tr>\n",
       "    <tr>\n",
       "      <th>cleaned_text</th>\n",
       "      <th></th>\n",
       "      <th></th>\n",
       "      <th></th>\n",
       "      <th></th>\n",
       "      <th></th>\n",
       "      <th></th>\n",
       "      <th></th>\n",
       "    </tr>\n",
       "  </thead>\n",
       "  <tbody>\n",
       "    <tr>\n",
       "      <th>aa halvor mcfaul question came bottom line talk common solution one hand weakness amp strength russia willing go war keep ukraine nato question worth asking willing go war</th>\n",
       "      <th>829938</th>\n",
       "      <td>2022-01-11</td>\n",
       "      <td>@aas_halvor @McFaul That question came from th...</td>\n",
       "      <td>0</td>\n",
       "      <td>NaN</td>\n",
       "      <td>aa halvor mcfaul question came bottom line tal...</td>\n",
       "      <td>-0.2500</td>\n",
       "    </tr>\n",
       "    <tr>\n",
       "      <th>aa neu spaghettikozak dsa intl comm dude even saying saying saying nobody worldwide neocon arguing russia trying invade ukraine defend since wan na talk nazi look founding nato</th>\n",
       "      <th>503548</th>\n",
       "      <td>2022-01-21</td>\n",
       "      <td>@AA_Neu @SpaghettiKozak @DSA_Intl_Comm Dude's ...</td>\n",
       "      <td>0</td>\n",
       "      <td>NaN</td>\n",
       "      <td>aa neu spaghettikozak dsa intl comm dude even ...</td>\n",
       "      <td>-0.4588</td>\n",
       "    </tr>\n",
       "    <tr>\n",
       "      <th>aaaaaand nato fluffers enthusiastic war case someone needed proof care ukraine twitter com anders aslund</th>\n",
       "      <th>765045</th>\n",
       "      <td>2022-01-30</td>\n",
       "      <td>Aaaaaand... here's why NATO fluffers are so en...</td>\n",
       "      <td>1</td>\n",
       "      <td>NaN</td>\n",
       "      <td>aaaaaand nato fluffers enthusiastic war case s...</td>\n",
       "      <td>0.3612</td>\n",
       "    </tr>\n",
       "    <tr>\n",
       "      <th>aaaaaannndd putin laughing heard ukraine customer mine troop build actually russian base mile border say base ha active year le ha year winking face twitter com murder fancier</th>\n",
       "      <th>293269</th>\n",
       "      <td>2022-02-15</td>\n",
       "      <td>Aaaaaannndd Putin is laughing ... I heard from...</td>\n",
       "      <td>0</td>\n",
       "      <td>NaN</td>\n",
       "      <td>aaaaaannndd putin laughing heard ukraine custo...</td>\n",
       "      <td>0.6124</td>\n",
       "    </tr>\n",
       "    <tr>\n",
       "      <th>aadbfs noahpinion step war starting u sending troop seems missing going send troop russian troop start ww stubborn ukraine</th>\n",
       "      <th>589096</th>\n",
       "      <td>2022-02-13</td>\n",
       "      <td>@aadbfs @Noahpinion The steps between a war st...</td>\n",
       "      <td>0</td>\n",
       "      <td>NaN</td>\n",
       "      <td>aadbfs noahpinion step war starting u sending ...</td>\n",
       "      <td>-0.8316</td>\n",
       "    </tr>\n",
       "  </tbody>\n",
       "</table>\n",
       "</div>"
      ],
      "text/plain": [
       "                                                                 date  \\\n",
       "cleaned_text                                                            \n",
       "aa halvor mcfaul question came bottom line talk... 829938  2022-01-11   \n",
       "aa neu spaghettikozak dsa intl comm dude even s... 503548  2022-01-21   \n",
       "aaaaaand nato fluffers enthusiastic war case so... 765045  2022-01-30   \n",
       "aaaaaannndd putin laughing heard ukraine custom... 293269  2022-02-15   \n",
       "aadbfs noahpinion step war starting u sending t... 589096  2022-02-13   \n",
       "\n",
       "                                                                                                        text  \\\n",
       "cleaned_text                                                                                                   \n",
       "aa halvor mcfaul question came bottom line talk... 829938  @aas_halvor @McFaul That question came from th...   \n",
       "aa neu spaghettikozak dsa intl comm dude even s... 503548  @AA_Neu @SpaghettiKozak @DSA_Intl_Comm Dude's ...   \n",
       "aaaaaand nato fluffers enthusiastic war case so... 765045  Aaaaaand... here's why NATO fluffers are so en...   \n",
       "aaaaaannndd putin laughing heard ukraine custom... 293269  Aaaaaannndd Putin is laughing ... I heard from...   \n",
       "aadbfs noahpinion step war starting u sending t... 589096  @aadbfs @Noahpinion The steps between a war st...   \n",
       "\n",
       "                                                           retweetCount  \\\n",
       "cleaned_text                                                              \n",
       "aa halvor mcfaul question came bottom line talk... 829938             0   \n",
       "aa neu spaghettikozak dsa intl comm dude even s... 503548             0   \n",
       "aaaaaand nato fluffers enthusiastic war case so... 765045             1   \n",
       "aaaaaannndd putin laughing heard ukraine custom... 293269             0   \n",
       "aadbfs noahpinion step war starting u sending t... 589096             0   \n",
       "\n",
       "                                                          hashtags  \\\n",
       "cleaned_text                                                         \n",
       "aa halvor mcfaul question came bottom line talk... 829938      NaN   \n",
       "aa neu spaghettikozak dsa intl comm dude even s... 503548      NaN   \n",
       "aaaaaand nato fluffers enthusiastic war case so... 765045      NaN   \n",
       "aaaaaannndd putin laughing heard ukraine custom... 293269      NaN   \n",
       "aadbfs noahpinion step war starting u sending t... 589096      NaN   \n",
       "\n",
       "                                                                                                cleaned_text  \\\n",
       "cleaned_text                                                                                                   \n",
       "aa halvor mcfaul question came bottom line talk... 829938  aa halvor mcfaul question came bottom line tal...   \n",
       "aa neu spaghettikozak dsa intl comm dude even s... 503548  aa neu spaghettikozak dsa intl comm dude even ...   \n",
       "aaaaaand nato fluffers enthusiastic war case so... 765045  aaaaaand nato fluffers enthusiastic war case s...   \n",
       "aaaaaannndd putin laughing heard ukraine custom... 293269  aaaaaannndd putin laughing heard ukraine custo...   \n",
       "aadbfs noahpinion step war starting u sending t... 589096  aadbfs noahpinion step war starting u sending ...   \n",
       "\n",
       "                                                           sentiment_score  \n",
       "cleaned_text                                                                \n",
       "aa halvor mcfaul question came bottom line talk... 829938          -0.2500  \n",
       "aa neu spaghettikozak dsa intl comm dude even s... 503548          -0.4588  \n",
       "aaaaaand nato fluffers enthusiastic war case so... 765045           0.3612  \n",
       "aaaaaannndd putin laughing heard ukraine custom... 293269           0.6124  \n",
       "aadbfs noahpinion step war starting u sending t... 589096          -0.8316  "
      ]
     },
     "execution_count": 23,
     "metadata": {},
     "output_type": "execute_result"
    }
   ],
   "source": []
  },
  {
   "cell_type": "code",
   "execution_count": null,
   "id": "f62e3f78-37ac-4e0e-ac7a-bf2efca3f15b",
   "metadata": {},
   "outputs": [],
   "source": []
  }
 ],
 "metadata": {
  "kernelspec": {
   "display_name": "Python 3 (ipykernel)",
   "language": "python",
   "name": "python3"
  },
  "language_info": {
   "codemirror_mode": {
    "name": "ipython",
    "version": 3
   },
   "file_extension": ".py",
   "mimetype": "text/x-python",
   "name": "python",
   "nbconvert_exporter": "python",
   "pygments_lexer": "ipython3",
   "version": "3.9.7"
  }
 },
 "nbformat": 4,
 "nbformat_minor": 5
}
